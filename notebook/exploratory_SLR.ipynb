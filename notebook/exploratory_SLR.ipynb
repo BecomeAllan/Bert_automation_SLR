{
  "nbformat": 4,
  "nbformat_minor": 0,
  "metadata": {
    "colab": {
      "name": "Untitled0.ipynb",
      "provenance": [],
      "collapsed_sections": []
    },
    "kernelspec": {
      "name": "python3",
      "display_name": "Python 3"
    },
    "language_info": {
      "name": "python"
    },
    "accelerator": "GPU"
  },
  "cells": [
    {
      "cell_type": "code",
      "metadata": {
        "id": "XetRxUwqtmhT"
      },
      "source": [
        "import pandas as pd\n",
        "import seaborn as sns\n",
        "import matplotlib.pyplot as plt\n",
        "import matplotlib.ticker as ticker"
      ],
      "execution_count": 172,
      "outputs": []
    },
    {
      "cell_type": "markdown",
      "metadata": {
        "id": "OaMC2AV3IPPT"
      },
      "source": [
        "# About the data\n",
        "\n",
        "The column, decision, is the systematic review and the other columns are made available by the [Semantic Scholar API](https://api.semanticscholar.org/graph/v1)."
      ]
    },
    {
      "cell_type": "code",
      "metadata": {
        "colab": {
          "base_uri": "https://localhost:8080/",
          "height": 559
        },
        "id": "cmR2uKLst5US",
        "outputId": "951956dd-31ba-4117-a452-7a826ae711b4"
      },
      "source": [
        "dt = pd.read_csv( './SLRdata.csv')\n",
        "\n",
        "dt.head()"
      ],
      "execution_count": 173,
      "outputs": [
        {
          "output_type": "execute_result",
          "data": {
            "text/html": [
              "<div>\n",
              "<style scoped>\n",
              "    .dataframe tbody tr th:only-of-type {\n",
              "        vertical-align: middle;\n",
              "    }\n",
              "\n",
              "    .dataframe tbody tr th {\n",
              "        vertical-align: top;\n",
              "    }\n",
              "\n",
              "    .dataframe thead th {\n",
              "        text-align: right;\n",
              "    }\n",
              "</style>\n",
              "<table border=\"1\" class=\"dataframe\">\n",
              "  <thead>\n",
              "    <tr style=\"text-align: right;\">\n",
              "      <th></th>\n",
              "      <th>Unnamed: 0</th>\n",
              "      <th>index</th>\n",
              "      <th>decision</th>\n",
              "      <th>paperId</th>\n",
              "      <th>url</th>\n",
              "      <th>title</th>\n",
              "      <th>abstract</th>\n",
              "      <th>venue</th>\n",
              "      <th>year</th>\n",
              "      <th>referenceCount</th>\n",
              "      <th>citationCount</th>\n",
              "      <th>influentialCitationCount</th>\n",
              "      <th>isOpenAccess</th>\n",
              "      <th>fieldsOfStudy</th>\n",
              "      <th>authors</th>\n",
              "      <th>externalIds.DBLP</th>\n",
              "      <th>externalIds.MAG</th>\n",
              "      <th>externalIds.DOI</th>\n",
              "      <th>externalIds.PubMed</th>\n",
              "      <th>externalIds.PubMedCentral</th>\n",
              "      <th>externalIds.ArXiv</th>\n",
              "      <th>externalIds.ACL</th>\n",
              "    </tr>\n",
              "  </thead>\n",
              "  <tbody>\n",
              "    <tr>\n",
              "      <th>0</th>\n",
              "      <td>0</td>\n",
              "      <td>134</td>\n",
              "      <td>False</td>\n",
              "      <td>14a06d01a7e1d63589e70bff2b342137f922f50a</td>\n",
              "      <td>https://www.semanticscholar.org/paper/14a06d01...</td>\n",
              "      <td>Optimal control and optimization algorithm for...</td>\n",
              "      <td>As we all know, big data and intelligent compu...</td>\n",
              "      <td>NaN</td>\n",
              "      <td>2021.0</td>\n",
              "      <td>18</td>\n",
              "      <td>0</td>\n",
              "      <td>0</td>\n",
              "      <td>False</td>\n",
              "      <td>['Physics', 'Computer Science']</td>\n",
              "      <td>[{'authorId': '9362060', 'name': 'Xiaonan Xiao'}]</td>\n",
              "      <td>NaN</td>\n",
              "      <td>3.133735e+09</td>\n",
              "      <td>10.1088/1742-6596/1800/1/012007</td>\n",
              "      <td>NaN</td>\n",
              "      <td>NaN</td>\n",
              "      <td>NaN</td>\n",
              "      <td>NaN</td>\n",
              "    </tr>\n",
              "    <tr>\n",
              "      <th>1</th>\n",
              "      <td>1</td>\n",
              "      <td>133</td>\n",
              "      <td>False</td>\n",
              "      <td>c0afba52fae6d26091370eb08159d9e253b40227</td>\n",
              "      <td>https://www.semanticscholar.org/paper/c0afba52...</td>\n",
              "      <td>Reinforcement Learning for Placement Optimization</td>\n",
              "      <td>In the past decade, computer systems and chips...</td>\n",
              "      <td>ISPD</td>\n",
              "      <td>2021.0</td>\n",
              "      <td>3</td>\n",
              "      <td>0</td>\n",
              "      <td>0</td>\n",
              "      <td>False</td>\n",
              "      <td>['Computer Science']</td>\n",
              "      <td>[{'authorId': '46684455', 'name': 'Anna Goldie...</td>\n",
              "      <td>conf/ispd/GoldieM21</td>\n",
              "      <td>NaN</td>\n",
              "      <td>10.1145/3439706.3446883</td>\n",
              "      <td>NaN</td>\n",
              "      <td>NaN</td>\n",
              "      <td>NaN</td>\n",
              "      <td>NaN</td>\n",
              "    </tr>\n",
              "    <tr>\n",
              "      <th>2</th>\n",
              "      <td>2</td>\n",
              "      <td>132</td>\n",
              "      <td>True</td>\n",
              "      <td>b905a2de6da71a76f25b322a50ee711a62736e00</td>\n",
              "      <td>https://www.semanticscholar.org/paper/b905a2de...</td>\n",
              "      <td>Securities Analysis and Portfolio Management U...</td>\n",
              "      <td>Financial services institutions are adopting a...</td>\n",
              "      <td>NaN</td>\n",
              "      <td>2019.0</td>\n",
              "      <td>7</td>\n",
              "      <td>0</td>\n",
              "      <td>0</td>\n",
              "      <td>False</td>\n",
              "      <td>NaN</td>\n",
              "      <td>[{'authorId': '123925038', 'name': 'Bhavna Gau...</td>\n",
              "      <td>NaN</td>\n",
              "      <td>NaN</td>\n",
              "      <td>10.2139/ssrn.3332162</td>\n",
              "      <td>NaN</td>\n",
              "      <td>NaN</td>\n",
              "      <td>NaN</td>\n",
              "      <td>NaN</td>\n",
              "    </tr>\n",
              "    <tr>\n",
              "      <th>3</th>\n",
              "      <td>3</td>\n",
              "      <td>131</td>\n",
              "      <td>False</td>\n",
              "      <td>532043b56e30d15c026a90e56ec42aecaa33a76d</td>\n",
              "      <td>https://www.semanticscholar.org/paper/532043b5...</td>\n",
              "      <td>Optimización e inteligencia artificial para la...</td>\n",
              "      <td>Decision making is a transcendental process th...</td>\n",
              "      <td>NaN</td>\n",
              "      <td>2019.0</td>\n",
              "      <td>0</td>\n",
              "      <td>0</td>\n",
              "      <td>0</td>\n",
              "      <td>True</td>\n",
              "      <td>NaN</td>\n",
              "      <td>[{'authorId': None, 'name': 'Humberto Alejandr...</td>\n",
              "      <td>NaN</td>\n",
              "      <td>2.995318e+09</td>\n",
              "      <td>10.35707/indagare/707</td>\n",
              "      <td>NaN</td>\n",
              "      <td>NaN</td>\n",
              "      <td>NaN</td>\n",
              "      <td>NaN</td>\n",
              "    </tr>\n",
              "    <tr>\n",
              "      <th>4</th>\n",
              "      <td>4</td>\n",
              "      <td>129</td>\n",
              "      <td>False</td>\n",
              "      <td>251f4e32727c981ed8cf4a1f9fb2fc580f0c3cfa</td>\n",
              "      <td>https://www.semanticscholar.org/paper/251f4e32...</td>\n",
              "      <td>Hybrid chaos optimization algorithm with artif...</td>\n",
              "      <td>Much research on Artificial Intelligence (AI) ...</td>\n",
              "      <td>Appl. Math. Comput.</td>\n",
              "      <td>2012.0</td>\n",
              "      <td>28</td>\n",
              "      <td>31</td>\n",
              "      <td>0</td>\n",
              "      <td>False</td>\n",
              "      <td>['Computer Science']</td>\n",
              "      <td>[{'authorId': '2108776795', 'name': 'Yimin Yan...</td>\n",
              "      <td>journals/amc/YangWYY12</td>\n",
              "      <td>2.034759e+09</td>\n",
              "      <td>10.1016/j.amc.2011.09.028</td>\n",
              "      <td>NaN</td>\n",
              "      <td>NaN</td>\n",
              "      <td>NaN</td>\n",
              "      <td>NaN</td>\n",
              "    </tr>\n",
              "  </tbody>\n",
              "</table>\n",
              "</div>"
            ],
            "text/plain": [
              "   Unnamed: 0  index  ... externalIds.ArXiv externalIds.ACL\n",
              "0           0    134  ...               NaN             NaN\n",
              "1           1    133  ...               NaN             NaN\n",
              "2           2    132  ...               NaN             NaN\n",
              "3           3    131  ...               NaN             NaN\n",
              "4           4    129  ...               NaN             NaN\n",
              "\n",
              "[5 rows x 22 columns]"
            ]
          },
          "metadata": {},
          "execution_count": 173
        }
      ]
    },
    {
      "cell_type": "code",
      "metadata": {
        "colab": {
          "base_uri": "https://localhost:8080/",
          "height": 325
        },
        "id": "8ZvOAvHWuWPs",
        "outputId": "3f4ee8d3-cf81-4749-e378-95605abc78f8"
      },
      "source": [
        "print(f'Total: {dt[\"decision\"].count()}\\n')\n",
        "ax = sns.countplot(data=dt,x=\"decision\")\n",
        "\n",
        "for p in ax.patches:\n",
        "    x=p.get_bbox().get_points()[:,0]\n",
        "    y=p.get_bbox().get_points()[1,1]\n",
        "    ax.annotate('   {:.0f} \\n {:.2f}%'.format(y,100*y/dt[\"decision\"].count()), (x.mean(), y), \n",
        "            ha='center', va='bottom')"
      ],
      "execution_count": 174,
      "outputs": [
        {
          "output_type": "stream",
          "name": "stdout",
          "text": [
            "Total: 76\n",
            "\n"
          ]
        },
        {
          "output_type": "display_data",
          "data": {
            "image/png": "[encoded data removed]",
            "text/plain": [
              "<Figure size 432x288 with 1 Axes>"
            ]
          },
          "metadata": {
            "needs_background": "light"
          }
        }
      ]
    },
    {
      "cell_type": "code",
      "metadata": {
        "colab": {
          "base_uri": "https://localhost:8080/",
          "height": 279
        },
        "id": "5Td282IlBzj_",
        "outputId": "e99ac3ad-26af-4af3-8f25-982b33055fbc"
      },
      "source": [
        "dt.year = dt.year.astype(int)\n",
        "\n",
        "fig, axs = plt.subplots(ncols=1,nrows=1, figsize=(11,4))\n",
        "\n",
        "ax = sns.countplot(data=dt,x='year',hue=\"decision\", ax = axs)\n",
        "\n",
        "for p in ax.patches:\n",
        "    x=p.get_bbox().get_points()[:,0]\n",
        "    y=p.get_bbox().get_points()[1,1]\n",
        "    ax.annotate('{:.0f}'.format(y), (x.mean(), y), \n",
        "            ha='center', va='bottom')"
      ],
      "execution_count": 175,
      "outputs": [
        {
          "output_type": "display_data",
          "data": {
            "image/png": "[encoded data removed]",
            "text/plain": [
              "<Figure size 792x288 with 1 Axes>"
            ]
          },
          "metadata": {
            "needs_background": "light"
          }
        }
      ]
    },
    {
      "cell_type": "code",
      "metadata": {
        "colab": {
          "base_uri": "https://localhost:8080/",
          "height": 498
        },
        "id": "Qd33LBJSxyvZ",
        "outputId": "0695ebec-c22f-4976-d3b7-af5f89af2c4a"
      },
      "source": [
        "fig, axs = plt.subplots(ncols=2,nrows=2, figsize=(11,8))\n",
        "\n",
        "dt_hist = dt.loc[:, ['title', 'abstract', 'decision']].copy()\n",
        "\n",
        "dt_hist['title'] = dt['title'].apply(lambda x : len(x.split()))\n",
        "dt_hist['abstract'] = dt['abstract'].apply(lambda x : len(x.split()))\n",
        "\n",
        "\n",
        "\n",
        "ax1 = sns.histplot(dt_hist.title, ax=axs[0,0])\n",
        "ax1.set(xlabel='')\n",
        "\n",
        "ax2 = sns.histplot(dt_hist.abstract, ax=axs[0,1])\n",
        "ax2.set(xlabel='')\n",
        "\n",
        "ax1 = sns.histplot(data= dt_hist, x= 'title', hue='decision', ax=axs[1,0])\n",
        "ax1.set(xlabel='title_words')\n",
        "\n",
        "ax2 = sns.histplot(data= dt_hist,x= 'abstract', hue='decision' , ax=axs[1,1])\n",
        "ax2.set(xlabel='abstract_words')\n",
        "\n",
        "# fig.set_size_inches()\n",
        "\n",
        "plt.show()"
      ],
      "execution_count": 176,
      "outputs": [
        {
          "output_type": "display_data",
          "data": {
            "image/png": "[encoded data removed]",
            "text/plain": [
              "<Figure size 792x576 with 4 Axes>"
            ]
          },
          "metadata": {
            "needs_background": "light"
          }
        }
      ]
    },
    {
      "cell_type": "code",
      "metadata": {
        "colab": {
          "base_uri": "https://localhost:8080/",
          "height": 279
        },
        "id": "9GANYTKp0Xrm",
        "outputId": "9818ab43-4a11-4b30-d425-32defc453704"
      },
      "source": [
        "fig, axs = plt.subplots(ncols=2,  figsize=(11,4))\n",
        "\n",
        "ax1 = sns.boxplot(data=dt,x=\"decision\", y='citationCount', ax= axs[0])\n",
        "ax2 = sns.boxplot(data=dt,x=\"decision\", y='referenceCount',ax= axs[1])\n",
        "\n",
        "plt.show()"
      ],
      "execution_count": 177,
      "outputs": [
        {
          "output_type": "display_data",
          "data": {
            "image/png": "[encoded data removed]",
            "text/plain": [
              "<Figure size 792x288 with 2 Axes>"
            ]
          },
          "metadata": {
            "needs_background": "light"
          }
        }
      ]
    },
    {
      "cell_type": "code",
      "metadata": {
        "colab": {
          "base_uri": "https://localhost:8080/",
          "height": 279
        },
        "id": "Dm8sYu5-6_Yb",
        "outputId": "25109860-1787-4734-bd51-cdf580b5471a"
      },
      "source": [
        "fig, axs = plt.subplots(ncols=1)\n",
        "dt['fieldsOfStudy'] = dt['fieldsOfStudy'].dropna().apply(lambda x: eval(x))\n",
        "\n",
        "dt_fields_decison = dt.loc[:,['fieldsOfStudy','decision']].copy()\n",
        "\n",
        "dt_fields_decison = dt_fields_decison.explode('fieldsOfStudy')\n",
        "\n",
        "sns.countplot(x='fieldsOfStudy', data=dt_fields_decison, hue='decision', ax = axs)\n",
        "fig.set_size_inches(11,4)\n",
        "\n",
        "\n",
        "plt.show()"
      ],
      "execution_count": 178,
      "outputs": [
        {
          "output_type": "display_data",
          "data": {
            "image/png": "[encoded data removed]",
            "text/plain": [
              "<Figure size 792x288 with 1 Axes>"
            ]
          },
          "metadata": {
            "needs_background": "light"
          }
        }
      ]
    }
  ]
}