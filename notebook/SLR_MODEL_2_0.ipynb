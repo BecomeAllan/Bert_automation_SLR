{
  "cells": [
    {
      "cell_type": "code",
      "execution_count": 1,
      "metadata": {
        "colab": {
          "base_uri": "https://localhost:8080/"
        },
        "id": "PH9pxDMua_Nu",
        "outputId": "31306d76-32ba-4b36-8c3b-204357437802"
      },
      "outputs": [
        {
          "output_type": "stream",
          "name": "stdout",
          "text": [
            "Requirement already satisfied: torchmetrics==0.6.2 in /usr/local/lib/python3.7/dist-packages (0.6.2)\n",
            "Requirement already satisfied: packaging in /usr/local/lib/python3.7/dist-packages (from torchmetrics==0.6.2) (21.3)\n",
            "Requirement already satisfied: numpy>=1.17.2 in /usr/local/lib/python3.7/dist-packages (from torchmetrics==0.6.2) (1.19.5)\n",
            "Requirement already satisfied: torch>=1.3.1 in /usr/local/lib/python3.7/dist-packages (from torchmetrics==0.6.2) (1.10.0+cu111)\n",
            "Requirement already satisfied: typing-extensions in /usr/local/lib/python3.7/dist-packages (from torch>=1.3.1->torchmetrics==0.6.2) (3.10.0.2)\n",
            "Requirement already satisfied: pyparsing!=3.0.5,>=2.0.2 in /usr/local/lib/python3.7/dist-packages (from packaging->torchmetrics==0.6.2) (3.0.6)\n",
            "Requirement already satisfied: transformers in /usr/local/lib/python3.7/dist-packages (4.15.0)\n",
            "Requirement already satisfied: pyyaml>=5.1 in /usr/local/lib/python3.7/dist-packages (from transformers) (5.4.1)\n",
            "Requirement already satisfied: huggingface-hub<1.0,>=0.1.0 in /usr/local/lib/python3.7/dist-packages (from transformers) (0.4.0)\n",
            "Requirement already satisfied: regex!=2019.12.17 in /usr/local/lib/python3.7/dist-packages (from transformers) (2019.12.20)\n",
            "Requirement already satisfied: filelock in /usr/local/lib/python3.7/dist-packages (from transformers) (3.4.2)\n",
            "Requirement already satisfied: tqdm>=4.27 in /usr/local/lib/python3.7/dist-packages (from transformers) (4.62.3)\n",
            "Requirement already satisfied: sacremoses in /usr/local/lib/python3.7/dist-packages (from transformers) (0.0.47)\n",
            "Requirement already satisfied: packaging>=20.0 in /usr/local/lib/python3.7/dist-packages (from transformers) (21.3)\n",
            "Requirement already satisfied: importlib-metadata in /usr/local/lib/python3.7/dist-packages (from transformers) (4.10.0)\n",
            "Requirement already satisfied: numpy>=1.17 in /usr/local/lib/python3.7/dist-packages (from transformers) (1.19.5)\n",
            "Requirement already satisfied: tokenizers<0.11,>=0.10.1 in /usr/local/lib/python3.7/dist-packages (from transformers) (0.10.3)\n",
            "Requirement already satisfied: requests in /usr/local/lib/python3.7/dist-packages (from transformers) (2.23.0)\n",
            "Requirement already satisfied: typing-extensions>=3.7.4.3 in /usr/local/lib/python3.7/dist-packages (from huggingface-hub<1.0,>=0.1.0->transformers) (3.10.0.2)\n",
            "Requirement already satisfied: pyparsing!=3.0.5,>=2.0.2 in /usr/local/lib/python3.7/dist-packages (from packaging>=20.0->transformers) (3.0.6)\n",
            "Requirement already satisfied: zipp>=0.5 in /usr/local/lib/python3.7/dist-packages (from importlib-metadata->transformers) (3.7.0)\n",
            "Requirement already satisfied: certifi>=2017.4.17 in /usr/local/lib/python3.7/dist-packages (from requests->transformers) (2021.10.8)\n",
            "Requirement already satisfied: chardet<4,>=3.0.2 in /usr/local/lib/python3.7/dist-packages (from requests->transformers) (3.0.4)\n",
            "Requirement already satisfied: idna<3,>=2.5 in /usr/local/lib/python3.7/dist-packages (from requests->transformers) (2.10)\n",
            "Requirement already satisfied: urllib3!=1.25.0,!=1.25.1,<1.26,>=1.21.1 in /usr/local/lib/python3.7/dist-packages (from requests->transformers) (1.24.3)\n",
            "Requirement already satisfied: joblib in /usr/local/lib/python3.7/dist-packages (from sacremoses->transformers) (1.1.0)\n",
            "Requirement already satisfied: click in /usr/local/lib/python3.7/dist-packages (from sacremoses->transformers) (7.1.2)\n",
            "Requirement already satisfied: six in /usr/local/lib/python3.7/dist-packages (from sacremoses->transformers) (1.15.0)\n",
            "Requirement already satisfied: plotly in /usr/local/lib/python3.7/dist-packages (5.5.0)\n",
            "Requirement already satisfied: six in /usr/local/lib/python3.7/dist-packages (from plotly) (1.15.0)\n",
            "Requirement already satisfied: tenacity>=6.2.0 in /usr/local/lib/python3.7/dist-packages (from plotly) (8.0.1)\n",
            "Requirement already satisfied: pyyaml==5.4.1 in /usr/local/lib/python3.7/dist-packages (5.4.1)\n"
          ]
        }
      ],
      "source": [
        "!pip install torchmetrics==0.6.2\n",
        "!pip install transformers\n",
        "!pip install plotly -U\n",
        "!pip install pyyaml==5.4.1"
      ]
    },
    {
      "cell_type": "code",
      "execution_count": 2,
      "metadata": {
        "id": "afJiOFV2XeR2"
      },
      "outputs": [],
      "source": [
        "import torch.nn.functional as F\n",
        "import torch.nn as nn\n",
        "import math\n",
        "import torch\n",
        "import numpy as np\n",
        "import pandas as pd\n",
        "\n",
        "import transformers\n",
        "from transformers import BertModel, BertTokenizer, AdamW, get_linear_schedule_with_warmup\n"
      ]
    },
    {
      "cell_type": "code",
      "execution_count": 3,
      "metadata": {
        "id": "bmJsu_rmbOYY"
      },
      "outputs": [],
      "source": [
        "from copy import deepcopy, copy"
      ]
    },
    {
      "cell_type": "markdown",
      "metadata": {
        "id": "No9ebkrZuLqc"
      },
      "source": [
        "# Seed"
      ]
    },
    {
      "cell_type": "code",
      "execution_count": 258,
      "metadata": {
        "id": "RefYKEi2uX0w"
      },
      "outputs": [],
      "source": [
        "SEED = 2222\n",
        "\n",
        "gen_seed = torch.Generator().manual_seed(SEED)"
      ]
    },
    {
      "cell_type": "markdown",
      "metadata": {
        "id": "AoBDu71JdC0c"
      },
      "source": [
        "# Model\n"
      ]
    },
    {
      "cell_type": "code",
      "execution_count": 168,
      "metadata": {
        "colab": {
          "base_uri": "https://localhost:8080/"
        },
        "id": "NTmf5NImyAjJ",
        "outputId": "59a6513b-40a6-4010-c678-f4a5825e4192"
      },
      "outputs": [
        {
          "output_type": "stream",
          "name": "stdout",
          "text": [
            "Overwriting initializer.py\n"
          ]
        }
      ],
      "source": [
        "%%writefile initializer.py\n",
        "\n",
        "class initializer:\n",
        "  def __init__(self, MODEL_NAME, **config):    \n",
        "    self.MODEL_NAME = MODEL_NAME\n",
        "\n",
        "    model = config.get(\"model\")\n",
        "    tokenizer = config.get(\"tokenizer\")\n",
        "\n",
        "    # print(model)\n",
        "    self.model = model.from_pretrained(MODEL_NAME, \n",
        "                                       return_dict=True,\n",
        "                                       output_attentions = False)\n",
        "    self.tokenizer = tokenizer.from_pretrained(MODEL_NAME,\n",
        "                                               do_lower_case = True)"
      ]
    },
    {
      "cell_type": "code",
      "execution_count": 169,
      "metadata": {
        "colab": {
          "base_uri": "https://localhost:8080/"
        },
        "id": "3K6IvbyE3Gdk",
        "outputId": "08298d99-ca26-4b27-9d4c-a6885a7401b3"
      },
      "outputs": [
        {
          "output_type": "stream",
          "name": "stderr",
          "text": [
            "Some weights of the model checkpoint at bert-base-uncased were not used when initializing BertModel: ['cls.predictions.bias', 'cls.predictions.transform.dense.bias', 'cls.predictions.transform.LayerNorm.bias', 'cls.predictions.decoder.weight', 'cls.predictions.transform.LayerNorm.weight', 'cls.predictions.transform.dense.weight', 'cls.seq_relationship.weight', 'cls.seq_relationship.bias']\n",
            "- This IS expected if you are initializing BertModel from the checkpoint of a model trained on another task or with another architecture (e.g. initializing a BertForSequenceClassification model from a BertForPreTraining model).\n",
            "- This IS NOT expected if you are initializing BertModel from the checkpoint of a model that you expect to be exactly identical (initializing a BertForSequenceClassification model from a BertForSequenceClassification model).\n"
          ]
        }
      ],
      "source": [
        "from initializer import initializer\n",
        "\n",
        "a = {\n",
        "    \"model\": BertModel,\n",
        "    \"tokenizer\": BertTokenizer\n",
        "     }\n",
        "\n",
        "initializer_bert = initializer('bert-base-uncased', **a)"
      ]
    },
    {
      "cell_type": "code",
      "execution_count": 170,
      "metadata": {
        "id": "Hn-Vg_0YdB7F"
      },
      "outputs": [],
      "source": [
        "class Encoder(nn.Module):\n",
        "  def __init__(self, layers, freeze_bert):\n",
        "\n",
        "    super(Encoder, self).__init__()\n",
        "    # bert initializer\n",
        "    self.model = deepcopy(initializer_bert.model)\n",
        "\n",
        "    if freeze_bert:\n",
        "      for param in self.model.parameters():\n",
        "        param.requires_grad = freeze_bert\n",
        "\n",
        "    old_model_encoder = self.model.encoder.layer\n",
        "    new_model_encoder = nn.ModuleList()\n",
        "\n",
        "    for i in layers:\n",
        "      new_model_encoder.append(old_model_encoder[i])\n",
        "\n",
        "    self.model.encoder.layer = new_model_encoder\n",
        "  \n",
        "  def forward(self, **x):\n",
        "    return self.model(**x)\n",
        "\n",
        "\n",
        "class SLR_Classifier(nn.Module):\n",
        "\n",
        "  def __init__(self, **data):\n",
        "    super(SLR_Classifier, self).__init__()\n",
        "    self.dummy_param = nn.Parameter(torch.empty(0))\n",
        "    \n",
        "    self.Encoder = Encoder(layers = data.get(\"bert_layers\",  range(12)),\n",
        "                           freeze_bert = data.get(\"freeze_bert\",  False))\n",
        "\n",
        "    self.classifier = nn.Sequential(\n",
        "            # nn.LayerNorm(self.Encoder.model.config.hidden_size),\n",
        "            nn.Dropout(data.get(\"drop\", 0.5)),\n",
        "            nn.BatchNorm1d(self.Encoder.model.config.hidden_size),\n",
        "            # nn.Dropout(data.get(\"drop\", 0.5)),\n",
        "            nn.Linear(self.Encoder.model.config.hidden_size, 1),\n",
        "            nn.Sigmoid(),\n",
        "        )\n",
        "    \n",
        "    nn.init.normal_(self.classifier[2].weight, mean=0, std=0.00001)\n",
        "    nn.init.zeros_(self.classifier[2].bias)\n",
        "\n",
        "  def forward(self, **input):\n",
        "    \n",
        "\n",
        "    predict = self.Encoder(**input)\n",
        "    predict = self.classifier(predict['pooler_output'])\n",
        "    return predict.to(float)\n"
      ]
    },
    {
      "cell_type": "code",
      "execution_count": 171,
      "metadata": {
        "id": "PfinQdy523a9"
      },
      "outputs": [],
      "source": [
        "torch.clear_autocast_cache()\n",
        "torch.manual_seed(seed = SEED)\n",
        "\n",
        "model = SLR_Classifier(bert_layers = range(2))\n",
        "\n",
        "model\n",
        "del model"
      ]
    },
    {
      "cell_type": "markdown",
      "metadata": {
        "id": "Ncac2UqWsanJ"
      },
      "source": [
        "# Datasets"
      ]
    },
    {
      "cell_type": "code",
      "execution_count": 275,
      "metadata": {
        "id": "7Ine5KCX5HC2"
      },
      "outputs": [],
      "source": [
        "\n",
        "import torch\n",
        "import torch.nn as nn\n",
        "from torch.utils.data import Dataset, DataLoader\n",
        "\n",
        "class SLR_DataSet(Dataset):\n",
        "\n",
        "  def __init__(self, **args):\n",
        "    \n",
        "    self.tokenizer = args.get('tokenizer')\n",
        "    self.data = args.get('data')\n",
        "    self.max_token_len = args.get(\"max_token_len\", 512)\n",
        "    self.INPUT_NAME = args.get(\"input\", 'x')\n",
        "    self.LABEL_NAME = args.get(\"output\", 'y')\n",
        "\n",
        "    \n",
        "  def __len__(self):\n",
        "    return len(self.data)\n",
        "\n",
        "  def __getitem__(self, index: int):\n",
        "    data_row = self.data.iloc[index]\n",
        "\n",
        "    comment_text = data_row[self.INPUT_NAME]\n",
        "    labels = data_row[self.LABEL_NAME]\n",
        "\n",
        "    encoding = self.tokenizer.encode_plus(\n",
        "      comment_text,\n",
        "      add_special_tokens=True,\n",
        "      max_length=self.max_token_len,\n",
        "      return_token_type_ids=False,\n",
        "      padding=\"max_length\",\n",
        "      truncation=True,\n",
        "      return_attention_mask=True,\n",
        "      return_tensors='pt',\n",
        "    )\n",
        "\n",
        "    return dict(\n",
        "      input_ids=encoding[\"input_ids\"].flatten(),\n",
        "      attention_mask=encoding[\"attention_mask\"].flatten(),\n",
        "      labels=torch.tensor([torch.tensor(labels).to(int)])\n",
        "    )"
      ]
    },
    {
      "cell_type": "code",
      "execution_count": 276,
      "metadata": {
        "colab": {
          "base_uri": "https://localhost:8080/",
          "height": 0
        },
        "id": "5puvdISL_epN",
        "outputId": "54c9de72-8aa2-4e91-fc02-3f00bef189f1"
      },
      "outputs": [
        {
          "output_type": "stream",
          "name": "stdout",
          "text": [
            "0    47\n",
            "1    28\n",
            "Name: decision, dtype: int64\n",
            "\n",
            "\n",
            "0    0.626667\n",
            "1    0.373333\n",
            "Name: decision, dtype: float64\n",
            "\n",
            "\n",
            "Total: (75, 12)\n"
          ]
        },
        {
          "output_type": "execute_result",
          "data": {
            "text/html": [
              "\n",
              "  <div id=\"df-fd6b6fbc-3b50-47a1-bf03-4ecd725bc6b2\">\n",
              "    <div class=\"colab-df-container\">\n",
              "      <div>\n",
              "<style scoped>\n",
              "    .dataframe tbody tr th:only-of-type {\n",
              "        vertical-align: middle;\n",
              "    }\n",
              "\n",
              "    .dataframe tbody tr th {\n",
              "        vertical-align: top;\n",
              "    }\n",
              "\n",
              "    .dataframe thead th {\n",
              "        text-align: right;\n",
              "    }\n",
              "</style>\n",
              "<table border=\"1\" class=\"dataframe\">\n",
              "  <thead>\n",
              "    <tr style=\"text-align: right;\">\n",
              "      <th></th>\n",
              "      <th>index_SLR</th>\n",
              "      <th>title</th>\n",
              "      <th>abstract</th>\n",
              "      <th>text</th>\n",
              "      <th>decision</th>\n",
              "      <th>text2</th>\n",
              "      <th>text3</th>\n",
              "      <th>text4</th>\n",
              "      <th>text5</th>\n",
              "      <th>text6</th>\n",
              "      <th>text7</th>\n",
              "      <th>text8</th>\n",
              "    </tr>\n",
              "  </thead>\n",
              "  <tbody>\n",
              "    <tr>\n",
              "      <th>30</th>\n",
              "      <td>80</td>\n",
              "      <td>Artificial intelligence-based control for torq...</td>\n",
              "      <td>In this research paper, a control mechanism pr...</td>\n",
              "      <td>Artificial intelligence-based control for torq...</td>\n",
              "      <td>0</td>\n",
              "      <td>In this research paper, a control mechanism pr...</td>\n",
              "      <td>Artificial intelligence-based control for torq...</td>\n",
              "      <td>The problem is to find optimal values of scal...</td>\n",
              "      <td>Artificial intelligence-based control for torq...</td>\n",
              "      <td>meta-heuristic control scheme proposed to obta...</td>\n",
              "      <td>in this research paper, a dynamic control mech...</td>\n",
              "      <td>in this research paper, a control mechanism pr...</td>\n",
              "    </tr>\n",
              "    <tr>\n",
              "      <th>70</th>\n",
              "      <td>16</td>\n",
              "      <td>Optimization of Decision-Making in Artificial ...</td>\n",
              "      <td>The paper describes a new approach to the mode...</td>\n",
              "      <td>Optimization of Decision-Making in Artificial ...</td>\n",
              "      <td>0</td>\n",
              "      <td>The paper describes a new approach to the mode...</td>\n",
              "      <td>Optimization of Decision-Making in Artificial ...</td>\n",
              "      <td>In this process of optimization, emphasis is ...</td>\n",
              "      <td>Optimization of Decision-Making in Artificial ...</td>\n",
              "      <td>the paper describes a new approach to the mode...</td>\n",
              "      <td>the paper mainly describes a new approach to w...</td>\n",
              "      <td>the paper describes a new approach to the mode...</td>\n",
              "    </tr>\n",
              "  </tbody>\n",
              "</table>\n",
              "</div>\n",
              "      <button class=\"colab-df-convert\" onclick=\"convertToInteractive('df-fd6b6fbc-3b50-47a1-bf03-4ecd725bc6b2')\"\n",
              "              title=\"Convert this dataframe to an interactive table.\"\n",
              "              style=\"display:none;\">\n",
              "        \n",
              "  <svg xmlns=\"http://www.w3.org/2000/svg\" height=\"24px\"viewBox=\"0 0 24 24\"\n",
              "       width=\"24px\">\n",
              "    <path d=\"M0 0h24v24H0V0z\" fill=\"none\"/>\n",
              "    <path d=\"M18.56 5.44l.94 2.06.94-2.06 2.06-.94-2.06-.94-.94-2.06-.94 2.06-2.06.94zm-11 1L8.5 8.5l.94-2.06 2.06-.94-2.06-.94L8.5 2.5l-.94 2.06-2.06.94zm10 10l.94 2.06.94-2.06 2.06-.94-2.06-.94-.94-2.06-.94 2.06-2.06.94z\"/><path d=\"M17.41 7.96l-1.37-1.37c-.4-.4-.92-.59-1.43-.59-.52 0-1.04.2-1.43.59L10.3 9.45l-7.72 7.72c-.78.78-.78 2.05 0 2.83L4 21.41c.39.39.9.59 1.41.59.51 0 1.02-.2 1.41-.59l7.78-7.78 2.81-2.81c.8-.78.8-2.07 0-2.86zM5.41 20L4 18.59l7.72-7.72 1.47 1.35L5.41 20z\"/>\n",
              "  </svg>\n",
              "      </button>\n",
              "      \n",
              "  <style>\n",
              "    .colab-df-container {\n",
              "      display:flex;\n",
              "      flex-wrap:wrap;\n",
              "      gap: 12px;\n",
              "    }\n",
              "\n",
              "    .colab-df-convert {\n",
              "      background-color: #E8F0FE;\n",
              "      border: none;\n",
              "      border-radius: 50%;\n",
              "      cursor: pointer;\n",
              "      display: none;\n",
              "      fill: #1967D2;\n",
              "      height: 32px;\n",
              "      padding: 0 0 0 0;\n",
              "      width: 32px;\n",
              "    }\n",
              "\n",
              "    .colab-df-convert:hover {\n",
              "      background-color: #E2EBFA;\n",
              "      box-shadow: 0px 1px 2px rgba(60, 64, 67, 0.3), 0px 1px 3px 1px rgba(60, 64, 67, 0.15);\n",
              "      fill: #174EA6;\n",
              "    }\n",
              "\n",
              "    [theme=dark] .colab-df-convert {\n",
              "      background-color: #3B4455;\n",
              "      fill: #D2E3FC;\n",
              "    }\n",
              "\n",
              "    [theme=dark] .colab-df-convert:hover {\n",
              "      background-color: #434B5C;\n",
              "      box-shadow: 0px 1px 3px 1px rgba(0, 0, 0, 0.15);\n",
              "      filter: drop-shadow(0px 1px 2px rgba(0, 0, 0, 0.3));\n",
              "      fill: #FFFFFF;\n",
              "    }\n",
              "  </style>\n",
              "\n",
              "      <script>\n",
              "        const buttonEl =\n",
              "          document.querySelector('#df-fd6b6fbc-3b50-47a1-bf03-4ecd725bc6b2 button.colab-df-convert');\n",
              "        buttonEl.style.display =\n",
              "          google.colab.kernel.accessAllowed ? 'block' : 'none';\n",
              "\n",
              "        async function convertToInteractive(key) {\n",
              "          const element = document.querySelector('#df-fd6b6fbc-3b50-47a1-bf03-4ecd725bc6b2');\n",
              "          const dataTable =\n",
              "            await google.colab.kernel.invokeFunction('convertToInteractive',\n",
              "                                                     [key], {});\n",
              "          if (!dataTable) return;\n",
              "\n",
              "          const docLinkHtml = 'Like what you see? Visit the ' +\n",
              "            '<a target=\"_blank\" href=https://colab.research.google.com/notebooks/data_table.ipynb>data table notebook</a>'\n",
              "            + ' to learn more about interactive tables.';\n",
              "          element.innerHTML = '';\n",
              "          dataTable['output_type'] = 'display_data';\n",
              "          await google.colab.output.renderOutput(dataTable, element);\n",
              "          const docLink = document.createElement('div');\n",
              "          docLink.innerHTML = docLinkHtml;\n",
              "          element.appendChild(docLink);\n",
              "        }\n",
              "      </script>\n",
              "    </div>\n",
              "  </div>\n",
              "  "
            ],
            "text/plain": [
              "    index_SLR  ...                                              text8\n",
              "30         80  ...  in this research paper, a control mechanism pr...\n",
              "70         16  ...  the paper describes a new approach to the mode...\n",
              "\n",
              "[2 rows x 12 columns]"
            ]
          },
          "metadata": {},
          "execution_count": 276
        }
      ],
      "source": [
        "DATA_path = '/content/SLRdata_cleaned_augmentation.csv'\n",
        "test_DATA_path = '/content/SLR_NEW_forget_papers.csv'\n",
        "\n",
        "\n",
        "SLR = pd.read_csv(DATA_path)\n",
        "SLR_test = pd.read_csv(test_DATA_path)\n",
        "\n",
        "SLR = SLR.drop('Unnamed: 0', axis=1)\n",
        "SLR_test = SLR_test.drop('Unnamed: 0', axis=1)\n",
        "SLR_test = SLR_test.rename(columns={'index': 'index_SLR'})\n",
        "\n",
        "print(SLR['decision'].value_counts())\n",
        "print('\\n')\n",
        "print(SLR['decision'].value_counts(normalize=True))\n",
        "print('\\n')\n",
        "\n",
        "print('Total:' , SLR.shape)\n",
        "SLR.sample(2)\n",
        "\n"
      ]
    },
    {
      "cell_type": "markdown",
      "source": [
        "## EDA"
      ],
      "metadata": {
        "id": "lNNeSiMxszFj"
      }
    },
    {
      "cell_type": "code",
      "source": [
        "\n",
        "import matplotlib.pyplot as plt\n",
        "import seaborn as sns\n",
        "import numpy as np\n",
        "\n",
        "data = pd.concat([SLR_test, SLR]).reset_index()\n",
        "data.decision = data.decision.replace({0: 'Rejected',\n",
        "                   1: 'Accepted'})\n",
        "\n",
        "\n",
        "data.abstract = data['abstract'].map(lambda x: len(initializer_bert.tokenizer.encode(x)) )\n",
        "splited_data = list(data.groupby('decision'))\n",
        "\n",
        "\n",
        "# Increase the plot size and font size.\n",
        "sns.set(style='darkgrid')\n",
        "sns.set(font_scale=1.5)\n",
        "plt.rcParams[\"figure.figsize\"] = (10,5)\n",
        "\n",
        "sns.distplot(splited_data[0][1].abstract,\n",
        "             color='green',\n",
        "             kde=False,\n",
        "             norm_hist=True,\n",
        "              rug=False,\n",
        "              label = splited_data[0][0])\n",
        "\n",
        "sns.distplot(splited_data[1][1].abstract,\n",
        "             color = 'red',\n",
        "             kde=False,\n",
        "             rug=False,\n",
        "             norm_hist=True,\n",
        "             label = splited_data[1][0])\n",
        "\n",
        "plt.xlabel('Abstract token length')\n",
        "plt.ylabel('Relative Frequency')\n",
        "plt.legend(loc='upper right')"
      ],
      "metadata": {
        "colab": {
          "base_uri": "https://localhost:8080/",
          "height": 0
        },
        "id": "G2bClaSBs0n3",
        "outputId": "eb342a27-f264-4a0c-a95a-8bdc9fbdac0c"
      },
      "execution_count": 277,
      "outputs": [
        {
          "output_type": "stream",
          "name": "stderr",
          "text": [
            "/usr/local/lib/python3.7/dist-packages/seaborn/distributions.py:2619: FutureWarning:\n",
            "\n",
            "`distplot` is a deprecated function and will be removed in a future version. Please adapt your code to use either `displot` (a figure-level function with similar flexibility) or `histplot` (an axes-level function for histograms).\n",
            "\n"
          ]
        },
        {
          "output_type": "execute_result",
          "data": {
            "text/plain": [
              "<matplotlib.legend.Legend at 0x7f1ada7ffe50>"
            ]
          },
          "metadata": {},
          "execution_count": 277
        },
        {
          "output_type": "display_data",
          "data": {
            "image/png": "[encoded data removed]",
            "text/plain": [
              "<Figure size 720x360 with 1 Axes>"
            ]
          },
          "metadata": {}
        }
      ]
    },
    {
      "cell_type": "code",
      "source": [
        "# Increase the plot size and font size.\n",
        "sns.set(style='darkgrid')\n",
        "sns.set(font_scale=1.5)\n",
        "plt.rcParams[\"figure.figsize\"] = (10,5)\n",
        "\n",
        "sns.distplot(data.abstract,\n",
        "            #  color='green',\n",
        "             kde=False,\n",
        "             norm_hist=True,\n",
        "              rug=False)\n",
        "\n",
        "plt.xlabel('Abstract token length')\n",
        "plt.ylabel('Relative Frequency')\n"
      ],
      "metadata": {
        "colab": {
          "base_uri": "https://localhost:8080/",
          "height": 0
        },
        "id": "o-7lKdhKs4Vo",
        "outputId": "37636b9f-37e6-4fa3-ad13-a81beee3a7da"
      },
      "execution_count": 278,
      "outputs": [
        {
          "output_type": "stream",
          "name": "stderr",
          "text": [
            "/usr/local/lib/python3.7/dist-packages/seaborn/distributions.py:2619: FutureWarning:\n",
            "\n",
            "`distplot` is a deprecated function and will be removed in a future version. Please adapt your code to use either `displot` (a figure-level function with similar flexibility) or `histplot` (an axes-level function for histograms).\n",
            "\n"
          ]
        },
        {
          "output_type": "execute_result",
          "data": {
            "text/plain": [
              "Text(0, 0.5, 'Relative Frequency')"
            ]
          },
          "metadata": {},
          "execution_count": 278
        },
        {
          "output_type": "display_data",
          "data": {
            "image/png": "[encoded data removed]",
            "text/plain": [
              "<Figure size 720x360 with 1 Axes>"
            ]
          },
          "metadata": {}
        }
      ]
    },
    {
      "cell_type": "markdown",
      "metadata": {
        "id": "3TZ6a8eGsz6x"
      },
      "source": [
        "## spliting the data"
      ]
    },
    {
      "cell_type": "markdown",
      "metadata": {
        "id": "n38laPm3TL2s"
      },
      "source": [
        "### Utils\n",
        "\n",
        "Function to automatization"
      ]
    },
    {
      "cell_type": "code",
      "execution_count": 279,
      "metadata": {
        "id": "JznrjF1qTJuk"
      },
      "outputs": [],
      "source": [
        "from sklearn.model_selection import train_test_split\n",
        "\n",
        "\n",
        "class augmatation_data_context():\n",
        "  oringin_columns = [\n",
        "                'decision',  # label\n",
        "               'index_SLR', # text id\n",
        "               'abstract',  # original input\n",
        "               ]\n",
        "\n",
        "  def __init__(self, **info):\n",
        "    self.SLR = info.get('Data')\n",
        "    self.main_input = info.get('main_input', 'text')\n",
        "    self.augmatation_columns = info.get('augmatation_columns', [\n",
        "              #  'text',\n",
        "              # 'abstract',\n",
        "               'text2',\n",
        "               'text3',\n",
        "               'text4',\n",
        "               'text5',\n",
        "               'text6',\n",
        "               'text7',\n",
        "               'text8'\n",
        "               ])\n",
        "    \n",
        "   \n",
        "    if 'abstract' in self.augmatation_columns:\n",
        "      have_abstract = True\n",
        "      self.augmatation_columns.remove('abstract')\n",
        "    else:\n",
        "      have_abstract = False\n",
        "\n",
        "    columns = self.augmatation_columns + self.oringin_columns\n",
        "    # print(columns)\n",
        "\n",
        "    SLR_augmentation = self.SLR.loc[:, columns].copy()\n",
        "\n",
        "    if have_abstract:\n",
        "      SLR_augmentation['abstract_input'] = SLR_augmentation['abstract']\n",
        "  \n",
        "    self.SLR_augmentation = pd.melt(SLR_augmentation,\n",
        "                                    id_vars=['decision', 'index_SLR','abstract'],\n",
        "                                    value_name='text_input')\n",
        "\n",
        "  @property\n",
        "  def values_count(self):\n",
        "    print('Augmatation propertys \\n')\n",
        "    print(self.SLR_augmentation.decision.value_counts())\n",
        "    print(self.SLR_augmentation.groupby('variable').decision.value_counts())\n",
        "\n",
        "  def sample(self, value, SEED=1, verbose = True):\n",
        "    \"\"\"value is total of samples for each decision\"\"\"\n",
        "    SLR_augmentation = self.SLR_augmentation.groupby(['decision', 'variable']) \\\n",
        "                          .sample(frac=value, random_state = SEED, replace=False)\n",
        "    SLR = self.SLR.copy()\n",
        "    \n",
        "    SLR['variable'] = self.main_input\n",
        "    SLR.rename(columns={self.main_input: 'text_input'}, inplace=True)\n",
        "\n",
        "    Data = pd.concat([\n",
        "                SLR_augmentation,\n",
        "                SLR \n",
        "                ],\n",
        "                axis = 0)\n",
        "\n",
        "\n",
        "    self.Data = Data.dropna(1).drop_duplicates(subset='text_input')\n",
        "\n",
        "    # self.Data.rename(columns={self.main_input: 'text_input'}, inplace=True)\n",
        "\n",
        "    # print(SLR_augmentation.groupby('variable').decision.value_counts())\n",
        "    if verbose:\n",
        "      print('\\n The Data augmentation have:')\n",
        "      print(self.Data.groupby('variable').decision.value_counts())\n",
        "\n",
        "  @staticmethod\n",
        "  def _split(Data,input_name = 'abstract',train_size=0.6, validation_size=0.7, SEED = 1, verbose = True):\n",
        "\n",
        "    train_Data, cross_Data  = train_test_split(Data,\n",
        "                                              stratify = Data['decision'],\n",
        "                                              train_size=train_size,\n",
        "                                              random_state= SEED,\n",
        "                                              shuffle=True)\n",
        "\n",
        "    valid_Data, test_Data  = train_test_split(cross_Data,\n",
        "                                              stratify = cross_Data['decision'],\n",
        "                                              train_size=validation_size,\n",
        "                                              random_state= SEED,\n",
        "                                              shuffle=True)\n",
        "\n",
        "    if verbose:\n",
        "      print('TRAIN SUMMARY:')\n",
        "      print('\\n')\n",
        "      print(train_Data['decision'].value_counts())\n",
        "      print('\\n')\n",
        "      print(train_Data[input_name].apply(lambda x: len(x.split(' '))).plot(kind = 'hist', title= '# of words'))\n",
        "\n",
        "    return train_Data, valid_Data, test_Data\n",
        "\n",
        "  def split(self, train_size=0.6, validation_size=0.7, SEED = 1, verbose = True):\n",
        "\n",
        "    train_Data, cross_Data  = train_test_split(self.SLR,\n",
        "                                              stratify = self.SLR['decision'],\n",
        "                                              train_size=train_size,\n",
        "                                              random_state= SEED,\n",
        "                                              shuffle=True)\n",
        "\n",
        "    valid_Data, test_Data  = train_test_split(cross_Data,\n",
        "                                              stratify = cross_Data['decision'],\n",
        "                                              train_size=validation_size,\n",
        "                                              random_state= SEED,\n",
        "                                              shuffle=True)\n",
        "    \n",
        "    train_Data = self.Data[self.Data['index_SLR'].isin(train_Data.index_SLR.values)]\n",
        "    \n",
        "    train_Data = train_Data.sample(frac=1, random_state = SEED).drop_duplicates(subset='text_input')\n",
        "\n",
        "\n",
        "    if verbose:\n",
        "      print('TRAIN SUMMARY:')\n",
        "      print('\\n')\n",
        "      print(train_Data['decision'].value_counts())\n",
        "      print('\\n')\n",
        "      print(train_Data.groupby('variable').decision.value_counts())\n",
        "      print('\\n')\n",
        "      print(train_Data['text_input'].apply(lambda x: len(x.split(' '))).plot(kind = 'hist', title= '# of words'))\n",
        "\n",
        "    return train_Data, valid_Data, test_Data\n",
        "\n",
        "  @staticmethod\n",
        "  def process(train_info = None,\n",
        "              train_SAMPLER = True,\n",
        "              valid_info = None,\n",
        "              test_info= None,\n",
        "              gen_seed = torch.Generator().manual_seed(1),\n",
        "              drop_last= True):\n",
        "    \n",
        "    train = valid = test = None\n",
        "    \n",
        "    if train_info:\n",
        "      if train_SAMPLER:\n",
        "        train = data_transform(sampler(train_info['data'], gen_seed),\n",
        "                       **train_info, drop_last =drop_last)\n",
        "      else:\n",
        "        train = data_transform(**train_info, drop_last =drop_last)\n",
        "\n",
        "    if valid_info:\n",
        "      valid = data_transform(**valid_info, drop_last =drop_last)\n",
        "\n",
        "    if test_info:\n",
        "      test = data_transform(**test_info, drop_last =drop_last)\n",
        "\n",
        "    return (train, valid, test)"
      ]
    },
    {
      "cell_type": "code",
      "source": [
        "from torch.utils.data import WeightedRandomSampler\n",
        "from collections import Counter \n",
        "\n",
        "\n",
        "def sampler(data, gen_seed):\n",
        "  count = Counter(data['decision'])\n",
        "  class_count = np.array([count[0],count[1]])\n",
        "  class_weights =  1./class_count\n",
        "\n",
        "  sample_weights =  np.array([class_weights[t] for t in data['decision']])\n",
        "  sampler = WeightedRandomSampler(sample_weights,\n",
        "                                len(sample_weights),\n",
        "                                replacement=True,\n",
        "                                generator=gen_seed)\n",
        "  \n",
        "  return sampler\n",
        "\n",
        "\n",
        "def data_transform(sampler = None, drop_last = False, **info):\n",
        "  data_set = SLR_DataSet(**info)\n",
        "  \n",
        "  data_loader = DataLoader(data_set,\n",
        "                           sampler=sampler,\n",
        "                           batch_size = info.get('batch_size', 1),\n",
        "                           drop_last = drop_last\n",
        "                           )\n",
        "  return data_loader\n"
      ],
      "metadata": {
        "id": "bQbDUQeFYVVz"
      },
      "execution_count": 280,
      "outputs": []
    },
    {
      "cell_type": "markdown",
      "metadata": {
        "id": "DmVzt4-etbtB"
      },
      "source": [
        "### Augmentation Split"
      ]
    },
    {
      "cell_type": "code",
      "execution_count": 281,
      "metadata": {
        "colab": {
          "base_uri": "https://localhost:8080/"
        },
        "id": "2HIV4Jc2xayI",
        "outputId": "aea5f3a2-c591-4a8c-dec8-c66ae2750d49"
      },
      "outputs": [
        {
          "output_type": "execute_result",
          "data": {
            "text/plain": [
              "0    47\n",
              "1    28\n",
              "Name: decision, dtype: int64"
            ]
          },
          "metadata": {},
          "execution_count": 281
        }
      ],
      "source": [
        "SLR['decision'].value_counts()"
      ]
    },
    {
      "cell_type": "code",
      "source": [
        "META_INFO = {\n",
        "    # DATA\n",
        "             'Data': SLR,\n",
        "             'main_input': 'text',\n",
        "             'augmatation_columns':[\n",
        "               'abstract',\n",
        "              #  'text',\n",
        "               'text2',\n",
        "              #  'text3',\n",
        "               'text4',\n",
        "              #  'text5',\n",
        "              #  'text6',\n",
        "              #  'text7',\n",
        "              #  'text8'\n",
        "               ],\n",
        "             'sample_augmatation': .20,\n",
        "             'train_split_size': 0.7,\n",
        "             'valid_split_size': 0.55,\n",
        "             'batch_size_train':16,\n",
        "             'max_token_len':312,\n",
        "             'Oversampler': True,\n",
        "    # LEARNER\n",
        "             'N_EPOCH': 3,\n",
        "             'LEARNING_RATE': 0.00006,\n",
        "             'warmup_steps_pinnacle': 3,\n",
        "    # MODEL\n",
        "             'bert_layers': range(12),\n",
        "             'drop': 0.05,\n",
        "             'DECISION_BOUDERY': 0.5,\n",
        "             'clip_gradient': 2,\n",
        "    # EVALUATION\n",
        "             'threshold':0.5\n",
        "             }\n",
        "\n",
        "augmatation_data = augmatation_data_context(**META_INFO)\n",
        "\n",
        "# augmatation_data.values_count"
      ],
      "metadata": {
        "id": "MJBlDY6QMdOG"
      },
      "execution_count": 282,
      "outputs": []
    },
    {
      "cell_type": "code",
      "source": [
        "augmatation_data.sample(META_INFO['sample_augmatation'], SEED=SEED)"
      ],
      "metadata": {
        "colab": {
          "base_uri": "https://localhost:8080/"
        },
        "id": "ivUG_BC2Nahr",
        "outputId": "22eef6d1-0134-4715-c8be-7168e1a74f48"
      },
      "execution_count": 283,
      "outputs": [
        {
          "output_type": "stream",
          "name": "stdout",
          "text": [
            "\n",
            " The Data augmentation have:\n",
            "variable        decision\n",
            "abstract_input  0            9\n",
            "                1            6\n",
            "text            0           47\n",
            "                1           28\n",
            "text2           0            9\n",
            "                1            6\n",
            "text4           0            9\n",
            "                1            6\n",
            "Name: decision, dtype: int64\n"
          ]
        }
      ]
    },
    {
      "cell_type": "code",
      "source": [
        "train_Data, valid_Data, test_Data = augmatation_data.split(train_size=META_INFO['train_split_size'],\n",
        "                                                           validation_size=META_INFO['valid_split_size'], SEED = SEED)"
      ],
      "metadata": {
        "colab": {
          "base_uri": "https://localhost:8080/",
          "height": 0
        },
        "id": "Qj6j0myDV7Hn",
        "outputId": "73c3d81c-88d0-4b63-c94e-09dbaff800fb"
      },
      "execution_count": 284,
      "outputs": [
        {
          "output_type": "stream",
          "name": "stdout",
          "text": [
            "TRAIN SUMMARY:\n",
            "\n",
            "\n",
            "0    57\n",
            "1    32\n",
            "Name: decision, dtype: int64\n",
            "\n",
            "\n",
            "variable        decision\n",
            "abstract_input  0            9\n",
            "                1            4\n",
            "text            0           33\n",
            "                1           19\n",
            "text2           0            7\n",
            "                1            4\n",
            "text4           0            8\n",
            "                1            5\n",
            "Name: decision, dtype: int64\n",
            "\n",
            "\n",
            "AxesSubplot(0.125,0.125;0.775x0.755)\n"
          ]
        },
        {
          "output_type": "display_data",
          "data": {
            "image/png": "[encoded data removed]",
            "text/plain": [
              "<Figure size 720x360 with 1 Axes>"
            ]
          },
          "metadata": {}
        }
      ]
    },
    {
      "cell_type": "code",
      "source": [
        "test_Data.decision.value_counts()"
      ],
      "metadata": {
        "colab": {
          "base_uri": "https://localhost:8080/"
        },
        "id": "hNpxhcSuWZ3Z",
        "outputId": "b38b4197-e07f-41ac-8523-1917762df80b"
      },
      "execution_count": 285,
      "outputs": [
        {
          "output_type": "execute_result",
          "data": {
            "text/plain": [
              "0    7\n",
              "1    4\n",
              "Name: decision, dtype: int64"
            ]
          },
          "metadata": {},
          "execution_count": 285
        }
      ]
    },
    {
      "cell_type": "code",
      "source": [
        "sample_by = int(SLR_test.decision.value_counts()[0]/2)"
      ],
      "metadata": {
        "id": "7YwTOYmUBZ2N"
      },
      "execution_count": 286,
      "outputs": []
    },
    {
      "cell_type": "code",
      "source": [
        "index_sample =  SLR_test.groupby('decision').sample(sample_by, random_state=SEED,\n",
        "                                                    replace=False).index_SLR\n",
        "\n",
        "data_partition_one = SLR_test[SLR_test.index_SLR.isin(index_sample)]\n",
        "data_partition_two = SLR_test[~SLR_test.index_SLR.isin(index_sample)]\n",
        "\n",
        "test_Data = pd.concat([data_partition_one,test_Data ]).dropna(1).sample(frac=1, random_state = SEED)\n",
        "\n",
        "valid_Data = pd.concat([data_partition_two, valid_Data ]).dropna(1).sample(frac=1, random_state = SEED)\n",
        "\n"
      ],
      "metadata": {
        "id": "Z4C-eUgz9kKX"
      },
      "execution_count": 287,
      "outputs": []
    },
    {
      "cell_type": "code",
      "execution_count": 288,
      "metadata": {
        "id": "z-J-jSYH_pjH"
      },
      "outputs": [],
      "source": [
        "train_info = {\n",
        "    'data': train_Data,\n",
        "    'tokenizer': initializer_bert.tokenizer,\n",
        "    'max_token_len': META_INFO['max_token_len'],\n",
        "    'input': 'text_input',\n",
        "    'output': 'decision',\n",
        "    'batch_size':META_INFO['batch_size_train'], \n",
        "    }\n",
        "\n",
        "valid_info = {\n",
        "    'data': valid_Data,\n",
        "    'tokenizer': initializer_bert.tokenizer,\n",
        "    'max_token_len': META_INFO['max_token_len'],\n",
        "    'input': 'abstract',\n",
        "    'output': 'decision',\n",
        "    'batch_size':len(valid_Data),\n",
        "    }\n",
        "\n",
        "test_info = {\n",
        "    'data': test_Data,\n",
        "    'tokenizer': initializer_bert.tokenizer,\n",
        "    'max_token_len': META_INFO['max_token_len'],\n",
        "    'input': 'abstract',\n",
        "    'output': 'decision',\n",
        "    'batch_size':len(test_Data),\n",
        "    }\n",
        "\n",
        "train, valid, test = augmatation_data_context.process(\n",
        "    train_info = train_info,\n",
        "    train_SAMPLER = META_INFO['Oversampler'],\n",
        "    valid_info = valid_info,\n",
        "    test_info = test_info,\n",
        "    gen_seed = gen_seed,\n",
        "    drop_last= True)"
      ]
    },
    {
      "cell_type": "markdown",
      "metadata": {
        "id": "UK2ru8ip2djR"
      },
      "source": [
        "# Metrics"
      ]
    },
    {
      "cell_type": "code",
      "execution_count": 172,
      "metadata": {
        "id": "j0jcE6wbZWJu"
      },
      "outputs": [],
      "source": [
        "# from sklearn.metrics import confusion_matrix\n",
        "\n",
        "import tensorflow as tf\n",
        "from tensorflow.python.keras.metrics import SensitivitySpecificityBase\n",
        "\n",
        "class WorkSavedOverSamplingAtRecall(SensitivitySpecificityBase):\n",
        "    \"\"\"\n",
        "    Work saved over sampling at %recall metric\n",
        "    \"\"\"\n",
        "\n",
        "    def __init__(self, recall, num_thresholds=200, name=\"wss_at_recall\", dtype=None):\n",
        "        if recall < 0 or recall > 1:\n",
        "            raise ValueError('`recall` must be in the range [0, 1].')\n",
        "        self.recall = recall\n",
        "        self.num_thresholds = num_thresholds\n",
        "        super(WorkSavedOverSamplingAtRecall, self).__init__(\n",
        "            value=recall, num_thresholds=self.num_thresholds, name=name, dtype=dtype\n",
        "        )\n",
        "\n",
        "    def result(self):\n",
        "        recalls = tf.math.divide_no_nan(\n",
        "            self.true_positives, self.true_positives + self.false_negatives\n",
        "        )\n",
        "        n = self.true_negatives + self.true_positives + self.false_negatives + self.false_positives\n",
        "        wss = tf.math.divide_no_nan(\n",
        "            self.true_negatives + self.false_negatives, n\n",
        "        )\n",
        "        return self._find_max_under_constraint(\n",
        "            recalls, wss, tf.math.greater_equal\n",
        "        )\n",
        "\n",
        "    def get_config(self):\n",
        "        \"\"\"For serialization purposes\"\"\"\n",
        "        config = {'num_thresholds': self.num_thresholds, 'recall': self.recall}\n",
        "        base_config = super(WorkSavedOverSamplingAtRecall, self).get_config()\n",
        "        return dict(list(base_config.items()) + list(config.items()))"
      ]
    },
    {
      "cell_type": "code",
      "execution_count": 173,
      "metadata": {
        "id": "mKijLi6DeWVQ"
      },
      "outputs": [],
      "source": [
        "from IPython.display import clear_output \n",
        "\n",
        "class table:\n",
        "  data = []\n",
        "  index = []\n",
        "\n",
        "  @torch.no_grad()\n",
        "  def __init__(self, data, epoch, name):\n",
        "    self.index.append((epoch, name))\n",
        "    self.data.append(data)\n",
        "\n",
        "\n",
        "  @classmethod\n",
        "  @torch.no_grad()\n",
        "  def data_frame(cls):\n",
        "    clear_output()\n",
        "    index = pd.MultiIndex.from_tuples(cls.index, names=[\"Epoch\", \"Data\"])\n",
        "    data = pd.DataFrame(cls.data,  index=index)\n",
        "    return data\n",
        "\n",
        "  @classmethod\n",
        "  @torch.no_grad()\n",
        "  def reset(cls):\n",
        "    cls.data = []\n",
        "    cls.index = []"
      ]
    },
    {
      "cell_type": "code",
      "execution_count": 174,
      "metadata": {
        "id": "3YgVA_mKLvPu"
      },
      "outputs": [],
      "source": [
        "import torchmetrics\n",
        "from torchmetrics import functional as fn\n",
        "from torchmetrics import ConfusionMatrix\n",
        "import plotly.express as px\n",
        "from plotly.subplots import make_subplots\n",
        "import seaborn as sns\n",
        "from pprint import pprint\n",
        "\n",
        "class metrics():\n",
        "  wss95 = WorkSavedOverSamplingAtRecall(recall=0.95, name='wss_95')\n",
        "  wss = WorkSavedOverSamplingAtRecall(recall=1, name='wss')\n",
        "\n",
        "  @classmethod\n",
        "  @torch.no_grad()\n",
        "  def work(cls, y_true, y_pred, loss = None, DECISION_BOUDERY = .5):\n",
        "    y_true = y_true.to(int)\n",
        "\n",
        "    cls.wss95.reset_state()\n",
        "    cls.wss95.update_state(y_true, y_pred)\n",
        "    \n",
        "    cls.wss.reset_state()\n",
        "    cls.wss.update_state(y_true, y_pred)\n",
        "    \n",
        "    y_pred = (y_pred > DECISION_BOUDERY).to(int)\n",
        "\n",
        "    data = {\n",
        "        \"wss95\": cls.wss95.result().numpy(),\n",
        "        \"wss\": cls.wss.result().numpy(),\n",
        "        'acc': fn.accuracy(y_pred, y_true).item(),\n",
        "        'recall': fn.recall(y_pred, y_true).item(),\n",
        "        'f1':fn.f1(y_pred, y_true).item()\n",
        "            }\n",
        "\n",
        "    if loss:\n",
        "      data['loss'] = loss.item()\n",
        "\n",
        "    return data\n",
        "\n",
        "  @staticmethod\n",
        "  def plot(data, label):\n",
        "    # data.columns\n",
        "    data = data.reset_index(level=[0,1], inplace=False)\n",
        "    data['acc'] =data['acc'].astype(float) \n",
        "    return px.line(data_frame=data.round(4),\n",
        "              x = 'Epoch',\n",
        "              y = label,\n",
        "              markers = True, \n",
        "              hover_data = data.columns,\n",
        "              color = 'Data')\n",
        "\n",
        "  @classmethod\n",
        "  def multi_plot(cls, data, labels):\n",
        "    n_plots = len(labels)\n",
        "    n_lines = len(data.index.unique('Data'))\n",
        "\n",
        "    fig = make_subplots(rows=n_plots,\n",
        "                        cols=1,\n",
        "                        subplot_titles = labels)\n",
        "\n",
        "    for row in range(1, n_plots+1):\n",
        "      label = labels[row - 1]\n",
        "      lines = cls.plot(data, label)\n",
        "\n",
        "      for line in list(lines.select_traces()):\n",
        "        if row  > 1:\n",
        "          line.showlegend = False\n",
        "        fig.add_trace(line,\n",
        "                      row = row,\n",
        "                      col = 1)\n",
        "      \n",
        "    fig.update_xaxes(title_text = 'Epoch',\n",
        "                       row = row,\n",
        "                       col = 1)\n",
        "    return fig\n",
        "\n",
        "  @staticmethod\n",
        "  @torch.no_grad()\n",
        "  def get_confusion_matrix(model, data_loader, num_classes = 2, threshold = .5, verbose = True):\n",
        "    model.eval()\n",
        "\n",
        "    confmat = ConfusionMatrix(num_classes=num_classes, threshold = threshold)\n",
        "\n",
        "    _ , y, predict = loop.test_one_epoch(model, data_loader)\n",
        "    \n",
        "    metrics_values =  metrics.work(y, predict)\n",
        "   \n",
        "    if verbose:\n",
        "      print(pd.DataFrame({'y': y.numpy(),\n",
        "                    'predict': predict.numpy(),\n",
        "                    }))\n",
        "      print('\\n Metrics values')\n",
        "      pprint(metrics_values)\n",
        "\n",
        "    cm = confmat(predict.cpu(), y.to(int).cpu()).numpy()\n",
        "\n",
        "    if verbose:\n",
        "      group_counts = [\"{0:0.0f}\".format(value) for value in cm.flatten()]\n",
        "      group_percentages = [\"{0:.2%}\".format(value) for value in cm.flatten()/np.sum(cm)]\n",
        "      \n",
        "      labelz = [f\"{v1}<br>{v2}\" for v1, v2 in zip(group_counts, group_percentages)]\n",
        "      labelz = np.asarray(labelz).reshape(2,2)\n",
        "      \n",
        "      fig = px.imshow(cm/np.sum(cm),\n",
        "                      x = ['0','1'],\n",
        "                      y = ['0','1'],\n",
        "                      text_auto=True,\n",
        "                      color_continuous_scale='Blues',\n",
        "                      aspect=\"auto\",\n",
        "                      zmin = 0\n",
        "                      )\n",
        "      \n",
        "      fig.update_traces(text=labelz, texttemplate = \"%{text}\")\n",
        "      fig.update_layout(yaxis={\"title\": 'Label'},\n",
        "                        xaxis={\"title\": 'Predict'})\n",
        "      \n",
        "      fig.update_xaxes(title_font=dict(size=20, color = 'black'),\n",
        "                       tickfont=dict(size=20))\n",
        "      fig.update_yaxes(title_font=dict(size=20, color = 'black'),\n",
        "                       tickfont=dict(size=20))\n",
        "      fig.show()\n",
        "\n",
        "    metrics_values['Confusion_matrix'] = [cm.tolist()]\n",
        "\n",
        "    return metrics_values"
      ]
    },
    {
      "cell_type": "code",
      "execution_count": 175,
      "metadata": {
        "id": "q3UhejlBe4qS"
      },
      "outputs": [],
      "source": [
        "class loop():\n",
        "\n",
        "  @classmethod\n",
        "  def train_one_epoch(cls, model, data_loader, loss_fn, optimizer, scheduler = None, clip_gradient = None):\n",
        "    all_y = []\n",
        "    all_predict = []\n",
        "    total_loss = 0\n",
        "    model.train()\n",
        "    device = model.dummy_param.device\n",
        "\n",
        "    for batch_step, batch in enumerate(data_loader):\n",
        "      batch_input = batch.copy()\n",
        "\n",
        "      (loss, y, predict) = cls.train_one_step(model, batch, optimizer, device, loss_fn, scheduler, clip_gradient = clip_gradient)\n",
        "      \n",
        "      with torch.no_grad():\n",
        "        all_y.append(y)\n",
        "        all_predict.append(predict.detach())\n",
        "        total_loss += loss\n",
        "    \n",
        "    mean_loss = total_loss/(batch_step+1)\n",
        "\n",
        "    return (mean_loss,\n",
        "            torch.cat(all_y).squeeze(),\n",
        "            torch.cat(all_predict).squeeze() )\n",
        "\n",
        "  @staticmethod\n",
        "  def train_one_step(model, batch, optimizer, device, loss_fn, scheduler = None, clip_gradient = None):\n",
        "    # device = model.dummy_param.device\n",
        "    optimizer.zero_grad()\n",
        "\n",
        "    input = {k:v.to(device = device) for k, v in batch.items()}\n",
        "    y = input.pop('labels').to(float)\n",
        "\n",
        "    predict = model(**input)\n",
        "\n",
        "    loss = loss_fn(predict , y)\n",
        "    loss.backward()\n",
        "\n",
        "    if clip_gradient:\n",
        "      torch.nn.utils.clip_grad_norm_(model.parameters(), max_norm=clip_gradient)\n",
        "    \n",
        "    optimizer.step()\n",
        "\n",
        "    if scheduler:\n",
        "      scheduler.step()\n",
        "\n",
        "    return loss.cpu(), y.cpu(), predict.cpu()\n",
        "\n",
        "  @classmethod\n",
        "  def valid_one_epoch(cls, model, data_loader, loss_fn):\n",
        "    all_y = []\n",
        "    all_predict = []\n",
        "    total_loss = 0\n",
        "    batch_step = 0\n",
        "    model.eval()\n",
        "    device = model.dummy_param.device\n",
        "    \n",
        "    for batch_step, batch in enumerate(data_loader):\n",
        "      batch_input = batch.copy()\n",
        "\n",
        "      (loss, y, predict) = cls.valid_one_step(model, batch, device, loss_fn)\n",
        "      \n",
        "      with torch.no_grad():\n",
        "        all_y.append(y)\n",
        "        all_predict.append(predict.detach())\n",
        "        total_loss += loss\n",
        "    \n",
        "    mean_loss = total_loss/(batch_step+1)\n",
        "\n",
        "    return (mean_loss,\n",
        "            torch.cat(all_y).squeeze(),\n",
        "            torch.cat(all_predict).squeeze() )\n",
        "\n",
        "  @staticmethod\n",
        "  def valid_one_step(model, batch, device, loss_fn):\n",
        "    # device = model.dummy_param.device\n",
        "\n",
        "    input = {k:v.to(device = device) for k, v in batch.items()}\n",
        "    y = input.pop('labels').to(float)\n",
        "\n",
        "    predict = model(**input)\n",
        "\n",
        "    loss = loss_fn(predict , y)\n",
        "\n",
        "    return loss.cpu(), y.cpu(), predict.cpu()\n",
        "\n",
        "  @classmethod\n",
        "  def test_one_epoch(cls, model, data_loader, loss_fn = None):\n",
        "    all_y = []\n",
        "    all_predict = []\n",
        "    total_loss = 0\n",
        "    model.eval()\n",
        "    device = model.dummy_param.device\n",
        "    \n",
        "    for batch_step, batch in enumerate(data_loader):\n",
        "      batch_input = batch.copy()\n",
        "\n",
        "      (loss, y, predict) = cls.test_one_step(model, batch,device, loss_fn )\n",
        "      \n",
        "      with torch.no_grad():\n",
        "        all_y.append(y)\n",
        "        all_predict.append(predict.detach())\n",
        "        total_loss += loss\n",
        "    \n",
        "    mean_loss = total_loss/(batch_step+1)\n",
        "\n",
        "    return (mean_loss,\n",
        "            torch.cat(all_y).squeeze(),\n",
        "            torch.cat(all_predict).squeeze() )\n",
        "\n",
        "  @staticmethod\n",
        "  def test_one_step(model, batch,device, loss_fn = None ):\n",
        "    # device = model.dummy_param.device\n",
        "\n",
        "    input = {k:v.to(device = device) for k, v in batch.items()}\n",
        "    y = input.pop('labels').to(float)\n",
        "\n",
        "    predict = model(**input)\n",
        "\n",
        "    if loss_fn:\n",
        "      loss = loss_fn(predict , y)\n",
        "      return loss.cpu(), y.cpu(), predict.cpu()\n",
        "    else:\n",
        "      return 0, y.cpu(), predict.cpu()"
      ]
    },
    {
      "cell_type": "markdown",
      "metadata": {
        "id": "qicSMEM83u94"
      },
      "source": [
        "# Learning"
      ]
    },
    {
      "cell_type": "code",
      "execution_count": 289,
      "metadata": {
        "colab": {
          "base_uri": "https://localhost:8080/"
        },
        "id": "dJT6MjG0FFDO",
        "outputId": "ab0eb23b-2328-4b86-90ce-681876f01419"
      },
      "outputs": [
        {
          "output_type": "stream",
          "name": "stdout",
          "text": [
            "             wss95   wss   acc  recall    f1  loss\n",
            "Epoch Data                                        \n",
            "0     Train   0.04  0.00  0.60    0.60  0.60  0.69\n",
            "      Valid   0.00  0.00  0.47    0.47  0.47  0.69\n",
            "1     Train   0.11  0.06  0.74    0.74  0.74  0.68\n",
            "      Valid   0.18  0.18  0.53    0.53  0.53  0.69\n",
            "2     Train   0.26  0.21  0.76    0.76  0.76  0.66\n",
            "      Valid   0.18  0.18  0.65    0.65  0.65  0.68\n"
          ]
        }
      ],
      "source": [
        "import torch\n",
        "from torch import nn\n",
        "import os\n",
        "import numpy as np\n",
        "import random\n",
        "import gc\n",
        "\n",
        "torch.manual_seed(SEED)\n",
        "torch.cuda.manual_seed_all(SEED)\n",
        "torch.backends.cudnn.deterministic = True\n",
        "np.random.seed(SEED)\n",
        "random.seed(SEED)\n",
        "torch.clear_autocast_cache()\n",
        "torch.manual_seed(SEED)\n",
        "gc.collect()\n",
        "torch.cuda.empty_cache()\n",
        "\n",
        "\n",
        "Learning = {'N_EPOCH': META_INFO['N_EPOCH'],\n",
        "            'BATCH_SIZE': train_info.get('batch_size'),\n",
        "            'LEARNING_RATE': META_INFO['LEARNING_RATE']\n",
        "            }\n",
        "\n",
        "steps_per_epoch=len(train_Data) // Learning.get('BATCH_SIZE')\n",
        "total_training_steps = steps_per_epoch * Learning.get('N_EPOCH')\n",
        "\n",
        "warmup_steps = total_training_steps // META_INFO['warmup_steps_pinnacle']\n",
        "print(\"warmup_steps, total_training_steps: \", warmup_steps, total_training_steps)\n",
        "\n",
        "\n",
        "device = torch.device(\"cuda\" if torch.cuda.is_available() else \"cpu\")\n",
        "\n",
        "model = SLR_Classifier(**{\n",
        "\"bert_layers\": META_INFO['bert_layers'],\n",
        "'drop': META_INFO['drop']\n",
        "}).to(device)\n",
        "\n",
        "\n",
        "loss_fn =  nn.BCELoss(reduction = 'mean')\n",
        "optimizer = AdamW(model.parameters(), lr=Learning.get('LEARNING_RATE'))\n",
        "scheduler = get_linear_schedule_with_warmup(\n",
        "  optimizer, \n",
        "  num_warmup_steps=warmup_steps,\n",
        "  num_training_steps=total_training_steps\n",
        ")\n",
        "\n",
        "\n",
        "\n",
        "Epochs = Learning.get('N_EPOCH')\n",
        "DECISION_BOUDERY = META_INFO['DECISION_BOUDERY']\n",
        "\n",
        "table.reset()\n",
        "\n",
        "# THE MAIN TRAINING LOOOP\n",
        "for Epoch in range(0, Epochs):\n",
        "  model.train()\n",
        "  loss, y , y_ = loop.train_one_epoch(model, train, loss_fn, optimizer, scheduler, clip_gradient=META_INFO['clip_gradient'])\n",
        "  \n",
        "  if Epoch%1 == 0:\n",
        "    res = metrics.work(y,\n",
        "                       y_,\n",
        "                       loss,\n",
        "                       DECISION_BOUDERY)\n",
        "    \n",
        "    table(res, Epoch, 'Train')\n",
        "\n",
        "    with torch.no_grad():\n",
        "      model.eval()\n",
        "      loss, y , y_ = loop.valid_one_epoch(model, valid, loss_fn)\n",
        "\n",
        "      res = metrics.work(y,\n",
        "                        y_,\n",
        "                        loss,\n",
        "                         DECISION_BOUDERY)\n",
        "\n",
        "      table(res, Epoch, 'Valid')\n",
        "    print(table.data_frame().round(2))\n",
        "\n",
        "\n",
        "del optimizer, scheduler, loss_fn\n",
        "del loss, y, y_\n",
        "torch.cuda.empty_cache()"
      ]
    },
    {
      "cell_type": "code",
      "execution_count": 290,
      "metadata": {
        "colab": {
          "base_uri": "https://localhost:8080/",
          "height": 542
        },
        "id": "0demInNNzjiS",
        "outputId": "fcedb757-fb56-41c0-b39a-41f4710381cc"
      },
      "outputs": [
        {
          "output_type": "display_data",
          "data": {
            "text/html": [
              "<html>\n",
              "<head><meta charset=\"utf-8\" /></head>\n",
              "<body>\n",
              "    <div>            <script src=\"https://cdnjs.cloudflare.com/ajax/libs/mathjax/2.7.5/MathJax.js?config=TeX-AMS-MML_SVG\"></script><script type=\"text/javascript\">if (window.MathJax) {MathJax.Hub.Config({SVG: {font: \"STIX-Web\"}});}</script>                <script type=\"text/javascript\">window.PlotlyConfig = {MathJaxConfig: 'local'};</script>\n",
              "        <script src=\"https://cdn.plot.ly/plotly-2.8.3.min.js\"></script>                <div id=\"01441c92-ef6f-4c11-928d-1e8f3d926102\" class=\"plotly-graph-div\" style=\"height:525px; width:100%;\"></div>            <script type=\"text/javascript\">                                    window.PLOTLYENV=window.PLOTLYENV || {};                                    if (document.getElementById(\"01441c92-ef6f-4c11-928d-1e8f3d926102\")) {                    Plotly.newPlot(                        \"01441c92-ef6f-4c11-928d-1e8f3d926102\",                        [{\"customdata\":[[\"Train\",0.0375,0.0,0.6,0.6,0.6],[\"Train\",0.1125,0.0625,0.7375,0.7375,0.7375],[\"Train\",0.2625,0.2125,0.7625,0.7625,0.7625]],\"hovertemplate\":\"Data=%{customdata[0]}<br>Epoch=%{x}<br>loss=%{y}<br>wss95=%{customdata[1]}<br>wss=%{customdata[2]}<br>acc=%{customdata[3]}<br>recall=%{customdata[4]}<br>f1=%{customdata[5]}<extra></extra>\",\"legendgroup\":\"Train\",\"line\":{\"color\":\"#636efa\",\"dash\":\"solid\"},\"marker\":{\"symbol\":\"circle\"},\"mode\":\"lines+markers\",\"name\":\"Train\",\"orientation\":\"v\",\"showlegend\":true,\"x\":[0,1,2],\"xaxis\":\"x\",\"y\":[0.6926,0.6816,0.663],\"yaxis\":\"y\",\"type\":\"scatter\"},{\"customdata\":[[\"Valid\",0.0,0.0,0.4706,0.4706,0.4706],[\"Valid\",0.1765,0.1765,0.5294,0.5294,0.5294],[\"Valid\",0.1765,0.1765,0.6471,0.6471,0.6471]],\"hovertemplate\":\"Data=%{customdata[0]}<br>Epoch=%{x}<br>loss=%{y}<br>wss95=%{customdata[1]}<br>wss=%{customdata[2]}<br>acc=%{customdata[3]}<br>recall=%{customdata[4]}<br>f1=%{customdata[5]}<extra></extra>\",\"legendgroup\":\"Valid\",\"line\":{\"color\":\"#EF553B\",\"dash\":\"solid\"},\"marker\":{\"symbol\":\"circle\"},\"mode\":\"lines+markers\",\"name\":\"Valid\",\"orientation\":\"v\",\"showlegend\":true,\"x\":[0,1,2],\"xaxis\":\"x\",\"y\":[0.6928,0.6878,0.6765],\"yaxis\":\"y\",\"type\":\"scatter\"},{\"customdata\":[[\"Train\",0.0375,0.0,0.6,0.6,0.6926],[\"Train\",0.1125,0.0625,0.7375,0.7375,0.6816],[\"Train\",0.2625,0.2125,0.7625,0.7625,0.663]],\"hovertemplate\":\"Data=%{customdata[0]}<br>Epoch=%{x}<br>acc=%{y}<br>wss95=%{customdata[1]}<br>wss=%{customdata[2]}<br>recall=%{customdata[3]}<br>f1=%{customdata[4]}<br>loss=%{customdata[5]}<extra></extra>\",\"legendgroup\":\"Train\",\"line\":{\"color\":\"#636efa\",\"dash\":\"solid\"},\"marker\":{\"symbol\":\"circle\"},\"mode\":\"lines+markers\",\"name\":\"Train\",\"orientation\":\"v\",\"showlegend\":false,\"x\":[0,1,2],\"xaxis\":\"x2\",\"y\":[0.6,0.7375,0.7625],\"yaxis\":\"y2\",\"type\":\"scatter\"},{\"customdata\":[[\"Valid\",0.0,0.0,0.4706,0.4706,0.6928],[\"Valid\",0.1765,0.1765,0.5294,0.5294,0.6878],[\"Valid\",0.1765,0.1765,0.6471,0.6471,0.6765]],\"hovertemplate\":\"Data=%{customdata[0]}<br>Epoch=%{x}<br>acc=%{y}<br>wss95=%{customdata[1]}<br>wss=%{customdata[2]}<br>recall=%{customdata[3]}<br>f1=%{customdata[4]}<br>loss=%{customdata[5]}<extra></extra>\",\"legendgroup\":\"Valid\",\"line\":{\"color\":\"#EF553B\",\"dash\":\"solid\"},\"marker\":{\"symbol\":\"circle\"},\"mode\":\"lines+markers\",\"name\":\"Valid\",\"orientation\":\"v\",\"showlegend\":false,\"x\":[0,1,2],\"xaxis\":\"x2\",\"y\":[0.4706,0.5294,0.6471],\"yaxis\":\"y2\",\"type\":\"scatter\"}],                        {\"template\":{\"data\":{\"bar\":[{\"error_x\":{\"color\":\"#2a3f5f\"},\"error_y\":{\"color\":\"#2a3f5f\"},\"marker\":{\"line\":{\"color\":\"#E5ECF6\",\"width\":0.5},\"pattern\":{\"fillmode\":\"overlay\",\"size\":10,\"solidity\":0.2}},\"type\":\"bar\"}],\"barpolar\":[{\"marker\":{\"line\":{\"color\":\"#E5ECF6\",\"width\":0.5},\"pattern\":{\"fillmode\":\"overlay\",\"size\":10,\"solidity\":0.2}},\"type\":\"barpolar\"}],\"carpet\":[{\"aaxis\":{\"endlinecolor\":\"#2a3f5f\",\"gridcolor\":\"white\",\"linecolor\":\"white\",\"minorgridcolor\":\"white\",\"startlinecolor\":\"#2a3f5f\"},\"baxis\":{\"endlinecolor\":\"#2a3f5f\",\"gridcolor\":\"white\",\"linecolor\":\"white\",\"minorgridcolor\":\"white\",\"startlinecolor\":\"#2a3f5f\"},\"type\":\"carpet\"}],\"choropleth\":[{\"colorbar\":{\"outlinewidth\":0,\"ticks\":\"\"},\"type\":\"choropleth\"}],\"contour\":[{\"colorbar\":{\"outlinewidth\":0,\"ticks\":\"\"},\"colorscale\":[[0.0,\"#0d0887\"],[0.1111111111111111,\"#46039f\"],[0.2222222222222222,\"#7201a8\"],[0.3333333333333333,\"#9c179e\"],[0.4444444444444444,\"#bd3786\"],[0.5555555555555556,\"#d8576b\"],[0.6666666666666666,\"#ed7953\"],[0.7777777777777778,\"#fb9f3a\"],[0.8888888888888888,\"#fdca26\"],[1.0,\"#f0f921\"]],\"type\":\"contour\"}],\"contourcarpet\":[{\"colorbar\":{\"outlinewidth\":0,\"ticks\":\"\"},\"type\":\"contourcarpet\"}],\"heatmap\":[{\"colorbar\":{\"outlinewidth\":0,\"ticks\":\"\"},\"colorscale\":[[0.0,\"#0d0887\"],[0.1111111111111111,\"#46039f\"],[0.2222222222222222,\"#7201a8\"],[0.3333333333333333,\"#9c179e\"],[0.4444444444444444,\"#bd3786\"],[0.5555555555555556,\"#d8576b\"],[0.6666666666666666,\"#ed7953\"],[0.7777777777777778,\"#fb9f3a\"],[0.8888888888888888,\"#fdca26\"],[1.0,\"#f0f921\"]],\"type\":\"heatmap\"}],\"heatmapgl\":[{\"colorbar\":{\"outlinewidth\":0,\"ticks\":\"\"},\"colorscale\":[[0.0,\"#0d0887\"],[0.1111111111111111,\"#46039f\"],[0.2222222222222222,\"#7201a8\"],[0.3333333333333333,\"#9c179e\"],[0.4444444444444444,\"#bd3786\"],[0.5555555555555556,\"#d8576b\"],[0.6666666666666666,\"#ed7953\"],[0.7777777777777778,\"#fb9f3a\"],[0.8888888888888888,\"#fdca26\"],[1.0,\"#f0f921\"]],\"type\":\"heatmapgl\"}],\"histogram\":[{\"marker\":{\"pattern\":{\"fillmode\":\"overlay\",\"size\":10,\"solidity\":0.2}},\"type\":\"histogram\"}],\"histogram2d\":[{\"colorbar\":{\"outlinewidth\":0,\"ticks\":\"\"},\"colorscale\":[[0.0,\"#0d0887\"],[0.1111111111111111,\"#46039f\"],[0.2222222222222222,\"#7201a8\"],[0.3333333333333333,\"#9c179e\"],[0.4444444444444444,\"#bd3786\"],[0.5555555555555556,\"#d8576b\"],[0.6666666666666666,\"#ed7953\"],[0.7777777777777778,\"#fb9f3a\"],[0.8888888888888888,\"#fdca26\"],[1.0,\"#f0f921\"]],\"type\":\"histogram2d\"}],\"histogram2dcontour\":[{\"colorbar\":{\"outlinewidth\":0,\"ticks\":\"\"},\"colorscale\":[[0.0,\"#0d0887\"],[0.1111111111111111,\"#46039f\"],[0.2222222222222222,\"#7201a8\"],[0.3333333333333333,\"#9c179e\"],[0.4444444444444444,\"#bd3786\"],[0.5555555555555556,\"#d8576b\"],[0.6666666666666666,\"#ed7953\"],[0.7777777777777778,\"#fb9f3a\"],[0.8888888888888888,\"#fdca26\"],[1.0,\"#f0f921\"]],\"type\":\"histogram2dcontour\"}],\"mesh3d\":[{\"colorbar\":{\"outlinewidth\":0,\"ticks\":\"\"},\"type\":\"mesh3d\"}],\"parcoords\":[{\"line\":{\"colorbar\":{\"outlinewidth\":0,\"ticks\":\"\"}},\"type\":\"parcoords\"}],\"pie\":[{\"automargin\":true,\"type\":\"pie\"}],\"scatter\":[{\"marker\":{\"colorbar\":{\"outlinewidth\":0,\"ticks\":\"\"}},\"type\":\"scatter\"}],\"scatter3d\":[{\"line\":{\"colorbar\":{\"outlinewidth\":0,\"ticks\":\"\"}},\"marker\":{\"colorbar\":{\"outlinewidth\":0,\"ticks\":\"\"}},\"type\":\"scatter3d\"}],\"scattercarpet\":[{\"marker\":{\"colorbar\":{\"outlinewidth\":0,\"ticks\":\"\"}},\"type\":\"scattercarpet\"}],\"scattergeo\":[{\"marker\":{\"colorbar\":{\"outlinewidth\":0,\"ticks\":\"\"}},\"type\":\"scattergeo\"}],\"scattergl\":[{\"marker\":{\"colorbar\":{\"outlinewidth\":0,\"ticks\":\"\"}},\"type\":\"scattergl\"}],\"scattermapbox\":[{\"marker\":{\"colorbar\":{\"outlinewidth\":0,\"ticks\":\"\"}},\"type\":\"scattermapbox\"}],\"scatterpolar\":[{\"marker\":{\"colorbar\":{\"outlinewidth\":0,\"ticks\":\"\"}},\"type\":\"scatterpolar\"}],\"scatterpolargl\":[{\"marker\":{\"colorbar\":{\"outlinewidth\":0,\"ticks\":\"\"}},\"type\":\"scatterpolargl\"}],\"scatterternary\":[{\"marker\":{\"colorbar\":{\"outlinewidth\":0,\"ticks\":\"\"}},\"type\":\"scatterternary\"}],\"surface\":[{\"colorbar\":{\"outlinewidth\":0,\"ticks\":\"\"},\"colorscale\":[[0.0,\"#0d0887\"],[0.1111111111111111,\"#46039f\"],[0.2222222222222222,\"#7201a8\"],[0.3333333333333333,\"#9c179e\"],[0.4444444444444444,\"#bd3786\"],[0.5555555555555556,\"#d8576b\"],[0.6666666666666666,\"#ed7953\"],[0.7777777777777778,\"#fb9f3a\"],[0.8888888888888888,\"#fdca26\"],[1.0,\"#f0f921\"]],\"type\":\"surface\"}],\"table\":[{\"cells\":{\"fill\":{\"color\":\"#EBF0F8\"},\"line\":{\"color\":\"white\"}},\"header\":{\"fill\":{\"color\":\"#C8D4E3\"},\"line\":{\"color\":\"white\"}},\"type\":\"table\"}]},\"layout\":{\"annotationdefaults\":{\"arrowcolor\":\"#2a3f5f\",\"arrowhead\":0,\"arrowwidth\":1},\"autotypenumbers\":\"strict\",\"coloraxis\":{\"colorbar\":{\"outlinewidth\":0,\"ticks\":\"\"}},\"colorscale\":{\"diverging\":[[0,\"#8e0152\"],[0.1,\"#c51b7d\"],[0.2,\"#de77ae\"],[0.3,\"#f1b6da\"],[0.4,\"#fde0ef\"],[0.5,\"#f7f7f7\"],[0.6,\"#e6f5d0\"],[0.7,\"#b8e186\"],[0.8,\"#7fbc41\"],[0.9,\"#4d9221\"],[1,\"#276419\"]],\"sequential\":[[0.0,\"#0d0887\"],[0.1111111111111111,\"#46039f\"],[0.2222222222222222,\"#7201a8\"],[0.3333333333333333,\"#9c179e\"],[0.4444444444444444,\"#bd3786\"],[0.5555555555555556,\"#d8576b\"],[0.6666666666666666,\"#ed7953\"],[0.7777777777777778,\"#fb9f3a\"],[0.8888888888888888,\"#fdca26\"],[1.0,\"#f0f921\"]],\"sequentialminus\":[[0.0,\"#0d0887\"],[0.1111111111111111,\"#46039f\"],[0.2222222222222222,\"#7201a8\"],[0.3333333333333333,\"#9c179e\"],[0.4444444444444444,\"#bd3786\"],[0.5555555555555556,\"#d8576b\"],[0.6666666666666666,\"#ed7953\"],[0.7777777777777778,\"#fb9f3a\"],[0.8888888888888888,\"#fdca26\"],[1.0,\"#f0f921\"]]},\"colorway\":[\"#636efa\",\"#EF553B\",\"#00cc96\",\"#ab63fa\",\"#FFA15A\",\"#19d3f3\",\"#FF6692\",\"#B6E880\",\"#FF97FF\",\"#FECB52\"],\"font\":{\"color\":\"#2a3f5f\"},\"geo\":{\"bgcolor\":\"white\",\"lakecolor\":\"white\",\"landcolor\":\"#E5ECF6\",\"showlakes\":true,\"showland\":true,\"subunitcolor\":\"white\"},\"hoverlabel\":{\"align\":\"left\"},\"hovermode\":\"closest\",\"mapbox\":{\"style\":\"light\"},\"paper_bgcolor\":\"white\",\"plot_bgcolor\":\"#E5ECF6\",\"polar\":{\"angularaxis\":{\"gridcolor\":\"white\",\"linecolor\":\"white\",\"ticks\":\"\"},\"bgcolor\":\"#E5ECF6\",\"radialaxis\":{\"gridcolor\":\"white\",\"linecolor\":\"white\",\"ticks\":\"\"}},\"scene\":{\"xaxis\":{\"backgroundcolor\":\"#E5ECF6\",\"gridcolor\":\"white\",\"gridwidth\":2,\"linecolor\":\"white\",\"showbackground\":true,\"ticks\":\"\",\"zerolinecolor\":\"white\"},\"yaxis\":{\"backgroundcolor\":\"#E5ECF6\",\"gridcolor\":\"white\",\"gridwidth\":2,\"linecolor\":\"white\",\"showbackground\":true,\"ticks\":\"\",\"zerolinecolor\":\"white\"},\"zaxis\":{\"backgroundcolor\":\"#E5ECF6\",\"gridcolor\":\"white\",\"gridwidth\":2,\"linecolor\":\"white\",\"showbackground\":true,\"ticks\":\"\",\"zerolinecolor\":\"white\"}},\"shapedefaults\":{\"line\":{\"color\":\"#2a3f5f\"}},\"ternary\":{\"aaxis\":{\"gridcolor\":\"white\",\"linecolor\":\"white\",\"ticks\":\"\"},\"baxis\":{\"gridcolor\":\"white\",\"linecolor\":\"white\",\"ticks\":\"\"},\"bgcolor\":\"#E5ECF6\",\"caxis\":{\"gridcolor\":\"white\",\"linecolor\":\"white\",\"ticks\":\"\"}},\"title\":{\"x\":0.05},\"xaxis\":{\"automargin\":true,\"gridcolor\":\"white\",\"linecolor\":\"white\",\"ticks\":\"\",\"title\":{\"standoff\":15},\"zerolinecolor\":\"white\",\"zerolinewidth\":2},\"yaxis\":{\"automargin\":true,\"gridcolor\":\"white\",\"linecolor\":\"white\",\"ticks\":\"\",\"title\":{\"standoff\":15},\"zerolinecolor\":\"white\",\"zerolinewidth\":2}}},\"xaxis\":{\"anchor\":\"y\",\"domain\":[0.0,1.0]},\"yaxis\":{\"anchor\":\"x\",\"domain\":[0.625,1.0]},\"xaxis2\":{\"anchor\":\"y2\",\"domain\":[0.0,1.0],\"title\":{\"text\":\"Epoch\"}},\"yaxis2\":{\"anchor\":\"x2\",\"domain\":[0.0,0.375]},\"annotations\":[{\"font\":{\"size\":16},\"showarrow\":false,\"text\":\"loss\",\"x\":0.5,\"xanchor\":\"center\",\"xref\":\"paper\",\"y\":1.0,\"yanchor\":\"bottom\",\"yref\":\"paper\"},{\"font\":{\"size\":16},\"showarrow\":false,\"text\":\"acc\",\"x\":0.5,\"xanchor\":\"center\",\"xref\":\"paper\",\"y\":0.375,\"yanchor\":\"bottom\",\"yref\":\"paper\"}]},                        {\"responsive\": true}                    ).then(function(){\n",
              "                            \n",
              "var gd = document.getElementById('01441c92-ef6f-4c11-928d-1e8f3d926102');\n",
              "var x = new MutationObserver(function (mutations, observer) {{\n",
              "        var display = window.getComputedStyle(gd).display;\n",
              "        if (!display || display === 'none') {{\n",
              "            console.log([gd, 'removed!']);\n",
              "            Plotly.purge(gd);\n",
              "            observer.disconnect();\n",
              "        }}\n",
              "}});\n",
              "\n",
              "// Listen for the removal of the full notebook cells\n",
              "var notebookContainer = gd.closest('#notebook-container');\n",
              "if (notebookContainer) {{\n",
              "    x.observe(notebookContainer, {childList: true});\n",
              "}}\n",
              "\n",
              "// Listen for the clearing of the current output cell\n",
              "var outputEl = gd.closest('.output');\n",
              "if (outputEl) {{\n",
              "    x.observe(outputEl, {childList: true});\n",
              "}}\n",
              "\n",
              "                        })                };                            </script>        </div>\n",
              "</body>\n",
              "</html>"
            ]
          },
          "metadata": {}
        }
      ],
      "source": [
        "metrics.multi_plot(table.data_frame() ,['loss', 'acc'])"
      ]
    },
    {
      "cell_type": "markdown",
      "source": [
        "# EVALUATION MODEL"
      ],
      "metadata": {
        "id": "W1WjI7Aqsaxp"
      }
    },
    {
      "cell_type": "code",
      "source": [
        "TEST_RESULTS = []\n",
        "VALID_RESULTS = []"
      ],
      "metadata": {
        "id": "zy5rjWjow2uC"
      },
      "execution_count": 291,
      "outputs": []
    },
    {
      "cell_type": "markdown",
      "metadata": {
        "id": "091Rorj0F14w"
      },
      "source": [
        "## Evaluation"
      ]
    },
    {
      "cell_type": "code",
      "execution_count": 292,
      "metadata": {
        "colab": {
          "base_uri": "https://localhost:8080/",
          "height": 975
        },
        "id": "SSF9ve9FpsQR",
        "outputId": "7847d0cd-804a-486a-ba7b-69774ca9de7a"
      },
      "outputs": [
        {
          "output_type": "stream",
          "name": "stdout",
          "text": [
            "      y   predict\n",
            "0   0.0  0.538834\n",
            "1   1.0  0.534328\n",
            "2   1.0  0.472509\n",
            "3   1.0  0.478147\n",
            "4   0.0  0.474041\n",
            "5   0.0  0.478986\n",
            "6   0.0  0.507118\n",
            "7   1.0  0.539953\n",
            "8   0.0  0.506370\n",
            "9   1.0  0.508214\n",
            "10  0.0  0.532180\n",
            "11  0.0  0.533954\n",
            "12  0.0  0.495446\n",
            "13  0.0  0.531489\n",
            "14  1.0  0.537580\n",
            "15  1.0  0.525257\n",
            "16  0.0  0.526454\n",
            "\n",
            " Metrics values\n",
            "{'acc': 0.47058823704719543,\n",
            " 'f1': 0.47058823704719543,\n",
            " 'recall': 0.47058823704719543,\n",
            " 'wss': 0.0,\n",
            " 'wss95': 0.0}\n"
          ]
        },
        {
          "output_type": "display_data",
          "data": {
            "text/html": [
              "<html>\n",
              "<head><meta charset=\"utf-8\" /></head>\n",
              "<body>\n",
              "    <div>            <script src=\"https://cdnjs.cloudflare.com/ajax/libs/mathjax/2.7.5/MathJax.js?config=TeX-AMS-MML_SVG\"></script><script type=\"text/javascript\">if (window.MathJax) {MathJax.Hub.Config({SVG: {font: \"STIX-Web\"}});}</script>                <script type=\"text/javascript\">window.PlotlyConfig = {MathJaxConfig: 'local'};</script>\n",
              "        <script src=\"https://cdn.plot.ly/plotly-2.8.3.min.js\"></script>                <div id=\"da7ff750-b42e-4aa4-85ef-dbda8aa39735\" class=\"plotly-graph-div\" style=\"height:525px; width:100%;\"></div>            <script type=\"text/javascript\">                                    window.PLOTLYENV=window.PLOTLYENV || {};                                    if (document.getElementById(\"da7ff750-b42e-4aa4-85ef-dbda8aa39735\")) {                    Plotly.newPlot(                        \"da7ff750-b42e-4aa4-85ef-dbda8aa39735\",                        [{\"coloraxis\":\"coloraxis\",\"name\":\"0\",\"texttemplate\":\"%{text}\",\"x\":[\"0\",\"1\"],\"y\":[\"0\",\"1\"],\"z\":[[0.1764705926179886,0.4117647111415863],[0.11764705926179886,0.29411765933036804]],\"type\":\"heatmap\",\"xaxis\":\"x\",\"yaxis\":\"y\",\"hovertemplate\":\"x: %{x}<br>y: %{y}<br>color: %{z}<extra></extra>\",\"text\":[[\"3<br>17.65%\",\"7<br>41.18%\"],[\"2<br>11.76%\",\"5<br>29.41%\"]]}],                        {\"template\":{\"data\":{\"bar\":[{\"error_x\":{\"color\":\"#2a3f5f\"},\"error_y\":{\"color\":\"#2a3f5f\"},\"marker\":{\"line\":{\"color\":\"#E5ECF6\",\"width\":0.5},\"pattern\":{\"fillmode\":\"overlay\",\"size\":10,\"solidity\":0.2}},\"type\":\"bar\"}],\"barpolar\":[{\"marker\":{\"line\":{\"color\":\"#E5ECF6\",\"width\":0.5},\"pattern\":{\"fillmode\":\"overlay\",\"size\":10,\"solidity\":0.2}},\"type\":\"barpolar\"}],\"carpet\":[{\"aaxis\":{\"endlinecolor\":\"#2a3f5f\",\"gridcolor\":\"white\",\"linecolor\":\"white\",\"minorgridcolor\":\"white\",\"startlinecolor\":\"#2a3f5f\"},\"baxis\":{\"endlinecolor\":\"#2a3f5f\",\"gridcolor\":\"white\",\"linecolor\":\"white\",\"minorgridcolor\":\"white\",\"startlinecolor\":\"#2a3f5f\"},\"type\":\"carpet\"}],\"choropleth\":[{\"colorbar\":{\"outlinewidth\":0,\"ticks\":\"\"},\"type\":\"choropleth\"}],\"contour\":[{\"colorbar\":{\"outlinewidth\":0,\"ticks\":\"\"},\"colorscale\":[[0.0,\"#0d0887\"],[0.1111111111111111,\"#46039f\"],[0.2222222222222222,\"#7201a8\"],[0.3333333333333333,\"#9c179e\"],[0.4444444444444444,\"#bd3786\"],[0.5555555555555556,\"#d8576b\"],[0.6666666666666666,\"#ed7953\"],[0.7777777777777778,\"#fb9f3a\"],[0.8888888888888888,\"#fdca26\"],[1.0,\"#f0f921\"]],\"type\":\"contour\"}],\"contourcarpet\":[{\"colorbar\":{\"outlinewidth\":0,\"ticks\":\"\"},\"type\":\"contourcarpet\"}],\"heatmap\":[{\"colorbar\":{\"outlinewidth\":0,\"ticks\":\"\"},\"colorscale\":[[0.0,\"#0d0887\"],[0.1111111111111111,\"#46039f\"],[0.2222222222222222,\"#7201a8\"],[0.3333333333333333,\"#9c179e\"],[0.4444444444444444,\"#bd3786\"],[0.5555555555555556,\"#d8576b\"],[0.6666666666666666,\"#ed7953\"],[0.7777777777777778,\"#fb9f3a\"],[0.8888888888888888,\"#fdca26\"],[1.0,\"#f0f921\"]],\"type\":\"heatmap\"}],\"heatmapgl\":[{\"colorbar\":{\"outlinewidth\":0,\"ticks\":\"\"},\"colorscale\":[[0.0,\"#0d0887\"],[0.1111111111111111,\"#46039f\"],[0.2222222222222222,\"#7201a8\"],[0.3333333333333333,\"#9c179e\"],[0.4444444444444444,\"#bd3786\"],[0.5555555555555556,\"#d8576b\"],[0.6666666666666666,\"#ed7953\"],[0.7777777777777778,\"#fb9f3a\"],[0.8888888888888888,\"#fdca26\"],[1.0,\"#f0f921\"]],\"type\":\"heatmapgl\"}],\"histogram\":[{\"marker\":{\"pattern\":{\"fillmode\":\"overlay\",\"size\":10,\"solidity\":0.2}},\"type\":\"histogram\"}],\"histogram2d\":[{\"colorbar\":{\"outlinewidth\":0,\"ticks\":\"\"},\"colorscale\":[[0.0,\"#0d0887\"],[0.1111111111111111,\"#46039f\"],[0.2222222222222222,\"#7201a8\"],[0.3333333333333333,\"#9c179e\"],[0.4444444444444444,\"#bd3786\"],[0.5555555555555556,\"#d8576b\"],[0.6666666666666666,\"#ed7953\"],[0.7777777777777778,\"#fb9f3a\"],[0.8888888888888888,\"#fdca26\"],[1.0,\"#f0f921\"]],\"type\":\"histogram2d\"}],\"histogram2dcontour\":[{\"colorbar\":{\"outlinewidth\":0,\"ticks\":\"\"},\"colorscale\":[[0.0,\"#0d0887\"],[0.1111111111111111,\"#46039f\"],[0.2222222222222222,\"#7201a8\"],[0.3333333333333333,\"#9c179e\"],[0.4444444444444444,\"#bd3786\"],[0.5555555555555556,\"#d8576b\"],[0.6666666666666666,\"#ed7953\"],[0.7777777777777778,\"#fb9f3a\"],[0.8888888888888888,\"#fdca26\"],[1.0,\"#f0f921\"]],\"type\":\"histogram2dcontour\"}],\"mesh3d\":[{\"colorbar\":{\"outlinewidth\":0,\"ticks\":\"\"},\"type\":\"mesh3d\"}],\"parcoords\":[{\"line\":{\"colorbar\":{\"outlinewidth\":0,\"ticks\":\"\"}},\"type\":\"parcoords\"}],\"pie\":[{\"automargin\":true,\"type\":\"pie\"}],\"scatter\":[{\"marker\":{\"colorbar\":{\"outlinewidth\":0,\"ticks\":\"\"}},\"type\":\"scatter\"}],\"scatter3d\":[{\"line\":{\"colorbar\":{\"outlinewidth\":0,\"ticks\":\"\"}},\"marker\":{\"colorbar\":{\"outlinewidth\":0,\"ticks\":\"\"}},\"type\":\"scatter3d\"}],\"scattercarpet\":[{\"marker\":{\"colorbar\":{\"outlinewidth\":0,\"ticks\":\"\"}},\"type\":\"scattercarpet\"}],\"scattergeo\":[{\"marker\":{\"colorbar\":{\"outlinewidth\":0,\"ticks\":\"\"}},\"type\":\"scattergeo\"}],\"scattergl\":[{\"marker\":{\"colorbar\":{\"outlinewidth\":0,\"ticks\":\"\"}},\"type\":\"scattergl\"}],\"scattermapbox\":[{\"marker\":{\"colorbar\":{\"outlinewidth\":0,\"ticks\":\"\"}},\"type\":\"scattermapbox\"}],\"scatterpolar\":[{\"marker\":{\"colorbar\":{\"outlinewidth\":0,\"ticks\":\"\"}},\"type\":\"scatterpolar\"}],\"scatterpolargl\":[{\"marker\":{\"colorbar\":{\"outlinewidth\":0,\"ticks\":\"\"}},\"type\":\"scatterpolargl\"}],\"scatterternary\":[{\"marker\":{\"colorbar\":{\"outlinewidth\":0,\"ticks\":\"\"}},\"type\":\"scatterternary\"}],\"surface\":[{\"colorbar\":{\"outlinewidth\":0,\"ticks\":\"\"},\"colorscale\":[[0.0,\"#0d0887\"],[0.1111111111111111,\"#46039f\"],[0.2222222222222222,\"#7201a8\"],[0.3333333333333333,\"#9c179e\"],[0.4444444444444444,\"#bd3786\"],[0.5555555555555556,\"#d8576b\"],[0.6666666666666666,\"#ed7953\"],[0.7777777777777778,\"#fb9f3a\"],[0.8888888888888888,\"#fdca26\"],[1.0,\"#f0f921\"]],\"type\":\"surface\"}],\"table\":[{\"cells\":{\"fill\":{\"color\":\"#EBF0F8\"},\"line\":{\"color\":\"white\"}},\"header\":{\"fill\":{\"color\":\"#C8D4E3\"},\"line\":{\"color\":\"white\"}},\"type\":\"table\"}]},\"layout\":{\"annotationdefaults\":{\"arrowcolor\":\"#2a3f5f\",\"arrowhead\":0,\"arrowwidth\":1},\"autotypenumbers\":\"strict\",\"coloraxis\":{\"colorbar\":{\"outlinewidth\":0,\"ticks\":\"\"}},\"colorscale\":{\"diverging\":[[0,\"#8e0152\"],[0.1,\"#c51b7d\"],[0.2,\"#de77ae\"],[0.3,\"#f1b6da\"],[0.4,\"#fde0ef\"],[0.5,\"#f7f7f7\"],[0.6,\"#e6f5d0\"],[0.7,\"#b8e186\"],[0.8,\"#7fbc41\"],[0.9,\"#4d9221\"],[1,\"#276419\"]],\"sequential\":[[0.0,\"#0d0887\"],[0.1111111111111111,\"#46039f\"],[0.2222222222222222,\"#7201a8\"],[0.3333333333333333,\"#9c179e\"],[0.4444444444444444,\"#bd3786\"],[0.5555555555555556,\"#d8576b\"],[0.6666666666666666,\"#ed7953\"],[0.7777777777777778,\"#fb9f3a\"],[0.8888888888888888,\"#fdca26\"],[1.0,\"#f0f921\"]],\"sequentialminus\":[[0.0,\"#0d0887\"],[0.1111111111111111,\"#46039f\"],[0.2222222222222222,\"#7201a8\"],[0.3333333333333333,\"#9c179e\"],[0.4444444444444444,\"#bd3786\"],[0.5555555555555556,\"#d8576b\"],[0.6666666666666666,\"#ed7953\"],[0.7777777777777778,\"#fb9f3a\"],[0.8888888888888888,\"#fdca26\"],[1.0,\"#f0f921\"]]},\"colorway\":[\"#636efa\",\"#EF553B\",\"#00cc96\",\"#ab63fa\",\"#FFA15A\",\"#19d3f3\",\"#FF6692\",\"#B6E880\",\"#FF97FF\",\"#FECB52\"],\"font\":{\"color\":\"#2a3f5f\"},\"geo\":{\"bgcolor\":\"white\",\"lakecolor\":\"white\",\"landcolor\":\"#E5ECF6\",\"showlakes\":true,\"showland\":true,\"subunitcolor\":\"white\"},\"hoverlabel\":{\"align\":\"left\"},\"hovermode\":\"closest\",\"mapbox\":{\"style\":\"light\"},\"paper_bgcolor\":\"white\",\"plot_bgcolor\":\"#E5ECF6\",\"polar\":{\"angularaxis\":{\"gridcolor\":\"white\",\"linecolor\":\"white\",\"ticks\":\"\"},\"bgcolor\":\"#E5ECF6\",\"radialaxis\":{\"gridcolor\":\"white\",\"linecolor\":\"white\",\"ticks\":\"\"}},\"scene\":{\"xaxis\":{\"backgroundcolor\":\"#E5ECF6\",\"gridcolor\":\"white\",\"gridwidth\":2,\"linecolor\":\"white\",\"showbackground\":true,\"ticks\":\"\",\"zerolinecolor\":\"white\"},\"yaxis\":{\"backgroundcolor\":\"#E5ECF6\",\"gridcolor\":\"white\",\"gridwidth\":2,\"linecolor\":\"white\",\"showbackground\":true,\"ticks\":\"\",\"zerolinecolor\":\"white\"},\"zaxis\":{\"backgroundcolor\":\"#E5ECF6\",\"gridcolor\":\"white\",\"gridwidth\":2,\"linecolor\":\"white\",\"showbackground\":true,\"ticks\":\"\",\"zerolinecolor\":\"white\"}},\"shapedefaults\":{\"line\":{\"color\":\"#2a3f5f\"}},\"ternary\":{\"aaxis\":{\"gridcolor\":\"white\",\"linecolor\":\"white\",\"ticks\":\"\"},\"baxis\":{\"gridcolor\":\"white\",\"linecolor\":\"white\",\"ticks\":\"\"},\"bgcolor\":\"#E5ECF6\",\"caxis\":{\"gridcolor\":\"white\",\"linecolor\":\"white\",\"ticks\":\"\"}},\"title\":{\"x\":0.05},\"xaxis\":{\"automargin\":true,\"gridcolor\":\"white\",\"linecolor\":\"white\",\"ticks\":\"\",\"title\":{\"standoff\":15},\"zerolinecolor\":\"white\",\"zerolinewidth\":2},\"yaxis\":{\"automargin\":true,\"gridcolor\":\"white\",\"linecolor\":\"white\",\"ticks\":\"\",\"title\":{\"standoff\":15},\"zerolinecolor\":\"white\",\"zerolinewidth\":2}}},\"xaxis\":{\"anchor\":\"y\",\"domain\":[0.0,1.0],\"title\":{\"text\":\"Predict\",\"font\":{\"size\":20,\"color\":\"black\"}},\"tickfont\":{\"size\":20}},\"yaxis\":{\"anchor\":\"x\",\"domain\":[0.0,1.0],\"autorange\":\"reversed\",\"title\":{\"text\":\"Label\",\"font\":{\"size\":20,\"color\":\"black\"}},\"tickfont\":{\"size\":20}},\"coloraxis\":{\"colorscale\":[[0.0,\"rgb(247,251,255)\"],[0.125,\"rgb(222,235,247)\"],[0.25,\"rgb(198,219,239)\"],[0.375,\"rgb(158,202,225)\"],[0.5,\"rgb(107,174,214)\"],[0.625,\"rgb(66,146,198)\"],[0.75,\"rgb(33,113,181)\"],[0.875,\"rgb(8,81,156)\"],[1.0,\"rgb(8,48,107)\"]],\"cmin\":0,\"cmax\":0.4117647111415863},\"margin\":{\"t\":60}},                        {\"responsive\": true}                    ).then(function(){\n",
              "                            \n",
              "var gd = document.getElementById('da7ff750-b42e-4aa4-85ef-dbda8aa39735');\n",
              "var x = new MutationObserver(function (mutations, observer) {{\n",
              "        var display = window.getComputedStyle(gd).display;\n",
              "        if (!display || display === 'none') {{\n",
              "            console.log([gd, 'removed!']);\n",
              "            Plotly.purge(gd);\n",
              "            observer.disconnect();\n",
              "        }}\n",
              "}});\n",
              "\n",
              "// Listen for the removal of the full notebook cells\n",
              "var notebookContainer = gd.closest('#notebook-container');\n",
              "if (notebookContainer) {{\n",
              "    x.observe(notebookContainer, {childList: true});\n",
              "}}\n",
              "\n",
              "// Listen for the clearing of the current output cell\n",
              "var outputEl = gd.closest('.output');\n",
              "if (outputEl) {{\n",
              "    x.observe(outputEl, {childList: true});\n",
              "}}\n",
              "\n",
              "                        })                };                            </script>        </div>\n",
              "</body>\n",
              "</html>"
            ]
          },
          "metadata": {}
        }
      ],
      "source": [
        "result = metrics.get_confusion_matrix(model, test, threshold=META_INFO['threshold'])\n",
        "\n",
        "TEST_RESULTS.append((SEED, result))"
      ]
    },
    {
      "cell_type": "code",
      "execution_count": 293,
      "metadata": {
        "colab": {
          "base_uri": "https://localhost:8080/",
          "height": 975
        },
        "id": "Jcm69mSVBnkH",
        "outputId": "931805b6-8336-4837-9e2c-609c2c64a3cb"
      },
      "outputs": [
        {
          "output_type": "stream",
          "name": "stdout",
          "text": [
            "      y   predict\n",
            "0   0.0  0.522824\n",
            "1   0.0  0.471069\n",
            "2   0.0  0.534947\n",
            "3   1.0  0.518254\n",
            "4   0.0  0.458212\n",
            "5   0.0  0.460986\n",
            "6   1.0  0.536530\n",
            "7   1.0  0.485146\n",
            "8   1.0  0.519249\n",
            "9   0.0  0.499740\n",
            "10  0.0  0.534292\n",
            "11  0.0  0.487498\n",
            "12  1.0  0.471537\n",
            "13  0.0  0.458776\n",
            "14  1.0  0.523989\n",
            "15  0.0  0.502244\n",
            "16  1.0  0.530533\n",
            "\n",
            " Metrics values\n",
            "{'acc': 0.6470588445663452,\n",
            " 'f1': 0.6470588445663452,\n",
            " 'recall': 0.6470588445663452,\n",
            " 'wss': 0.1764706,\n",
            " 'wss95': 0.1764706}\n"
          ]
        },
        {
          "output_type": "display_data",
          "data": {
            "text/html": [
              "<html>\n",
              "<head><meta charset=\"utf-8\" /></head>\n",
              "<body>\n",
              "    <div>            <script src=\"https://cdnjs.cloudflare.com/ajax/libs/mathjax/2.7.5/MathJax.js?config=TeX-AMS-MML_SVG\"></script><script type=\"text/javascript\">if (window.MathJax) {MathJax.Hub.Config({SVG: {font: \"STIX-Web\"}});}</script>                <script type=\"text/javascript\">window.PlotlyConfig = {MathJaxConfig: 'local'};</script>\n",
              "        <script src=\"https://cdn.plot.ly/plotly-2.8.3.min.js\"></script>                <div id=\"7d8efe3a-3301-4931-9ea1-8c45d5e492b7\" class=\"plotly-graph-div\" style=\"height:525px; width:100%;\"></div>            <script type=\"text/javascript\">                                    window.PLOTLYENV=window.PLOTLYENV || {};                                    if (document.getElementById(\"7d8efe3a-3301-4931-9ea1-8c45d5e492b7\")) {                    Plotly.newPlot(                        \"7d8efe3a-3301-4931-9ea1-8c45d5e492b7\",                        [{\"coloraxis\":\"coloraxis\",\"name\":\"0\",\"texttemplate\":\"%{text}\",\"x\":[\"0\",\"1\"],\"y\":[\"0\",\"1\"],\"z\":[[0.3529411852359772,0.23529411852359772],[0.11764705926179886,0.29411765933036804]],\"type\":\"heatmap\",\"xaxis\":\"x\",\"yaxis\":\"y\",\"hovertemplate\":\"x: %{x}<br>y: %{y}<br>color: %{z}<extra></extra>\",\"text\":[[\"6<br>35.29%\",\"4<br>23.53%\"],[\"2<br>11.76%\",\"5<br>29.41%\"]]}],                        {\"template\":{\"data\":{\"bar\":[{\"error_x\":{\"color\":\"#2a3f5f\"},\"error_y\":{\"color\":\"#2a3f5f\"},\"marker\":{\"line\":{\"color\":\"#E5ECF6\",\"width\":0.5},\"pattern\":{\"fillmode\":\"overlay\",\"size\":10,\"solidity\":0.2}},\"type\":\"bar\"}],\"barpolar\":[{\"marker\":{\"line\":{\"color\":\"#E5ECF6\",\"width\":0.5},\"pattern\":{\"fillmode\":\"overlay\",\"size\":10,\"solidity\":0.2}},\"type\":\"barpolar\"}],\"carpet\":[{\"aaxis\":{\"endlinecolor\":\"#2a3f5f\",\"gridcolor\":\"white\",\"linecolor\":\"white\",\"minorgridcolor\":\"white\",\"startlinecolor\":\"#2a3f5f\"},\"baxis\":{\"endlinecolor\":\"#2a3f5f\",\"gridcolor\":\"white\",\"linecolor\":\"white\",\"minorgridcolor\":\"white\",\"startlinecolor\":\"#2a3f5f\"},\"type\":\"carpet\"}],\"choropleth\":[{\"colorbar\":{\"outlinewidth\":0,\"ticks\":\"\"},\"type\":\"choropleth\"}],\"contour\":[{\"colorbar\":{\"outlinewidth\":0,\"ticks\":\"\"},\"colorscale\":[[0.0,\"#0d0887\"],[0.1111111111111111,\"#46039f\"],[0.2222222222222222,\"#7201a8\"],[0.3333333333333333,\"#9c179e\"],[0.4444444444444444,\"#bd3786\"],[0.5555555555555556,\"#d8576b\"],[0.6666666666666666,\"#ed7953\"],[0.7777777777777778,\"#fb9f3a\"],[0.8888888888888888,\"#fdca26\"],[1.0,\"#f0f921\"]],\"type\":\"contour\"}],\"contourcarpet\":[{\"colorbar\":{\"outlinewidth\":0,\"ticks\":\"\"},\"type\":\"contourcarpet\"}],\"heatmap\":[{\"colorbar\":{\"outlinewidth\":0,\"ticks\":\"\"},\"colorscale\":[[0.0,\"#0d0887\"],[0.1111111111111111,\"#46039f\"],[0.2222222222222222,\"#7201a8\"],[0.3333333333333333,\"#9c179e\"],[0.4444444444444444,\"#bd3786\"],[0.5555555555555556,\"#d8576b\"],[0.6666666666666666,\"#ed7953\"],[0.7777777777777778,\"#fb9f3a\"],[0.8888888888888888,\"#fdca26\"],[1.0,\"#f0f921\"]],\"type\":\"heatmap\"}],\"heatmapgl\":[{\"colorbar\":{\"outlinewidth\":0,\"ticks\":\"\"},\"colorscale\":[[0.0,\"#0d0887\"],[0.1111111111111111,\"#46039f\"],[0.2222222222222222,\"#7201a8\"],[0.3333333333333333,\"#9c179e\"],[0.4444444444444444,\"#bd3786\"],[0.5555555555555556,\"#d8576b\"],[0.6666666666666666,\"#ed7953\"],[0.7777777777777778,\"#fb9f3a\"],[0.8888888888888888,\"#fdca26\"],[1.0,\"#f0f921\"]],\"type\":\"heatmapgl\"}],\"histogram\":[{\"marker\":{\"pattern\":{\"fillmode\":\"overlay\",\"size\":10,\"solidity\":0.2}},\"type\":\"histogram\"}],\"histogram2d\":[{\"colorbar\":{\"outlinewidth\":0,\"ticks\":\"\"},\"colorscale\":[[0.0,\"#0d0887\"],[0.1111111111111111,\"#46039f\"],[0.2222222222222222,\"#7201a8\"],[0.3333333333333333,\"#9c179e\"],[0.4444444444444444,\"#bd3786\"],[0.5555555555555556,\"#d8576b\"],[0.6666666666666666,\"#ed7953\"],[0.7777777777777778,\"#fb9f3a\"],[0.8888888888888888,\"#fdca26\"],[1.0,\"#f0f921\"]],\"type\":\"histogram2d\"}],\"histogram2dcontour\":[{\"colorbar\":{\"outlinewidth\":0,\"ticks\":\"\"},\"colorscale\":[[0.0,\"#0d0887\"],[0.1111111111111111,\"#46039f\"],[0.2222222222222222,\"#7201a8\"],[0.3333333333333333,\"#9c179e\"],[0.4444444444444444,\"#bd3786\"],[0.5555555555555556,\"#d8576b\"],[0.6666666666666666,\"#ed7953\"],[0.7777777777777778,\"#fb9f3a\"],[0.8888888888888888,\"#fdca26\"],[1.0,\"#f0f921\"]],\"type\":\"histogram2dcontour\"}],\"mesh3d\":[{\"colorbar\":{\"outlinewidth\":0,\"ticks\":\"\"},\"type\":\"mesh3d\"}],\"parcoords\":[{\"line\":{\"colorbar\":{\"outlinewidth\":0,\"ticks\":\"\"}},\"type\":\"parcoords\"}],\"pie\":[{\"automargin\":true,\"type\":\"pie\"}],\"scatter\":[{\"marker\":{\"colorbar\":{\"outlinewidth\":0,\"ticks\":\"\"}},\"type\":\"scatter\"}],\"scatter3d\":[{\"line\":{\"colorbar\":{\"outlinewidth\":0,\"ticks\":\"\"}},\"marker\":{\"colorbar\":{\"outlinewidth\":0,\"ticks\":\"\"}},\"type\":\"scatter3d\"}],\"scattercarpet\":[{\"marker\":{\"colorbar\":{\"outlinewidth\":0,\"ticks\":\"\"}},\"type\":\"scattercarpet\"}],\"scattergeo\":[{\"marker\":{\"colorbar\":{\"outlinewidth\":0,\"ticks\":\"\"}},\"type\":\"scattergeo\"}],\"scattergl\":[{\"marker\":{\"colorbar\":{\"outlinewidth\":0,\"ticks\":\"\"}},\"type\":\"scattergl\"}],\"scattermapbox\":[{\"marker\":{\"colorbar\":{\"outlinewidth\":0,\"ticks\":\"\"}},\"type\":\"scattermapbox\"}],\"scatterpolar\":[{\"marker\":{\"colorbar\":{\"outlinewidth\":0,\"ticks\":\"\"}},\"type\":\"scatterpolar\"}],\"scatterpolargl\":[{\"marker\":{\"colorbar\":{\"outlinewidth\":0,\"ticks\":\"\"}},\"type\":\"scatterpolargl\"}],\"scatterternary\":[{\"marker\":{\"colorbar\":{\"outlinewidth\":0,\"ticks\":\"\"}},\"type\":\"scatterternary\"}],\"surface\":[{\"colorbar\":{\"outlinewidth\":0,\"ticks\":\"\"},\"colorscale\":[[0.0,\"#0d0887\"],[0.1111111111111111,\"#46039f\"],[0.2222222222222222,\"#7201a8\"],[0.3333333333333333,\"#9c179e\"],[0.4444444444444444,\"#bd3786\"],[0.5555555555555556,\"#d8576b\"],[0.6666666666666666,\"#ed7953\"],[0.7777777777777778,\"#fb9f3a\"],[0.8888888888888888,\"#fdca26\"],[1.0,\"#f0f921\"]],\"type\":\"surface\"}],\"table\":[{\"cells\":{\"fill\":{\"color\":\"#EBF0F8\"},\"line\":{\"color\":\"white\"}},\"header\":{\"fill\":{\"color\":\"#C8D4E3\"},\"line\":{\"color\":\"white\"}},\"type\":\"table\"}]},\"layout\":{\"annotationdefaults\":{\"arrowcolor\":\"#2a3f5f\",\"arrowhead\":0,\"arrowwidth\":1},\"autotypenumbers\":\"strict\",\"coloraxis\":{\"colorbar\":{\"outlinewidth\":0,\"ticks\":\"\"}},\"colorscale\":{\"diverging\":[[0,\"#8e0152\"],[0.1,\"#c51b7d\"],[0.2,\"#de77ae\"],[0.3,\"#f1b6da\"],[0.4,\"#fde0ef\"],[0.5,\"#f7f7f7\"],[0.6,\"#e6f5d0\"],[0.7,\"#b8e186\"],[0.8,\"#7fbc41\"],[0.9,\"#4d9221\"],[1,\"#276419\"]],\"sequential\":[[0.0,\"#0d0887\"],[0.1111111111111111,\"#46039f\"],[0.2222222222222222,\"#7201a8\"],[0.3333333333333333,\"#9c179e\"],[0.4444444444444444,\"#bd3786\"],[0.5555555555555556,\"#d8576b\"],[0.6666666666666666,\"#ed7953\"],[0.7777777777777778,\"#fb9f3a\"],[0.8888888888888888,\"#fdca26\"],[1.0,\"#f0f921\"]],\"sequentialminus\":[[0.0,\"#0d0887\"],[0.1111111111111111,\"#46039f\"],[0.2222222222222222,\"#7201a8\"],[0.3333333333333333,\"#9c179e\"],[0.4444444444444444,\"#bd3786\"],[0.5555555555555556,\"#d8576b\"],[0.6666666666666666,\"#ed7953\"],[0.7777777777777778,\"#fb9f3a\"],[0.8888888888888888,\"#fdca26\"],[1.0,\"#f0f921\"]]},\"colorway\":[\"#636efa\",\"#EF553B\",\"#00cc96\",\"#ab63fa\",\"#FFA15A\",\"#19d3f3\",\"#FF6692\",\"#B6E880\",\"#FF97FF\",\"#FECB52\"],\"font\":{\"color\":\"#2a3f5f\"},\"geo\":{\"bgcolor\":\"white\",\"lakecolor\":\"white\",\"landcolor\":\"#E5ECF6\",\"showlakes\":true,\"showland\":true,\"subunitcolor\":\"white\"},\"hoverlabel\":{\"align\":\"left\"},\"hovermode\":\"closest\",\"mapbox\":{\"style\":\"light\"},\"paper_bgcolor\":\"white\",\"plot_bgcolor\":\"#E5ECF6\",\"polar\":{\"angularaxis\":{\"gridcolor\":\"white\",\"linecolor\":\"white\",\"ticks\":\"\"},\"bgcolor\":\"#E5ECF6\",\"radialaxis\":{\"gridcolor\":\"white\",\"linecolor\":\"white\",\"ticks\":\"\"}},\"scene\":{\"xaxis\":{\"backgroundcolor\":\"#E5ECF6\",\"gridcolor\":\"white\",\"gridwidth\":2,\"linecolor\":\"white\",\"showbackground\":true,\"ticks\":\"\",\"zerolinecolor\":\"white\"},\"yaxis\":{\"backgroundcolor\":\"#E5ECF6\",\"gridcolor\":\"white\",\"gridwidth\":2,\"linecolor\":\"white\",\"showbackground\":true,\"ticks\":\"\",\"zerolinecolor\":\"white\"},\"zaxis\":{\"backgroundcolor\":\"#E5ECF6\",\"gridcolor\":\"white\",\"gridwidth\":2,\"linecolor\":\"white\",\"showbackground\":true,\"ticks\":\"\",\"zerolinecolor\":\"white\"}},\"shapedefaults\":{\"line\":{\"color\":\"#2a3f5f\"}},\"ternary\":{\"aaxis\":{\"gridcolor\":\"white\",\"linecolor\":\"white\",\"ticks\":\"\"},\"baxis\":{\"gridcolor\":\"white\",\"linecolor\":\"white\",\"ticks\":\"\"},\"bgcolor\":\"#E5ECF6\",\"caxis\":{\"gridcolor\":\"white\",\"linecolor\":\"white\",\"ticks\":\"\"}},\"title\":{\"x\":0.05},\"xaxis\":{\"automargin\":true,\"gridcolor\":\"white\",\"linecolor\":\"white\",\"ticks\":\"\",\"title\":{\"standoff\":15},\"zerolinecolor\":\"white\",\"zerolinewidth\":2},\"yaxis\":{\"automargin\":true,\"gridcolor\":\"white\",\"linecolor\":\"white\",\"ticks\":\"\",\"title\":{\"standoff\":15},\"zerolinecolor\":\"white\",\"zerolinewidth\":2}}},\"xaxis\":{\"anchor\":\"y\",\"domain\":[0.0,1.0],\"title\":{\"text\":\"Predict\",\"font\":{\"size\":20,\"color\":\"black\"}},\"tickfont\":{\"size\":20}},\"yaxis\":{\"anchor\":\"x\",\"domain\":[0.0,1.0],\"autorange\":\"reversed\",\"title\":{\"text\":\"Label\",\"font\":{\"size\":20,\"color\":\"black\"}},\"tickfont\":{\"size\":20}},\"coloraxis\":{\"colorscale\":[[0.0,\"rgb(247,251,255)\"],[0.125,\"rgb(222,235,247)\"],[0.25,\"rgb(198,219,239)\"],[0.375,\"rgb(158,202,225)\"],[0.5,\"rgb(107,174,214)\"],[0.625,\"rgb(66,146,198)\"],[0.75,\"rgb(33,113,181)\"],[0.875,\"rgb(8,81,156)\"],[1.0,\"rgb(8,48,107)\"]],\"cmin\":0,\"cmax\":0.3529411852359772},\"margin\":{\"t\":60}},                        {\"responsive\": true}                    ).then(function(){\n",
              "                            \n",
              "var gd = document.getElementById('7d8efe3a-3301-4931-9ea1-8c45d5e492b7');\n",
              "var x = new MutationObserver(function (mutations, observer) {{\n",
              "        var display = window.getComputedStyle(gd).display;\n",
              "        if (!display || display === 'none') {{\n",
              "            console.log([gd, 'removed!']);\n",
              "            Plotly.purge(gd);\n",
              "            observer.disconnect();\n",
              "        }}\n",
              "}});\n",
              "\n",
              "// Listen for the removal of the full notebook cells\n",
              "var notebookContainer = gd.closest('#notebook-container');\n",
              "if (notebookContainer) {{\n",
              "    x.observe(notebookContainer, {childList: true});\n",
              "}}\n",
              "\n",
              "// Listen for the clearing of the current output cell\n",
              "var outputEl = gd.closest('.output');\n",
              "if (outputEl) {{\n",
              "    x.observe(outputEl, {childList: true});\n",
              "}}\n",
              "\n",
              "                        })                };                            </script>        </div>\n",
              "</body>\n",
              "</html>"
            ]
          },
          "metadata": {}
        }
      ],
      "source": [
        "result = metrics.get_confusion_matrix(model, valid)\n",
        "\n",
        "VALID_RESULTS.append((SEED, result))"
      ]
    },
    {
      "cell_type": "markdown",
      "metadata": {
        "id": "Xl6QC7L7ZhKO"
      },
      "source": [
        "## SEEDs"
      ]
    },
    {
      "cell_type": "code",
      "execution_count": 294,
      "metadata": {
        "id": "8tgmYGeVS9u9"
      },
      "outputs": [],
      "source": [
        "SEEDS = [2022, 2202, 2220, 222]\n",
        "# np.random.seed(10)\n",
        "# SEEDS = np.random.choice(range(2221), 15, replace=False).tolist()"
      ]
    },
    {
      "cell_type": "markdown",
      "metadata": {
        "id": "3MNhpwjiS4yg"
      },
      "source": [
        "### TESTING Seeds"
      ]
    },
    {
      "cell_type": "code",
      "execution_count": 295,
      "metadata": {
        "id": "HKzH6dQVToVW"
      },
      "outputs": [],
      "source": [
        "for SEED in SEEDS:\n",
        "\n",
        "  # DATA\n",
        "  gen_seed = torch.Generator().manual_seed(SEED)\n",
        "\n",
        "  First_test = augmatation_data_context(**META_INFO)\n",
        "\n",
        "  # First_test.values_count\n",
        "\n",
        "  First_test.sample(META_INFO['sample_augmatation'], SEED=SEED, verbose=False)\n",
        "\n",
        "  train_Data, valid_Data, test_Data = First_test.split(train_size=META_INFO['train_split_size'],\n",
        "                                        validation_size=META_INFO['valid_split_size'],\n",
        "                                        SEED = SEED, verbose=False)\n",
        "  \n",
        "  index_sample =  SLR_test.groupby('decision').sample(sample_by, random_state=SEED,\n",
        "                                                    replace=False).index_SLR\n",
        "\n",
        "  data_partition_one = SLR_test[SLR_test.index_SLR.isin(index_sample)]\n",
        "  data_partition_two = SLR_test[~SLR_test.index_SLR.isin(index_sample)]\n",
        "\n",
        "  test_Data = pd.concat([data_partition_one,test_Data ]).dropna(1).sample(frac=1, random_state = SEED)\n",
        "\n",
        "  valid_Data = pd.concat([data_partition_two, valid_Data ]).dropna(1).sample(frac=1, random_state = SEED)\n",
        "\n",
        "\n",
        "  train_info = {\n",
        "      'data': train_Data,\n",
        "      'tokenizer': initializer_bert.tokenizer,\n",
        "      'max_token_len': META_INFO['max_token_len'],\n",
        "      'input': 'text_input',\n",
        "      'output': 'decision',\n",
        "      'batch_size':META_INFO['batch_size_train'], \n",
        "      }\n",
        "\n",
        "  valid_info = {\n",
        "      'data': valid_Data,\n",
        "      'tokenizer': initializer_bert.tokenizer,\n",
        "      'max_token_len': META_INFO['max_token_len'],\n",
        "      'input': 'abstract',\n",
        "      'output': 'decision',\n",
        "      'batch_size':len(valid_Data),\n",
        "      }\n",
        "\n",
        "  test_info = {\n",
        "      'data': test_Data,\n",
        "      'tokenizer': initializer_bert.tokenizer,\n",
        "      'max_token_len': META_INFO['max_token_len'],\n",
        "      'input': 'abstract',\n",
        "      'output': 'decision',\n",
        "      'batch_size':len(test_Data),\n",
        "      }\n",
        "\n",
        "  train, valid, test = augmatation_data_context.process(\n",
        "      train_info = train_info,\n",
        "      train_SAMPLER = META_INFO['Oversampler'],\n",
        "      valid_info = valid_info,\n",
        "      test_info = test_info,\n",
        "      gen_seed = gen_seed,\n",
        "      drop_last= True)\n",
        "\n",
        "  ## TRAINING\n",
        "\n",
        "  import torch\n",
        "  from torch import nn\n",
        "  import os\n",
        "  import numpy as np\n",
        "  import random\n",
        "  import gc\n",
        "\n",
        "  torch.manual_seed(SEED)\n",
        "  torch.cuda.manual_seed_all(SEED)\n",
        "  torch.backends.cudnn.deterministic = True\n",
        "  np.random.seed(SEED)\n",
        "  random.seed(SEED)\n",
        "  torch.clear_autocast_cache()\n",
        "  torch.manual_seed(SEED)\n",
        "  gc.collect()\n",
        "  torch.cuda.empty_cache()\n",
        "\n",
        "\n",
        "  Learning = {'N_EPOCH': META_INFO['N_EPOCH'],\n",
        "              'BATCH_SIZE': train_info.get('batch_size'),\n",
        "              'LEARNING_RATE': META_INFO['LEARNING_RATE']\n",
        "              }\n",
        "\n",
        "  steps_per_epoch=len(train_Data) // Learning.get('BATCH_SIZE')\n",
        "  total_training_steps = steps_per_epoch * Learning.get('N_EPOCH')\n",
        "\n",
        "  warmup_steps = total_training_steps // META_INFO['warmup_steps_pinnacle']\n",
        "\n",
        "  device = torch.device(\"cuda\" if torch.cuda.is_available() else \"cpu\")\n",
        "\n",
        "  model = SLR_Classifier(**{\n",
        "  \"bert_layers\": META_INFO['bert_layers'],\n",
        "  'drop': META_INFO['drop']\n",
        "  }).to(device)\n",
        "\n",
        "\n",
        "\n",
        "  loss_fn =  nn.BCELoss(reduction = 'mean')\n",
        "  optimizer = AdamW(model.parameters(), lr=Learning.get('LEARNING_RATE'))\n",
        "  scheduler = get_linear_schedule_with_warmup(\n",
        "    optimizer, \n",
        "    num_warmup_steps=warmup_steps,\n",
        "    num_training_steps=total_training_steps\n",
        "  )\n",
        "\n",
        "\n",
        "\n",
        "  Epochs = Learning.get('N_EPOCH')\n",
        "  DECISION_BOUDERY = META_INFO['DECISION_BOUDERY']\n",
        "\n",
        "  # table.reset()\n",
        "\n",
        "  # THE MAIN TRAINING LOOOP\n",
        "  for Epoch in range(0, Epochs):\n",
        "    model.train()\n",
        "    loss, y , y_ = loop.train_one_epoch(model, train, loss_fn, optimizer, scheduler, clip_gradient=META_INFO['clip_gradient'])\n",
        "\n",
        "  del optimizer, scheduler, loss_fn\n",
        "  del loss, y, y_\n",
        "  torch.cuda.empty_cache()\n",
        "\n",
        "\n",
        "  ## EVALUATING\n",
        "\n",
        "  result = metrics.get_confusion_matrix(model, test, threshold=META_INFO['threshold'], verbose = False)\n",
        "\n",
        "  TEST_RESULTS.append((SEED, result))\n",
        "\n",
        "  result = metrics.get_confusion_matrix(model, valid, verbose = False)\n",
        "\n",
        "  VALID_RESULTS.append((SEED, result))"
      ]
    },
    {
      "cell_type": "markdown",
      "source": [
        "## RESULT"
      ],
      "metadata": {
        "id": "ggBDWCdJ3l-4"
      }
    },
    {
      "cell_type": "code",
      "source": [
        "indexs = [seed for seed, resuts in TEST_RESULTS]\n",
        "\n",
        "# Confusion_matrix = [[TN, FN], [FP, TP]]\n",
        "\n",
        "TEST_RESULTS_data = [resuts for seed, resuts in TEST_RESULTS]\n",
        "TEST_RESULTS_data = pd.DataFrame(TEST_RESULTS_data, index= indexs)\n",
        "\n",
        "VALID_RESULTS_data = [resuts for seed, resuts in VALID_RESULTS]\n",
        "VALID_RESULTS_data = pd.DataFrame(VALID_RESULTS_data, index= indexs)\n"
      ],
      "metadata": {
        "id": "m3RBczep3xDp"
      },
      "execution_count": 296,
      "outputs": []
    },
    {
      "cell_type": "code",
      "source": [
        "TEST_RESULTS_data.loc[:, TEST_RESULTS_data.columns != 'Confusion_matrix'].describe()"
      ],
      "metadata": {
        "colab": {
          "base_uri": "https://localhost:8080/",
          "height": 300
        },
        "id": "vrFwgU-tGQ67",
        "outputId": "947507ab-b1d2-4f8c-b368-2d025c836afd"
      },
      "execution_count": 297,
      "outputs": [
        {
          "output_type": "execute_result",
          "data": {
            "text/html": [
              "\n",
              "  <div id=\"df-562d5a0f-e61f-448a-8b33-f09fdafa1739\">\n",
              "    <div class=\"colab-df-container\">\n",
              "      <div>\n",
              "<style scoped>\n",
              "    .dataframe tbody tr th:only-of-type {\n",
              "        vertical-align: middle;\n",
              "    }\n",
              "\n",
              "    .dataframe tbody tr th {\n",
              "        vertical-align: top;\n",
              "    }\n",
              "\n",
              "    .dataframe thead th {\n",
              "        text-align: right;\n",
              "    }\n",
              "</style>\n",
              "<table border=\"1\" class=\"dataframe\">\n",
              "  <thead>\n",
              "    <tr style=\"text-align: right;\">\n",
              "      <th></th>\n",
              "      <th>wss95</th>\n",
              "      <th>wss</th>\n",
              "      <th>acc</th>\n",
              "      <th>recall</th>\n",
              "      <th>f1</th>\n",
              "    </tr>\n",
              "  </thead>\n",
              "  <tbody>\n",
              "    <tr>\n",
              "      <th>count</th>\n",
              "      <td>5.000000</td>\n",
              "      <td>5.000000</td>\n",
              "      <td>5.000000</td>\n",
              "      <td>5.000000</td>\n",
              "      <td>5.000000</td>\n",
              "    </tr>\n",
              "    <tr>\n",
              "      <th>mean</th>\n",
              "      <td>0.094118</td>\n",
              "      <td>0.094118</td>\n",
              "      <td>0.529412</td>\n",
              "      <td>0.529412</td>\n",
              "      <td>0.529412</td>\n",
              "    </tr>\n",
              "    <tr>\n",
              "      <th>std</th>\n",
              "      <td>0.067069</td>\n",
              "      <td>0.067069</td>\n",
              "      <td>0.072044</td>\n",
              "      <td>0.072044</td>\n",
              "      <td>0.072044</td>\n",
              "    </tr>\n",
              "    <tr>\n",
              "      <th>min</th>\n",
              "      <td>0.000000</td>\n",
              "      <td>0.000000</td>\n",
              "      <td>0.470588</td>\n",
              "      <td>0.470588</td>\n",
              "      <td>0.470588</td>\n",
              "    </tr>\n",
              "    <tr>\n",
              "      <th>25%</th>\n",
              "      <td>0.058824</td>\n",
              "      <td>0.058824</td>\n",
              "      <td>0.470588</td>\n",
              "      <td>0.470588</td>\n",
              "      <td>0.470588</td>\n",
              "    </tr>\n",
              "    <tr>\n",
              "      <th>50%</th>\n",
              "      <td>0.117647</td>\n",
              "      <td>0.117647</td>\n",
              "      <td>0.529412</td>\n",
              "      <td>0.529412</td>\n",
              "      <td>0.529412</td>\n",
              "    </tr>\n",
              "    <tr>\n",
              "      <th>75%</th>\n",
              "      <td>0.117647</td>\n",
              "      <td>0.117647</td>\n",
              "      <td>0.529412</td>\n",
              "      <td>0.529412</td>\n",
              "      <td>0.529412</td>\n",
              "    </tr>\n",
              "    <tr>\n",
              "      <th>max</th>\n",
              "      <td>0.176471</td>\n",
              "      <td>0.176471</td>\n",
              "      <td>0.647059</td>\n",
              "      <td>0.647059</td>\n",
              "      <td>0.647059</td>\n",
              "    </tr>\n",
              "  </tbody>\n",
              "</table>\n",
              "</div>\n",
              "      <button class=\"colab-df-convert\" onclick=\"convertToInteractive('df-562d5a0f-e61f-448a-8b33-f09fdafa1739')\"\n",
              "              title=\"Convert this dataframe to an interactive table.\"\n",
              "              style=\"display:none;\">\n",
              "        \n",
              "  <svg xmlns=\"http://www.w3.org/2000/svg\" height=\"24px\"viewBox=\"0 0 24 24\"\n",
              "       width=\"24px\">\n",
              "    <path d=\"M0 0h24v24H0V0z\" fill=\"none\"/>\n",
              "    <path d=\"M18.56 5.44l.94 2.06.94-2.06 2.06-.94-2.06-.94-.94-2.06-.94 2.06-2.06.94zm-11 1L8.5 8.5l.94-2.06 2.06-.94-2.06-.94L8.5 2.5l-.94 2.06-2.06.94zm10 10l.94 2.06.94-2.06 2.06-.94-2.06-.94-.94-2.06-.94 2.06-2.06.94z\"/><path d=\"M17.41 7.96l-1.37-1.37c-.4-.4-.92-.59-1.43-.59-.52 0-1.04.2-1.43.59L10.3 9.45l-7.72 7.72c-.78.78-.78 2.05 0 2.83L4 21.41c.39.39.9.59 1.41.59.51 0 1.02-.2 1.41-.59l7.78-7.78 2.81-2.81c.8-.78.8-2.07 0-2.86zM5.41 20L4 18.59l7.72-7.72 1.47 1.35L5.41 20z\"/>\n",
              "  </svg>\n",
              "      </button>\n",
              "      \n",
              "  <style>\n",
              "    .colab-df-container {\n",
              "      display:flex;\n",
              "      flex-wrap:wrap;\n",
              "      gap: 12px;\n",
              "    }\n",
              "\n",
              "    .colab-df-convert {\n",
              "      background-color: #E8F0FE;\n",
              "      border: none;\n",
              "      border-radius: 50%;\n",
              "      cursor: pointer;\n",
              "      display: none;\n",
              "      fill: #1967D2;\n",
              "      height: 32px;\n",
              "      padding: 0 0 0 0;\n",
              "      width: 32px;\n",
              "    }\n",
              "\n",
              "    .colab-df-convert:hover {\n",
              "      background-color: #E2EBFA;\n",
              "      box-shadow: 0px 1px 2px rgba(60, 64, 67, 0.3), 0px 1px 3px 1px rgba(60, 64, 67, 0.15);\n",
              "      fill: #174EA6;\n",
              "    }\n",
              "\n",
              "    [theme=dark] .colab-df-convert {\n",
              "      background-color: #3B4455;\n",
              "      fill: #D2E3FC;\n",
              "    }\n",
              "\n",
              "    [theme=dark] .colab-df-convert:hover {\n",
              "      background-color: #434B5C;\n",
              "      box-shadow: 0px 1px 3px 1px rgba(0, 0, 0, 0.15);\n",
              "      filter: drop-shadow(0px 1px 2px rgba(0, 0, 0, 0.3));\n",
              "      fill: #FFFFFF;\n",
              "    }\n",
              "  </style>\n",
              "\n",
              "      <script>\n",
              "        const buttonEl =\n",
              "          document.querySelector('#df-562d5a0f-e61f-448a-8b33-f09fdafa1739 button.colab-df-convert');\n",
              "        buttonEl.style.display =\n",
              "          google.colab.kernel.accessAllowed ? 'block' : 'none';\n",
              "\n",
              "        async function convertToInteractive(key) {\n",
              "          const element = document.querySelector('#df-562d5a0f-e61f-448a-8b33-f09fdafa1739');\n",
              "          const dataTable =\n",
              "            await google.colab.kernel.invokeFunction('convertToInteractive',\n",
              "                                                     [key], {});\n",
              "          if (!dataTable) return;\n",
              "\n",
              "          const docLinkHtml = 'Like what you see? Visit the ' +\n",
              "            '<a target=\"_blank\" href=https://colab.research.google.com/notebooks/data_table.ipynb>data table notebook</a>'\n",
              "            + ' to learn more about interactive tables.';\n",
              "          element.innerHTML = '';\n",
              "          dataTable['output_type'] = 'display_data';\n",
              "          await google.colab.output.renderOutput(dataTable, element);\n",
              "          const docLink = document.createElement('div');\n",
              "          docLink.innerHTML = docLinkHtml;\n",
              "          element.appendChild(docLink);\n",
              "        }\n",
              "      </script>\n",
              "    </div>\n",
              "  </div>\n",
              "  "
            ],
            "text/plain": [
              "          wss95       wss       acc    recall        f1\n",
              "count  5.000000  5.000000  5.000000  5.000000  5.000000\n",
              "mean   0.094118  0.094118  0.529412  0.529412  0.529412\n",
              "std    0.067069  0.067069  0.072044  0.072044  0.072044\n",
              "min    0.000000  0.000000  0.470588  0.470588  0.470588\n",
              "25%    0.058824  0.058824  0.470588  0.470588  0.470588\n",
              "50%    0.117647  0.117647  0.529412  0.529412  0.529412\n",
              "75%    0.117647  0.117647  0.529412  0.529412  0.529412\n",
              "max    0.176471  0.176471  0.647059  0.647059  0.647059"
            ]
          },
          "metadata": {},
          "execution_count": 297
        }
      ]
    },
    {
      "cell_type": "code",
      "source": [
        "VALID_RESULTS_data.loc[:, TEST_RESULTS_data.columns != 'Confusion_matrix'].describe()"
      ],
      "metadata": {
        "colab": {
          "base_uri": "https://localhost:8080/",
          "height": 300
        },
        "id": "3mtfRmvfJSRX",
        "outputId": "1faaf939-e38f-4b18-b1d6-c2c3700504b3"
      },
      "execution_count": 298,
      "outputs": [
        {
          "output_type": "execute_result",
          "data": {
            "text/html": [
              "\n",
              "  <div id=\"df-a8c0e8d4-8f93-46a0-8c08-707e3fb72eae\">\n",
              "    <div class=\"colab-df-container\">\n",
              "      <div>\n",
              "<style scoped>\n",
              "    .dataframe tbody tr th:only-of-type {\n",
              "        vertical-align: middle;\n",
              "    }\n",
              "\n",
              "    .dataframe tbody tr th {\n",
              "        vertical-align: top;\n",
              "    }\n",
              "\n",
              "    .dataframe thead th {\n",
              "        text-align: right;\n",
              "    }\n",
              "</style>\n",
              "<table border=\"1\" class=\"dataframe\">\n",
              "  <thead>\n",
              "    <tr style=\"text-align: right;\">\n",
              "      <th></th>\n",
              "      <th>wss95</th>\n",
              "      <th>wss</th>\n",
              "      <th>acc</th>\n",
              "      <th>recall</th>\n",
              "      <th>f1</th>\n",
              "    </tr>\n",
              "  </thead>\n",
              "  <tbody>\n",
              "    <tr>\n",
              "      <th>count</th>\n",
              "      <td>5.000000</td>\n",
              "      <td>5.000000</td>\n",
              "      <td>5.000000</td>\n",
              "      <td>5.000000</td>\n",
              "      <td>5.000000</td>\n",
              "    </tr>\n",
              "    <tr>\n",
              "      <th>mean</th>\n",
              "      <td>0.082353</td>\n",
              "      <td>0.082353</td>\n",
              "      <td>0.611765</td>\n",
              "      <td>0.611765</td>\n",
              "      <td>0.611765</td>\n",
              "    </tr>\n",
              "    <tr>\n",
              "      <th>std</th>\n",
              "      <td>0.114668</td>\n",
              "      <td>0.114668</td>\n",
              "      <td>0.114668</td>\n",
              "      <td>0.114668</td>\n",
              "      <td>0.114668</td>\n",
              "    </tr>\n",
              "    <tr>\n",
              "      <th>min</th>\n",
              "      <td>0.000000</td>\n",
              "      <td>0.000000</td>\n",
              "      <td>0.411765</td>\n",
              "      <td>0.411765</td>\n",
              "      <td>0.411765</td>\n",
              "    </tr>\n",
              "    <tr>\n",
              "      <th>25%</th>\n",
              "      <td>0.000000</td>\n",
              "      <td>0.000000</td>\n",
              "      <td>0.647059</td>\n",
              "      <td>0.647059</td>\n",
              "      <td>0.647059</td>\n",
              "    </tr>\n",
              "    <tr>\n",
              "      <th>50%</th>\n",
              "      <td>0.000000</td>\n",
              "      <td>0.000000</td>\n",
              "      <td>0.647059</td>\n",
              "      <td>0.647059</td>\n",
              "      <td>0.647059</td>\n",
              "    </tr>\n",
              "    <tr>\n",
              "      <th>75%</th>\n",
              "      <td>0.176471</td>\n",
              "      <td>0.176471</td>\n",
              "      <td>0.647059</td>\n",
              "      <td>0.647059</td>\n",
              "      <td>0.647059</td>\n",
              "    </tr>\n",
              "    <tr>\n",
              "      <th>max</th>\n",
              "      <td>0.235294</td>\n",
              "      <td>0.235294</td>\n",
              "      <td>0.705882</td>\n",
              "      <td>0.705882</td>\n",
              "      <td>0.705882</td>\n",
              "    </tr>\n",
              "  </tbody>\n",
              "</table>\n",
              "</div>\n",
              "      <button class=\"colab-df-convert\" onclick=\"convertToInteractive('df-a8c0e8d4-8f93-46a0-8c08-707e3fb72eae')\"\n",
              "              title=\"Convert this dataframe to an interactive table.\"\n",
              "              style=\"display:none;\">\n",
              "        \n",
              "  <svg xmlns=\"http://www.w3.org/2000/svg\" height=\"24px\"viewBox=\"0 0 24 24\"\n",
              "       width=\"24px\">\n",
              "    <path d=\"M0 0h24v24H0V0z\" fill=\"none\"/>\n",
              "    <path d=\"M18.56 5.44l.94 2.06.94-2.06 2.06-.94-2.06-.94-.94-2.06-.94 2.06-2.06.94zm-11 1L8.5 8.5l.94-2.06 2.06-.94-2.06-.94L8.5 2.5l-.94 2.06-2.06.94zm10 10l.94 2.06.94-2.06 2.06-.94-2.06-.94-.94-2.06-.94 2.06-2.06.94z\"/><path d=\"M17.41 7.96l-1.37-1.37c-.4-.4-.92-.59-1.43-.59-.52 0-1.04.2-1.43.59L10.3 9.45l-7.72 7.72c-.78.78-.78 2.05 0 2.83L4 21.41c.39.39.9.59 1.41.59.51 0 1.02-.2 1.41-.59l7.78-7.78 2.81-2.81c.8-.78.8-2.07 0-2.86zM5.41 20L4 18.59l7.72-7.72 1.47 1.35L5.41 20z\"/>\n",
              "  </svg>\n",
              "      </button>\n",
              "      \n",
              "  <style>\n",
              "    .colab-df-container {\n",
              "      display:flex;\n",
              "      flex-wrap:wrap;\n",
              "      gap: 12px;\n",
              "    }\n",
              "\n",
              "    .colab-df-convert {\n",
              "      background-color: #E8F0FE;\n",
              "      border: none;\n",
              "      border-radius: 50%;\n",
              "      cursor: pointer;\n",
              "      display: none;\n",
              "      fill: #1967D2;\n",
              "      height: 32px;\n",
              "      padding: 0 0 0 0;\n",
              "      width: 32px;\n",
              "    }\n",
              "\n",
              "    .colab-df-convert:hover {\n",
              "      background-color: #E2EBFA;\n",
              "      box-shadow: 0px 1px 2px rgba(60, 64, 67, 0.3), 0px 1px 3px 1px rgba(60, 64, 67, 0.15);\n",
              "      fill: #174EA6;\n",
              "    }\n",
              "\n",
              "    [theme=dark] .colab-df-convert {\n",
              "      background-color: #3B4455;\n",
              "      fill: #D2E3FC;\n",
              "    }\n",
              "\n",
              "    [theme=dark] .colab-df-convert:hover {\n",
              "      background-color: #434B5C;\n",
              "      box-shadow: 0px 1px 3px 1px rgba(0, 0, 0, 0.15);\n",
              "      filter: drop-shadow(0px 1px 2px rgba(0, 0, 0, 0.3));\n",
              "      fill: #FFFFFF;\n",
              "    }\n",
              "  </style>\n",
              "\n",
              "      <script>\n",
              "        const buttonEl =\n",
              "          document.querySelector('#df-a8c0e8d4-8f93-46a0-8c08-707e3fb72eae button.colab-df-convert');\n",
              "        buttonEl.style.display =\n",
              "          google.colab.kernel.accessAllowed ? 'block' : 'none';\n",
              "\n",
              "        async function convertToInteractive(key) {\n",
              "          const element = document.querySelector('#df-a8c0e8d4-8f93-46a0-8c08-707e3fb72eae');\n",
              "          const dataTable =\n",
              "            await google.colab.kernel.invokeFunction('convertToInteractive',\n",
              "                                                     [key], {});\n",
              "          if (!dataTable) return;\n",
              "\n",
              "          const docLinkHtml = 'Like what you see? Visit the ' +\n",
              "            '<a target=\"_blank\" href=https://colab.research.google.com/notebooks/data_table.ipynb>data table notebook</a>'\n",
              "            + ' to learn more about interactive tables.';\n",
              "          element.innerHTML = '';\n",
              "          dataTable['output_type'] = 'display_data';\n",
              "          await google.colab.output.renderOutput(dataTable, element);\n",
              "          const docLink = document.createElement('div');\n",
              "          docLink.innerHTML = docLinkHtml;\n",
              "          element.appendChild(docLink);\n",
              "        }\n",
              "      </script>\n",
              "    </div>\n",
              "  </div>\n",
              "  "
            ],
            "text/plain": [
              "          wss95       wss       acc    recall        f1\n",
              "count  5.000000  5.000000  5.000000  5.000000  5.000000\n",
              "mean   0.082353  0.082353  0.611765  0.611765  0.611765\n",
              "std    0.114668  0.114668  0.114668  0.114668  0.114668\n",
              "min    0.000000  0.000000  0.411765  0.411765  0.411765\n",
              "25%    0.000000  0.000000  0.647059  0.647059  0.647059\n",
              "50%    0.000000  0.000000  0.647059  0.647059  0.647059\n",
              "75%    0.176471  0.176471  0.647059  0.647059  0.647059\n",
              "max    0.235294  0.235294  0.705882  0.705882  0.705882"
            ]
          },
          "metadata": {},
          "execution_count": 298
        }
      ]
    },
    {
      "cell_type": "markdown",
      "metadata": {
        "id": "8JUzQ1EL9DLl"
      },
      "source": [
        "# Training tests\n"
      ]
    },
    {
      "cell_type": "markdown",
      "metadata": {
        "id": "NKRgQsDiZGQ6"
      },
      "source": [
        "## STANDART TEST"
      ]
    },
    {
      "cell_type": "markdown",
      "metadata": {
        "id": "2GVfnk5bZZgt"
      },
      "source": [
        "### SPLIT DATA"
      ]
    },
    {
      "cell_type": "code",
      "source": [
        "SEED = 1\n",
        "train_Data, valid_Data, test_Data = augmatation_data_context._split(SLR,\n",
        "                                                                    input_name='abstract',\n",
        "                                                                    train_size=0.5,\n",
        "                                                                    validation_size=0.5,\n",
        "                                                                    SEED = SEED)\n",
        "\n",
        "index_sample =  SLR_test.groupby('decision').sample(sample_by, random_state=SEED,\n",
        "                                                    replace=False).index_SLR\n",
        "\n",
        "data_partition_one = SLR_test[SLR_test.index_SLR.isin(index_sample)]\n",
        "data_partition_two = SLR_test[~SLR_test.index_SLR.isin(index_sample)]\n",
        "\n",
        "test_Data = pd.concat([data_partition_one,test_Data ]).dropna(1)\n",
        "valid_Data = pd.concat([data_partition_two, valid_Data ]).dropna(1)\n",
        "\n"
      ],
      "metadata": {
        "id": "L2rwYBY9fM7p",
        "colab": {
          "base_uri": "https://localhost:8080/",
          "height": 506
        },
        "outputId": "9ef92ab4-fa79-4e28-df11-085a232e0dfc"
      },
      "execution_count": 37,
      "outputs": [
        {
          "output_type": "stream",
          "name": "stdout",
          "text": [
            "TRAIN SUMMARY:\n",
            "\n",
            "\n",
            "0    23\n",
            "1    14\n",
            "Name: decision, dtype: int64\n",
            "\n",
            "\n",
            "AxesSubplot(0.125,0.125;0.775x0.755)\n"
          ]
        },
        {
          "output_type": "display_data",
          "data": {
            "image/png": "[encoded data removed]",
            "text/plain": [
              "<Figure size 720x360 with 1 Axes>"
            ]
          },
          "metadata": {}
        }
      ]
    },
    {
      "cell_type": "code",
      "execution_count": 38,
      "metadata": {
        "id": "izarANAGXG33"
      },
      "outputs": [],
      "source": [
        "gen_seed = torch.Generator().manual_seed(SEED)\n",
        "\n",
        "train_info = {\n",
        "    'data': train_Data,\n",
        "    'tokenizer': initializer_bert.tokenizer,\n",
        "    'max_token_len': 256,\n",
        "    'input': 'abstract',\n",
        "    'output': 'decision',\n",
        "    'batch_size':8, \n",
        "    }\n",
        "\n",
        "valid_info = {\n",
        "    'data': valid_Data.drop_duplicates(subset='index_SLR'),\n",
        "    'tokenizer': initializer_bert.tokenizer,\n",
        "    'max_token_len': 256,\n",
        "    'input': 'abstract',\n",
        "    'output': 'decision',\n",
        "    'batch_size':len(valid_Data.drop_duplicates(subset='index_SLR')),\n",
        "    }\n",
        "\n",
        "test_info = {\n",
        "    'data': test_Data.drop_duplicates(subset='index_SLR'),\n",
        "    'tokenizer': initializer_bert.tokenizer,\n",
        "    'max_token_len': 256,\n",
        "    'input': 'abstract',\n",
        "    'output': 'decision',\n",
        "    'batch_size':len(test_Data.drop_duplicates(subset='index_SLR')),\n",
        "    }\n",
        "\n",
        "train = data_transform(**train_info, drop_last =True)\n",
        "\n",
        "valid = data_transform(**valid_info, drop_last =True)\n",
        "\n",
        "test = data_transform(**test_info, drop_last =True)"
      ]
    },
    {
      "cell_type": "markdown",
      "metadata": {
        "id": "FQl4ja_MZpml"
      },
      "source": [
        "### TRAINING"
      ]
    },
    {
      "cell_type": "code",
      "execution_count": 39,
      "metadata": {
        "id": "tMxjbKEnZf76",
        "colab": {
          "base_uri": "https://localhost:8080/",
          "height": 607
        },
        "outputId": "9f42b2d0-ca95-4ee0-fd04-7287cb61f8cb"
      },
      "outputs": [
        {
          "output_type": "stream",
          "name": "stdout",
          "text": [
            "             wss95   wss   acc  recall    f1  loss\n",
            "Epoch Data                                        \n",
            "0     Train   0.00  0.00  0.56    0.56  0.56  0.69\n",
            "      Valid   0.00  0.00  0.58    0.58  0.58  0.69\n",
            "1     Train   0.00  0.00  0.62    0.62  0.62  0.69\n",
            "      Valid   0.00  0.00  0.42    0.42  0.42  0.69\n",
            "2     Train   0.50  0.50  0.91    0.91  0.91  0.68\n",
            "      Valid   0.00  0.00  0.46    0.46  0.46  0.70\n",
            "3     Train   0.66  0.66  0.94    0.94  0.94  0.65\n",
            "      Valid   0.00  0.00  0.58    0.58  0.58  0.69\n",
            "4     Train   0.66  0.66  1.00    1.00  1.00  0.61\n",
            "      Valid   0.00  0.00  0.50    0.50  0.50  0.68\n"
          ]
        },
        {
          "output_type": "error",
          "ename": "KeyboardInterrupt",
          "evalue": "ignored",
          "traceback": [
            "\u001b[0;31m---------------------------------------------------------------------------\u001b[0m",
            "\u001b[0;31mKeyboardInterrupt\u001b[0m                         Traceback (most recent call last)",
            "\u001b[0;32m<ipython-input-39-88294b09469f>\u001b[0m in \u001b[0;36m<module>\u001b[0;34m()\u001b[0m\n\u001b[1;32m     75\u001b[0m     \u001b[0;32mwith\u001b[0m \u001b[0mtorch\u001b[0m\u001b[0;34m.\u001b[0m\u001b[0mno_grad\u001b[0m\u001b[0;34m(\u001b[0m\u001b[0;34m)\u001b[0m\u001b[0;34m:\u001b[0m\u001b[0;34m\u001b[0m\u001b[0;34m\u001b[0m\u001b[0m\n\u001b[1;32m     76\u001b[0m       \u001b[0mmodel\u001b[0m\u001b[0;34m.\u001b[0m\u001b[0meval\u001b[0m\u001b[0;34m(\u001b[0m\u001b[0;34m)\u001b[0m\u001b[0;34m\u001b[0m\u001b[0;34m\u001b[0m\u001b[0m\n\u001b[0;32m---> 77\u001b[0;31m       \u001b[0mloss\u001b[0m\u001b[0;34m,\u001b[0m \u001b[0my\u001b[0m \u001b[0;34m,\u001b[0m \u001b[0my_\u001b[0m \u001b[0;34m=\u001b[0m \u001b[0mloop\u001b[0m\u001b[0;34m.\u001b[0m\u001b[0mvalid_one_epoch\u001b[0m\u001b[0;34m(\u001b[0m\u001b[0mmodel\u001b[0m\u001b[0;34m,\u001b[0m \u001b[0mvalid\u001b[0m\u001b[0;34m,\u001b[0m \u001b[0mloss_fn\u001b[0m\u001b[0;34m)\u001b[0m\u001b[0;34m\u001b[0m\u001b[0;34m\u001b[0m\u001b[0m\n\u001b[0m\u001b[1;32m     78\u001b[0m \u001b[0;34m\u001b[0m\u001b[0m\n\u001b[1;32m     79\u001b[0m       res = metrics.work(y,\n",
            "\u001b[0;32m<ipython-input-26-5a70a19f573b>\u001b[0m in \u001b[0;36mvalid_one_epoch\u001b[0;34m(cls, model, data_loader, loss_fn)\u001b[0m\n\u001b[1;32m     57\u001b[0m     \u001b[0mdevice\u001b[0m \u001b[0;34m=\u001b[0m \u001b[0mmodel\u001b[0m\u001b[0;34m.\u001b[0m\u001b[0mdummy_param\u001b[0m\u001b[0;34m.\u001b[0m\u001b[0mdevice\u001b[0m\u001b[0;34m\u001b[0m\u001b[0;34m\u001b[0m\u001b[0m\n\u001b[1;32m     58\u001b[0m \u001b[0;34m\u001b[0m\u001b[0m\n\u001b[0;32m---> 59\u001b[0;31m     \u001b[0;32mfor\u001b[0m \u001b[0mbatch_step\u001b[0m\u001b[0;34m,\u001b[0m \u001b[0mbatch\u001b[0m \u001b[0;32min\u001b[0m \u001b[0menumerate\u001b[0m\u001b[0;34m(\u001b[0m\u001b[0mdata_loader\u001b[0m\u001b[0;34m)\u001b[0m\u001b[0;34m:\u001b[0m\u001b[0;34m\u001b[0m\u001b[0;34m\u001b[0m\u001b[0m\n\u001b[0m\u001b[1;32m     60\u001b[0m       \u001b[0mbatch_input\u001b[0m \u001b[0;34m=\u001b[0m \u001b[0mbatch\u001b[0m\u001b[0;34m.\u001b[0m\u001b[0mcopy\u001b[0m\u001b[0;34m(\u001b[0m\u001b[0;34m)\u001b[0m\u001b[0;34m\u001b[0m\u001b[0;34m\u001b[0m\u001b[0m\n\u001b[1;32m     61\u001b[0m \u001b[0;34m\u001b[0m\u001b[0m\n",
            "\u001b[0;32m/usr/local/lib/python3.7/dist-packages/torch/utils/data/dataloader.py\u001b[0m in \u001b[0;36m__next__\u001b[0;34m(self)\u001b[0m\n\u001b[1;32m    519\u001b[0m             \u001b[0;32mif\u001b[0m \u001b[0mself\u001b[0m\u001b[0;34m.\u001b[0m\u001b[0m_sampler_iter\u001b[0m \u001b[0;32mis\u001b[0m \u001b[0;32mNone\u001b[0m\u001b[0;34m:\u001b[0m\u001b[0;34m\u001b[0m\u001b[0;34m\u001b[0m\u001b[0m\n\u001b[1;32m    520\u001b[0m                 \u001b[0mself\u001b[0m\u001b[0;34m.\u001b[0m\u001b[0m_reset\u001b[0m\u001b[0;34m(\u001b[0m\u001b[0;34m)\u001b[0m\u001b[0;34m\u001b[0m\u001b[0;34m\u001b[0m\u001b[0m\n\u001b[0;32m--> 521\u001b[0;31m             \u001b[0mdata\u001b[0m \u001b[0;34m=\u001b[0m \u001b[0mself\u001b[0m\u001b[0;34m.\u001b[0m\u001b[0m_next_data\u001b[0m\u001b[0;34m(\u001b[0m\u001b[0;34m)\u001b[0m\u001b[0;34m\u001b[0m\u001b[0;34m\u001b[0m\u001b[0m\n\u001b[0m\u001b[1;32m    522\u001b[0m             \u001b[0mself\u001b[0m\u001b[0;34m.\u001b[0m\u001b[0m_num_yielded\u001b[0m \u001b[0;34m+=\u001b[0m \u001b[0;36m1\u001b[0m\u001b[0;34m\u001b[0m\u001b[0;34m\u001b[0m\u001b[0m\n\u001b[1;32m    523\u001b[0m             \u001b[0;32mif\u001b[0m \u001b[0mself\u001b[0m\u001b[0;34m.\u001b[0m\u001b[0m_dataset_kind\u001b[0m \u001b[0;34m==\u001b[0m \u001b[0m_DatasetKind\u001b[0m\u001b[0;34m.\u001b[0m\u001b[0mIterable\u001b[0m \u001b[0;32mand\u001b[0m\u001b[0;31m \u001b[0m\u001b[0;31m\\\u001b[0m\u001b[0;34m\u001b[0m\u001b[0;34m\u001b[0m\u001b[0m\n",
            "\u001b[0;32m/usr/local/lib/python3.7/dist-packages/torch/utils/data/dataloader.py\u001b[0m in \u001b[0;36m_next_data\u001b[0;34m(self)\u001b[0m\n\u001b[1;32m    559\u001b[0m     \u001b[0;32mdef\u001b[0m \u001b[0m_next_data\u001b[0m\u001b[0;34m(\u001b[0m\u001b[0mself\u001b[0m\u001b[0;34m)\u001b[0m\u001b[0;34m:\u001b[0m\u001b[0;34m\u001b[0m\u001b[0;34m\u001b[0m\u001b[0m\n\u001b[1;32m    560\u001b[0m         \u001b[0mindex\u001b[0m \u001b[0;34m=\u001b[0m \u001b[0mself\u001b[0m\u001b[0;34m.\u001b[0m\u001b[0m_next_index\u001b[0m\u001b[0;34m(\u001b[0m\u001b[0;34m)\u001b[0m  \u001b[0;31m# may raise StopIteration\u001b[0m\u001b[0;34m\u001b[0m\u001b[0;34m\u001b[0m\u001b[0m\n\u001b[0;32m--> 561\u001b[0;31m         \u001b[0mdata\u001b[0m \u001b[0;34m=\u001b[0m \u001b[0mself\u001b[0m\u001b[0;34m.\u001b[0m\u001b[0m_dataset_fetcher\u001b[0m\u001b[0;34m.\u001b[0m\u001b[0mfetch\u001b[0m\u001b[0;34m(\u001b[0m\u001b[0mindex\u001b[0m\u001b[0;34m)\u001b[0m  \u001b[0;31m# may raise StopIteration\u001b[0m\u001b[0;34m\u001b[0m\u001b[0;34m\u001b[0m\u001b[0m\n\u001b[0m\u001b[1;32m    562\u001b[0m         \u001b[0;32mif\u001b[0m \u001b[0mself\u001b[0m\u001b[0;34m.\u001b[0m\u001b[0m_pin_memory\u001b[0m\u001b[0;34m:\u001b[0m\u001b[0;34m\u001b[0m\u001b[0;34m\u001b[0m\u001b[0m\n\u001b[1;32m    563\u001b[0m             \u001b[0mdata\u001b[0m \u001b[0;34m=\u001b[0m \u001b[0m_utils\u001b[0m\u001b[0;34m.\u001b[0m\u001b[0mpin_memory\u001b[0m\u001b[0;34m.\u001b[0m\u001b[0mpin_memory\u001b[0m\u001b[0;34m(\u001b[0m\u001b[0mdata\u001b[0m\u001b[0;34m)\u001b[0m\u001b[0;34m\u001b[0m\u001b[0;34m\u001b[0m\u001b[0m\n",
            "\u001b[0;32m/usr/local/lib/python3.7/dist-packages/torch/utils/data/_utils/fetch.py\u001b[0m in \u001b[0;36mfetch\u001b[0;34m(self, possibly_batched_index)\u001b[0m\n\u001b[1;32m     47\u001b[0m     \u001b[0;32mdef\u001b[0m \u001b[0mfetch\u001b[0m\u001b[0;34m(\u001b[0m\u001b[0mself\u001b[0m\u001b[0;34m,\u001b[0m \u001b[0mpossibly_batched_index\u001b[0m\u001b[0;34m)\u001b[0m\u001b[0;34m:\u001b[0m\u001b[0;34m\u001b[0m\u001b[0;34m\u001b[0m\u001b[0m\n\u001b[1;32m     48\u001b[0m         \u001b[0;32mif\u001b[0m \u001b[0mself\u001b[0m\u001b[0;34m.\u001b[0m\u001b[0mauto_collation\u001b[0m\u001b[0;34m:\u001b[0m\u001b[0;34m\u001b[0m\u001b[0;34m\u001b[0m\u001b[0m\n\u001b[0;32m---> 49\u001b[0;31m             \u001b[0mdata\u001b[0m \u001b[0;34m=\u001b[0m \u001b[0;34m[\u001b[0m\u001b[0mself\u001b[0m\u001b[0;34m.\u001b[0m\u001b[0mdataset\u001b[0m\u001b[0;34m[\u001b[0m\u001b[0midx\u001b[0m\u001b[0;34m]\u001b[0m \u001b[0;32mfor\u001b[0m \u001b[0midx\u001b[0m \u001b[0;32min\u001b[0m \u001b[0mpossibly_batched_index\u001b[0m\u001b[0;34m]\u001b[0m\u001b[0;34m\u001b[0m\u001b[0;34m\u001b[0m\u001b[0m\n\u001b[0m\u001b[1;32m     50\u001b[0m         \u001b[0;32melse\u001b[0m\u001b[0;34m:\u001b[0m\u001b[0;34m\u001b[0m\u001b[0;34m\u001b[0m\u001b[0m\n\u001b[1;32m     51\u001b[0m             \u001b[0mdata\u001b[0m \u001b[0;34m=\u001b[0m \u001b[0mself\u001b[0m\u001b[0;34m.\u001b[0m\u001b[0mdataset\u001b[0m\u001b[0;34m[\u001b[0m\u001b[0mpossibly_batched_index\u001b[0m\u001b[0;34m]\u001b[0m\u001b[0;34m\u001b[0m\u001b[0;34m\u001b[0m\u001b[0m\n",
            "\u001b[0;32m/usr/local/lib/python3.7/dist-packages/torch/utils/data/_utils/fetch.py\u001b[0m in \u001b[0;36m<listcomp>\u001b[0;34m(.0)\u001b[0m\n\u001b[1;32m     47\u001b[0m     \u001b[0;32mdef\u001b[0m \u001b[0mfetch\u001b[0m\u001b[0;34m(\u001b[0m\u001b[0mself\u001b[0m\u001b[0;34m,\u001b[0m \u001b[0mpossibly_batched_index\u001b[0m\u001b[0;34m)\u001b[0m\u001b[0;34m:\u001b[0m\u001b[0;34m\u001b[0m\u001b[0;34m\u001b[0m\u001b[0m\n\u001b[1;32m     48\u001b[0m         \u001b[0;32mif\u001b[0m \u001b[0mself\u001b[0m\u001b[0;34m.\u001b[0m\u001b[0mauto_collation\u001b[0m\u001b[0;34m:\u001b[0m\u001b[0;34m\u001b[0m\u001b[0;34m\u001b[0m\u001b[0m\n\u001b[0;32m---> 49\u001b[0;31m             \u001b[0mdata\u001b[0m \u001b[0;34m=\u001b[0m \u001b[0;34m[\u001b[0m\u001b[0mself\u001b[0m\u001b[0;34m.\u001b[0m\u001b[0mdataset\u001b[0m\u001b[0;34m[\u001b[0m\u001b[0midx\u001b[0m\u001b[0;34m]\u001b[0m \u001b[0;32mfor\u001b[0m \u001b[0midx\u001b[0m \u001b[0;32min\u001b[0m \u001b[0mpossibly_batched_index\u001b[0m\u001b[0;34m]\u001b[0m\u001b[0;34m\u001b[0m\u001b[0;34m\u001b[0m\u001b[0m\n\u001b[0m\u001b[1;32m     50\u001b[0m         \u001b[0;32melse\u001b[0m\u001b[0;34m:\u001b[0m\u001b[0;34m\u001b[0m\u001b[0;34m\u001b[0m\u001b[0m\n\u001b[1;32m     51\u001b[0m             \u001b[0mdata\u001b[0m \u001b[0;34m=\u001b[0m \u001b[0mself\u001b[0m\u001b[0;34m.\u001b[0m\u001b[0mdataset\u001b[0m\u001b[0;34m[\u001b[0m\u001b[0mpossibly_batched_index\u001b[0m\u001b[0;34m]\u001b[0m\u001b[0;34m\u001b[0m\u001b[0;34m\u001b[0m\u001b[0m\n",
            "\u001b[0;32m<ipython-input-9-9982ad9640c8>\u001b[0m in \u001b[0;36m__getitem__\u001b[0;34m(self, index)\u001b[0m\n\u001b[1;32m     32\u001b[0m       \u001b[0mtruncation\u001b[0m\u001b[0;34m=\u001b[0m\u001b[0;32mTrue\u001b[0m\u001b[0;34m,\u001b[0m\u001b[0;34m\u001b[0m\u001b[0;34m\u001b[0m\u001b[0m\n\u001b[1;32m     33\u001b[0m       \u001b[0mreturn_attention_mask\u001b[0m\u001b[0;34m=\u001b[0m\u001b[0;32mTrue\u001b[0m\u001b[0;34m,\u001b[0m\u001b[0;34m\u001b[0m\u001b[0;34m\u001b[0m\u001b[0m\n\u001b[0;32m---> 34\u001b[0;31m       \u001b[0mreturn_tensors\u001b[0m\u001b[0;34m=\u001b[0m\u001b[0;34m'pt'\u001b[0m\u001b[0;34m,\u001b[0m\u001b[0;34m\u001b[0m\u001b[0;34m\u001b[0m\u001b[0m\n\u001b[0m\u001b[1;32m     35\u001b[0m     )\n\u001b[1;32m     36\u001b[0m \u001b[0;34m\u001b[0m\u001b[0m\n",
            "\u001b[0;32m/usr/local/lib/python3.7/dist-packages/transformers/tokenization_utils_base.py\u001b[0m in \u001b[0;36mencode_plus\u001b[0;34m(self, text, text_pair, add_special_tokens, padding, truncation, max_length, stride, is_split_into_words, pad_to_multiple_of, return_tensors, return_token_type_ids, return_attention_mask, return_overflowing_tokens, return_special_tokens_mask, return_offsets_mapping, return_length, verbose, **kwargs)\u001b[0m\n\u001b[1;32m   2527\u001b[0m             \u001b[0mreturn_length\u001b[0m\u001b[0;34m=\u001b[0m\u001b[0mreturn_length\u001b[0m\u001b[0;34m,\u001b[0m\u001b[0;34m\u001b[0m\u001b[0;34m\u001b[0m\u001b[0m\n\u001b[1;32m   2528\u001b[0m             \u001b[0mverbose\u001b[0m\u001b[0;34m=\u001b[0m\u001b[0mverbose\u001b[0m\u001b[0;34m,\u001b[0m\u001b[0;34m\u001b[0m\u001b[0;34m\u001b[0m\u001b[0m\n\u001b[0;32m-> 2529\u001b[0;31m             \u001b[0;34m**\u001b[0m\u001b[0mkwargs\u001b[0m\u001b[0;34m,\u001b[0m\u001b[0;34m\u001b[0m\u001b[0;34m\u001b[0m\u001b[0m\n\u001b[0m\u001b[1;32m   2530\u001b[0m         )\n\u001b[1;32m   2531\u001b[0m \u001b[0;34m\u001b[0m\u001b[0m\n",
            "\u001b[0;32m/usr/local/lib/python3.7/dist-packages/transformers/tokenization_utils.py\u001b[0m in \u001b[0;36m_encode_plus\u001b[0;34m(self, text, text_pair, add_special_tokens, padding_strategy, truncation_strategy, max_length, stride, is_split_into_words, pad_to_multiple_of, return_tensors, return_token_type_ids, return_attention_mask, return_overflowing_tokens, return_special_tokens_mask, return_offsets_mapping, return_length, verbose, **kwargs)\u001b[0m\n\u001b[1;32m    638\u001b[0m             )\n\u001b[1;32m    639\u001b[0m \u001b[0;34m\u001b[0m\u001b[0m\n\u001b[0;32m--> 640\u001b[0;31m         \u001b[0mfirst_ids\u001b[0m \u001b[0;34m=\u001b[0m \u001b[0mget_input_ids\u001b[0m\u001b[0;34m(\u001b[0m\u001b[0mtext\u001b[0m\u001b[0;34m)\u001b[0m\u001b[0;34m\u001b[0m\u001b[0;34m\u001b[0m\u001b[0m\n\u001b[0m\u001b[1;32m    641\u001b[0m         \u001b[0msecond_ids\u001b[0m \u001b[0;34m=\u001b[0m \u001b[0mget_input_ids\u001b[0m\u001b[0;34m(\u001b[0m\u001b[0mtext_pair\u001b[0m\u001b[0;34m)\u001b[0m \u001b[0;32mif\u001b[0m \u001b[0mtext_pair\u001b[0m \u001b[0;32mis\u001b[0m \u001b[0;32mnot\u001b[0m \u001b[0;32mNone\u001b[0m \u001b[0;32melse\u001b[0m \u001b[0;32mNone\u001b[0m\u001b[0;34m\u001b[0m\u001b[0;34m\u001b[0m\u001b[0m\n\u001b[1;32m    642\u001b[0m \u001b[0;34m\u001b[0m\u001b[0m\n",
            "\u001b[0;32m/usr/local/lib/python3.7/dist-packages/transformers/tokenization_utils.py\u001b[0m in \u001b[0;36mget_input_ids\u001b[0;34m(text)\u001b[0m\n\u001b[1;32m    607\u001b[0m         \u001b[0;32mdef\u001b[0m \u001b[0mget_input_ids\u001b[0m\u001b[0;34m(\u001b[0m\u001b[0mtext\u001b[0m\u001b[0;34m)\u001b[0m\u001b[0;34m:\u001b[0m\u001b[0;34m\u001b[0m\u001b[0;34m\u001b[0m\u001b[0m\n\u001b[1;32m    608\u001b[0m             \u001b[0;32mif\u001b[0m \u001b[0misinstance\u001b[0m\u001b[0;34m(\u001b[0m\u001b[0mtext\u001b[0m\u001b[0;34m,\u001b[0m \u001b[0mstr\u001b[0m\u001b[0;34m)\u001b[0m\u001b[0;34m:\u001b[0m\u001b[0;34m\u001b[0m\u001b[0;34m\u001b[0m\u001b[0m\n\u001b[0;32m--> 609\u001b[0;31m                 \u001b[0mtokens\u001b[0m \u001b[0;34m=\u001b[0m \u001b[0mself\u001b[0m\u001b[0;34m.\u001b[0m\u001b[0mtokenize\u001b[0m\u001b[0;34m(\u001b[0m\u001b[0mtext\u001b[0m\u001b[0;34m,\u001b[0m \u001b[0;34m**\u001b[0m\u001b[0mkwargs\u001b[0m\u001b[0;34m)\u001b[0m\u001b[0;34m\u001b[0m\u001b[0;34m\u001b[0m\u001b[0m\n\u001b[0m\u001b[1;32m    610\u001b[0m                 \u001b[0;32mreturn\u001b[0m \u001b[0mself\u001b[0m\u001b[0;34m.\u001b[0m\u001b[0mconvert_tokens_to_ids\u001b[0m\u001b[0;34m(\u001b[0m\u001b[0mtokens\u001b[0m\u001b[0;34m)\u001b[0m\u001b[0;34m\u001b[0m\u001b[0;34m\u001b[0m\u001b[0m\n\u001b[1;32m    611\u001b[0m             \u001b[0;32melif\u001b[0m \u001b[0misinstance\u001b[0m\u001b[0;34m(\u001b[0m\u001b[0mtext\u001b[0m\u001b[0;34m,\u001b[0m \u001b[0;34m(\u001b[0m\u001b[0mlist\u001b[0m\u001b[0;34m,\u001b[0m \u001b[0mtuple\u001b[0m\u001b[0;34m)\u001b[0m\u001b[0;34m)\u001b[0m \u001b[0;32mand\u001b[0m \u001b[0mlen\u001b[0m\u001b[0;34m(\u001b[0m\u001b[0mtext\u001b[0m\u001b[0;34m)\u001b[0m \u001b[0;34m>\u001b[0m \u001b[0;36m0\u001b[0m \u001b[0;32mand\u001b[0m \u001b[0misinstance\u001b[0m\u001b[0;34m(\u001b[0m\u001b[0mtext\u001b[0m\u001b[0;34m[\u001b[0m\u001b[0;36m0\u001b[0m\u001b[0;34m]\u001b[0m\u001b[0;34m,\u001b[0m \u001b[0mstr\u001b[0m\u001b[0;34m)\u001b[0m\u001b[0;34m:\u001b[0m\u001b[0;34m\u001b[0m\u001b[0;34m\u001b[0m\u001b[0m\n",
            "\u001b[0;32m/usr/local/lib/python3.7/dist-packages/transformers/tokenization_utils.py\u001b[0m in \u001b[0;36mtokenize\u001b[0;34m(self, text, **kwargs)\u001b[0m\n\u001b[1;32m    538\u001b[0m                 \u001b[0mtokenized_text\u001b[0m\u001b[0;34m.\u001b[0m\u001b[0mappend\u001b[0m\u001b[0;34m(\u001b[0m\u001b[0mtoken\u001b[0m\u001b[0;34m)\u001b[0m\u001b[0;34m\u001b[0m\u001b[0;34m\u001b[0m\u001b[0m\n\u001b[1;32m    539\u001b[0m             \u001b[0;32melse\u001b[0m\u001b[0;34m:\u001b[0m\u001b[0;34m\u001b[0m\u001b[0;34m\u001b[0m\u001b[0m\n\u001b[0;32m--> 540\u001b[0;31m                 \u001b[0mtokenized_text\u001b[0m\u001b[0;34m.\u001b[0m\u001b[0mextend\u001b[0m\u001b[0;34m(\u001b[0m\u001b[0mself\u001b[0m\u001b[0;34m.\u001b[0m\u001b[0m_tokenize\u001b[0m\u001b[0;34m(\u001b[0m\u001b[0mtoken\u001b[0m\u001b[0;34m)\u001b[0m\u001b[0;34m)\u001b[0m\u001b[0;34m\u001b[0m\u001b[0;34m\u001b[0m\u001b[0m\n\u001b[0m\u001b[1;32m    541\u001b[0m         \u001b[0;31m# [\"This\", \" is\", \" something\", \"<special_token_1>\", \"else\"]\u001b[0m\u001b[0;34m\u001b[0m\u001b[0;34m\u001b[0m\u001b[0;34m\u001b[0m\u001b[0m\n\u001b[1;32m    542\u001b[0m         \u001b[0;32mreturn\u001b[0m \u001b[0mtokenized_text\u001b[0m\u001b[0;34m\u001b[0m\u001b[0;34m\u001b[0m\u001b[0m\n",
            "\u001b[0;32m/usr/local/lib/python3.7/dist-packages/transformers/models/bert/tokenization_bert.py\u001b[0m in \u001b[0;36m_tokenize\u001b[0;34m(self, text)\u001b[0m\n\u001b[1;32m    221\u001b[0m         \u001b[0msplit_tokens\u001b[0m \u001b[0;34m=\u001b[0m \u001b[0;34m[\u001b[0m\u001b[0;34m]\u001b[0m\u001b[0;34m\u001b[0m\u001b[0;34m\u001b[0m\u001b[0m\n\u001b[1;32m    222\u001b[0m         \u001b[0;32mif\u001b[0m \u001b[0mself\u001b[0m\u001b[0;34m.\u001b[0m\u001b[0mdo_basic_tokenize\u001b[0m\u001b[0;34m:\u001b[0m\u001b[0;34m\u001b[0m\u001b[0;34m\u001b[0m\u001b[0m\n\u001b[0;32m--> 223\u001b[0;31m             \u001b[0;32mfor\u001b[0m \u001b[0mtoken\u001b[0m \u001b[0;32min\u001b[0m \u001b[0mself\u001b[0m\u001b[0;34m.\u001b[0m\u001b[0mbasic_tokenizer\u001b[0m\u001b[0;34m.\u001b[0m\u001b[0mtokenize\u001b[0m\u001b[0;34m(\u001b[0m\u001b[0mtext\u001b[0m\u001b[0;34m,\u001b[0m \u001b[0mnever_split\u001b[0m\u001b[0;34m=\u001b[0m\u001b[0mself\u001b[0m\u001b[0;34m.\u001b[0m\u001b[0mall_special_tokens\u001b[0m\u001b[0;34m)\u001b[0m\u001b[0;34m:\u001b[0m\u001b[0;34m\u001b[0m\u001b[0;34m\u001b[0m\u001b[0m\n\u001b[0m\u001b[1;32m    224\u001b[0m \u001b[0;34m\u001b[0m\u001b[0m\n\u001b[1;32m    225\u001b[0m                 \u001b[0;31m# If the token is part of the never_split set\u001b[0m\u001b[0;34m\u001b[0m\u001b[0;34m\u001b[0m\u001b[0;34m\u001b[0m\u001b[0m\n",
            "\u001b[0;32m/usr/local/lib/python3.7/dist-packages/transformers/models/bert/tokenization_bert.py\u001b[0m in \u001b[0;36mtokenize\u001b[0;34m(self, text, never_split)\u001b[0m\n\u001b[1;32m    397\u001b[0m         \u001b[0;31m# words in the English Wikipedia.).\u001b[0m\u001b[0;34m\u001b[0m\u001b[0;34m\u001b[0m\u001b[0;34m\u001b[0m\u001b[0m\n\u001b[1;32m    398\u001b[0m         \u001b[0;32mif\u001b[0m \u001b[0mself\u001b[0m\u001b[0;34m.\u001b[0m\u001b[0mtokenize_chinese_chars\u001b[0m\u001b[0;34m:\u001b[0m\u001b[0;34m\u001b[0m\u001b[0;34m\u001b[0m\u001b[0m\n\u001b[0;32m--> 399\u001b[0;31m             \u001b[0mtext\u001b[0m \u001b[0;34m=\u001b[0m \u001b[0mself\u001b[0m\u001b[0;34m.\u001b[0m\u001b[0m_tokenize_chinese_chars\u001b[0m\u001b[0;34m(\u001b[0m\u001b[0mtext\u001b[0m\u001b[0;34m)\u001b[0m\u001b[0;34m\u001b[0m\u001b[0;34m\u001b[0m\u001b[0m\n\u001b[0m\u001b[1;32m    400\u001b[0m         \u001b[0morig_tokens\u001b[0m \u001b[0;34m=\u001b[0m \u001b[0mwhitespace_tokenize\u001b[0m\u001b[0;34m(\u001b[0m\u001b[0mtext\u001b[0m\u001b[0;34m)\u001b[0m\u001b[0;34m\u001b[0m\u001b[0;34m\u001b[0m\u001b[0m\n\u001b[1;32m    401\u001b[0m         \u001b[0msplit_tokens\u001b[0m \u001b[0;34m=\u001b[0m \u001b[0;34m[\u001b[0m\u001b[0;34m]\u001b[0m\u001b[0;34m\u001b[0m\u001b[0;34m\u001b[0m\u001b[0m\n",
            "\u001b[0;32m/usr/local/lib/python3.7/dist-packages/transformers/models/bert/tokenization_bert.py\u001b[0m in \u001b[0;36m_tokenize_chinese_chars\u001b[0;34m(self, text)\u001b[0m\n\u001b[1;32m    451\u001b[0m         \u001b[0;32mfor\u001b[0m \u001b[0mchar\u001b[0m \u001b[0;32min\u001b[0m \u001b[0mtext\u001b[0m\u001b[0;34m:\u001b[0m\u001b[0;34m\u001b[0m\u001b[0;34m\u001b[0m\u001b[0m\n\u001b[1;32m    452\u001b[0m             \u001b[0mcp\u001b[0m \u001b[0;34m=\u001b[0m \u001b[0mord\u001b[0m\u001b[0;34m(\u001b[0m\u001b[0mchar\u001b[0m\u001b[0;34m)\u001b[0m\u001b[0;34m\u001b[0m\u001b[0;34m\u001b[0m\u001b[0m\n\u001b[0;32m--> 453\u001b[0;31m             \u001b[0;32mif\u001b[0m \u001b[0mself\u001b[0m\u001b[0;34m.\u001b[0m\u001b[0m_is_chinese_char\u001b[0m\u001b[0;34m(\u001b[0m\u001b[0mcp\u001b[0m\u001b[0;34m)\u001b[0m\u001b[0;34m:\u001b[0m\u001b[0;34m\u001b[0m\u001b[0;34m\u001b[0m\u001b[0m\n\u001b[0m\u001b[1;32m    454\u001b[0m                 \u001b[0moutput\u001b[0m\u001b[0;34m.\u001b[0m\u001b[0mappend\u001b[0m\u001b[0;34m(\u001b[0m\u001b[0;34m\" \"\u001b[0m\u001b[0;34m)\u001b[0m\u001b[0;34m\u001b[0m\u001b[0;34m\u001b[0m\u001b[0m\n\u001b[1;32m    455\u001b[0m                 \u001b[0moutput\u001b[0m\u001b[0;34m.\u001b[0m\u001b[0mappend\u001b[0m\u001b[0;34m(\u001b[0m\u001b[0mchar\u001b[0m\u001b[0;34m)\u001b[0m\u001b[0;34m\u001b[0m\u001b[0;34m\u001b[0m\u001b[0m\n",
            "\u001b[0;32m/usr/local/lib/python3.7/dist-packages/transformers/models/bert/tokenization_bert.py\u001b[0m in \u001b[0;36m_is_chinese_char\u001b[0;34m(self, cp)\u001b[0m\n\u001b[1;32m    472\u001b[0m             \u001b[0;34m(\u001b[0m\u001b[0mcp\u001b[0m \u001b[0;34m>=\u001b[0m \u001b[0;36m0x4E00\u001b[0m \u001b[0;32mand\u001b[0m \u001b[0mcp\u001b[0m \u001b[0;34m<=\u001b[0m \u001b[0;36m0x9FFF\u001b[0m\u001b[0;34m)\u001b[0m\u001b[0;34m\u001b[0m\u001b[0;34m\u001b[0m\u001b[0m\n\u001b[1;32m    473\u001b[0m             \u001b[0;32mor\u001b[0m \u001b[0;34m(\u001b[0m\u001b[0mcp\u001b[0m \u001b[0;34m>=\u001b[0m \u001b[0;36m0x3400\u001b[0m \u001b[0;32mand\u001b[0m \u001b[0mcp\u001b[0m \u001b[0;34m<=\u001b[0m \u001b[0;36m0x4DBF\u001b[0m\u001b[0;34m)\u001b[0m  \u001b[0;31m#\u001b[0m\u001b[0;34m\u001b[0m\u001b[0;34m\u001b[0m\u001b[0m\n\u001b[0;32m--> 474\u001b[0;31m             \u001b[0;32mor\u001b[0m \u001b[0;34m(\u001b[0m\u001b[0mcp\u001b[0m \u001b[0;34m>=\u001b[0m \u001b[0;36m0x20000\u001b[0m \u001b[0;32mand\u001b[0m \u001b[0mcp\u001b[0m \u001b[0;34m<=\u001b[0m \u001b[0;36m0x2A6DF\u001b[0m\u001b[0;34m)\u001b[0m  \u001b[0;31m#\u001b[0m\u001b[0;34m\u001b[0m\u001b[0;34m\u001b[0m\u001b[0m\n\u001b[0m\u001b[1;32m    475\u001b[0m             \u001b[0;32mor\u001b[0m \u001b[0;34m(\u001b[0m\u001b[0mcp\u001b[0m \u001b[0;34m>=\u001b[0m \u001b[0;36m0x2A700\u001b[0m \u001b[0;32mand\u001b[0m \u001b[0mcp\u001b[0m \u001b[0;34m<=\u001b[0m \u001b[0;36m0x2B73F\u001b[0m\u001b[0;34m)\u001b[0m  \u001b[0;31m#\u001b[0m\u001b[0;34m\u001b[0m\u001b[0;34m\u001b[0m\u001b[0m\n\u001b[1;32m    476\u001b[0m             \u001b[0;32mor\u001b[0m \u001b[0;34m(\u001b[0m\u001b[0mcp\u001b[0m \u001b[0;34m>=\u001b[0m \u001b[0;36m0x2B740\u001b[0m \u001b[0;32mand\u001b[0m \u001b[0mcp\u001b[0m \u001b[0;34m<=\u001b[0m \u001b[0;36m0x2B81F\u001b[0m\u001b[0;34m)\u001b[0m  \u001b[0;31m#\u001b[0m\u001b[0;34m\u001b[0m\u001b[0;34m\u001b[0m\u001b[0m\n",
            "\u001b[0;31mKeyboardInterrupt\u001b[0m: "
          ]
        }
      ],
      "source": [
        "Learning = {'N_EPOCH': 10,\n",
        "            'BATCH_SIZE': train_info.get('batch_size'),\n",
        "            'LEARNING_RATE': 0.00007\n",
        "            }\n",
        "\n",
        "\n",
        "\n",
        "steps_per_epoch=len(train_info['data']) // Learning.get('BATCH_SIZE')\n",
        "total_training_steps = steps_per_epoch * Learning.get('N_EPOCH')\n",
        "\n",
        "warmup_steps = total_training_steps // 8\n",
        "print(\"warmup_steps, total_training_steps: \", warmup_steps, total_training_steps)\n",
        "\n",
        "\n",
        "# loss = nn.CrossEntropyLoss(reduction = 'mean')\n",
        "import torch\n",
        "from torch import nn\n",
        "import os\n",
        "import numpy as np\n",
        "import random\n",
        "import gc\n",
        "\n",
        "torch.manual_seed(SEED)\n",
        "torch.cuda.manual_seed_all(SEED)\n",
        "torch.backends.cudnn.deterministic = True\n",
        "torch.backends.cudnn.benchmark = False\n",
        "np.random.seed(SEED)\n",
        "random.seed(SEED)\n",
        "torch.clear_autocast_cache()\n",
        "torch.manual_seed(SEED)\n",
        "\n",
        "\n",
        "torch.cuda.empty_cache()\n",
        "device = torch.device(\"cuda\" if torch.cuda.is_available() else \"cpu\")\n",
        "\n",
        "\n",
        "model = SLR_Classifier(**{\n",
        "\"bert_layers\": range(12),\n",
        "'drop': 0.1\n",
        "}\n",
        "    ).to(device)\n",
        "\n",
        "\n",
        "\n",
        "loss_fn =  nn.BCELoss(reduction = 'mean')\n",
        "# optimizer = torch.optim.Adam(model.parameters(), lr=0.00007)\n",
        "optimizer = AdamW(model.parameters(), lr=Learning.get('LEARNING_RATE'))\n",
        "scheduler = get_linear_schedule_with_warmup(\n",
        "  optimizer, \n",
        "  num_warmup_steps=warmup_steps,\n",
        "  num_training_steps=total_training_steps\n",
        ")\n",
        "\n",
        "\n",
        "table.reset()\n",
        "\n",
        "Epochs = Learning.get('N_EPOCH')\n",
        "# Epochs = 3\n",
        "DECISION_BOUDERY = 0.5\n",
        "\n",
        "\n",
        "# THE MAIN TRAINING LOOOP\n",
        "for Epoch in range(0, Epochs):\n",
        "  # model.train()\n",
        "  loss, y , y_ = loop.train_one_epoch(model, train, loss_fn, optimizer, scheduler, clip_gradient=1)\n",
        "  \n",
        "  if Epoch%1 == 0:\n",
        "    res = metrics.work(y,\n",
        "                       y_,\n",
        "                       loss,\n",
        "                       DECISION_BOUDERY)\n",
        "    \n",
        "    table(res, Epoch, 'Train')\n",
        "\n",
        "    with torch.no_grad():\n",
        "      model.eval()\n",
        "      loss, y , y_ = loop.valid_one_epoch(model, valid, loss_fn)\n",
        "\n",
        "      res = metrics.work(y,\n",
        "                        y_,\n",
        "                        loss,\n",
        "                         DECISION_BOUDERY)\n",
        "\n",
        "      table(res, Epoch, 'Valid')\n",
        "    print(table.data_frame().round(2))\n",
        "\n",
        "\n",
        "del optimizer, scheduler, loss_fn\n",
        "del loss, y, y_\n",
        "torch.cuda.empty_cache()"
      ]
    },
    {
      "cell_type": "code",
      "execution_count": null,
      "metadata": {
        "id": "Y2XfZXfCZvKm"
      },
      "outputs": [],
      "source": [
        "metrics.multi_plot(table.data_frame() ,['loss', 'acc'])"
      ]
    },
    {
      "cell_type": "code",
      "execution_count": null,
      "metadata": {
        "id": "WJSYSM4fZxbC"
      },
      "outputs": [],
      "source": [
        "metrics.get_confusion_matrix(model, test)"
      ]
    },
    {
      "cell_type": "code",
      "execution_count": null,
      "metadata": {
        "id": "TsAZwtqcZzJd"
      },
      "outputs": [],
      "source": [
        "metrics.get_confusion_matrix(model, valid)"
      ]
    },
    {
      "cell_type": "markdown",
      "metadata": {
        "id": "-gSzDwfjlAVp"
      },
      "source": [
        "## STANDART TEST (Oversampling)"
      ]
    },
    {
      "cell_type": "markdown",
      "metadata": {
        "id": "Wb-uwU2RlAWD"
      },
      "source": [
        "### SPLIT DATA"
      ]
    },
    {
      "cell_type": "code",
      "source": [
        "SEED = 1\n",
        "train_Data, valid_Data, test_Data = augmatation_data_context._split(SLR,\n",
        "                                                                    input_name='abstract',\n",
        "                                                                    train_size=0.5,\n",
        "                                                                    validation_size=0.5,\n",
        "                                                                    SEED = SEED)\n",
        "\n",
        "\n",
        "index_sample =  SLR_test.groupby('decision').sample(sample_by, random_state=SEED,\n",
        "                                                    replace=False).index_SLR\n",
        "\n",
        "data_partition_one = SLR_test[SLR_test.index_SLR.isin(index_sample)]\n",
        "data_partition_two = SLR_test[~SLR_test.index_SLR.isin(index_sample)]\n",
        "\n",
        "test_Data = pd.concat([data_partition_one,test_Data ]).dropna(1)\n",
        "valid_Data = pd.concat([data_partition_two, valid_Data ]).dropna(1)\n"
      ],
      "metadata": {
        "id": "mr9LAhTJlAWE"
      },
      "execution_count": null,
      "outputs": []
    },
    {
      "cell_type": "code",
      "execution_count": null,
      "metadata": {
        "id": "abvaqah9lAWF"
      },
      "outputs": [],
      "source": [
        "gen_seed = torch.Generator().manual_seed(SEED)\n",
        "\n",
        "train_info = {\n",
        "    'data': train_Data,\n",
        "    'tokenizer': initializer_bert.tokenizer,\n",
        "    'max_token_len': 256,\n",
        "    'input': 'abstract',\n",
        "    'output': 'decision',\n",
        "    'batch_size':8, \n",
        "    }\n",
        "\n",
        "valid_info = {\n",
        "    'data': valid_Data.drop_duplicates(subset='index_SLR'),\n",
        "    'tokenizer': initializer_bert.tokenizer,\n",
        "    'max_token_len': 256,\n",
        "    'input': 'abstract',\n",
        "    'output': 'decision',\n",
        "    'batch_size':len(valid_Data.drop_duplicates(subset='index_SLR')),\n",
        "    }\n",
        "\n",
        "test_info = {\n",
        "    'data': test_Data.drop_duplicates(subset='index_SLR'),\n",
        "    'tokenizer': initializer_bert.tokenizer,\n",
        "    'max_token_len': 256,\n",
        "    'input': 'abstract',\n",
        "    'output': 'decision',\n",
        "    'batch_size':len(test_Data.drop_duplicates(subset='index_SLR')),\n",
        "    }\n",
        "\n",
        "train = data_transform(sampler(train_info['data'], gen_seed), **train_info, drop_last =True)\n",
        "\n",
        "valid = data_transform(**valid_info, drop_last =True)\n",
        "\n",
        "test = data_transform(**test_info, drop_last =True)"
      ]
    },
    {
      "cell_type": "markdown",
      "metadata": {
        "id": "JY30fTxzlAWF"
      },
      "source": [
        "### TRAINING"
      ]
    },
    {
      "cell_type": "code",
      "execution_count": null,
      "metadata": {
        "id": "HpH58ZbelAWF"
      },
      "outputs": [],
      "source": [
        "Learning = {'N_EPOCH': 4,\n",
        "            'BATCH_SIZE': train_info.get('batch_size'),\n",
        "            'LEARNING_RATE': 0.00007\n",
        "            }\n",
        "\n",
        "\n",
        "\n",
        "steps_per_epoch=len(train_info['data']) // Learning.get('BATCH_SIZE')\n",
        "total_training_steps = steps_per_epoch * Learning.get('N_EPOCH')\n",
        "# total_training_steps = steps_per_epoch * 10\n",
        "\n",
        "warmup_steps = total_training_steps // 8\n",
        "print(\"warmup_steps, total_training_steps: \", warmup_steps, total_training_steps)\n",
        "\n",
        "\n",
        "# loss = nn.CrossEntropyLoss(reduction = 'mean')\n",
        "import torch\n",
        "from torch import nn\n",
        "import os\n",
        "import numpy as np\n",
        "import random\n",
        "import gc\n",
        "\n",
        "torch.manual_seed(SEED)\n",
        "torch.cuda.manual_seed_all(SEED)\n",
        "torch.backends.cudnn.deterministic = True\n",
        "torch.backends.cudnn.benchmark = False\n",
        "np.random.seed(SEED)\n",
        "random.seed(SEED)\n",
        "torch.clear_autocast_cache()\n",
        "torch.manual_seed(SEED)\n",
        "\n",
        "\n",
        "torch.cuda.empty_cache()\n",
        "device = torch.device(\"cuda\" if torch.cuda.is_available() else \"cpu\")\n",
        "\n",
        "\n",
        "model = SLR_Classifier(**{\n",
        "\"bert_layers\": range(12),\n",
        "'drop': 0.1\n",
        "}\n",
        "    ).to(device)\n",
        "\n",
        "\n",
        "\n",
        "loss_fn =  nn.BCELoss(reduction = 'mean')\n",
        "# optimizer = torch.optim.Adam(model.parameters(), lr=0.00007)\n",
        "optimizer = AdamW(model.parameters(), lr=Learning.get('LEARNING_RATE'))\n",
        "scheduler = get_linear_schedule_with_warmup(\n",
        "  optimizer, \n",
        "  num_warmup_steps=warmup_steps,\n",
        "  num_training_steps=total_training_steps\n",
        ")\n",
        "\n",
        "\n",
        "table.reset()\n",
        "\n",
        "Epochs = Learning.get('N_EPOCH')\n",
        "# Epochs = 3\n",
        "DECISION_BOUDERY = 0.5\n",
        "\n",
        "\n",
        "# THE MAIN TRAINING LOOOP\n",
        "for Epoch in range(0, Epochs):\n",
        "  # model.train()\n",
        "  loss, y , y_ = loop.train_one_epoch(model, train, loss_fn, optimizer, scheduler, clip_gradient=1)\n",
        "  \n",
        "  if Epoch%1 == 0:\n",
        "    res = metrics.work(y,\n",
        "                       y_,\n",
        "                       loss,\n",
        "                       DECISION_BOUDERY)\n",
        "    \n",
        "    table(res, Epoch, 'Train')\n",
        "\n",
        "    with torch.no_grad():\n",
        "      model.eval()\n",
        "      loss, y , y_ = loop.valid_one_epoch(model, valid, loss_fn)\n",
        "\n",
        "      res = metrics.work(y,\n",
        "                        y_,\n",
        "                        loss,\n",
        "                         DECISION_BOUDERY)\n",
        "\n",
        "      table(res, Epoch, 'Valid')\n",
        "    print(table.data_frame().round(2))\n",
        "\n",
        "\n",
        "del optimizer, scheduler, loss_fn\n",
        "del loss, y, y_\n",
        "torch.cuda.empty_cache()"
      ]
    },
    {
      "cell_type": "code",
      "execution_count": null,
      "metadata": {
        "id": "4me7Y75plAWG"
      },
      "outputs": [],
      "source": [
        "metrics.multi_plot(table.data_frame() ,['loss', 'acc'])"
      ]
    },
    {
      "cell_type": "code",
      "execution_count": null,
      "metadata": {
        "id": "kJ0LKacqlAWG"
      },
      "outputs": [],
      "source": [
        "metrics.get_confusion_matrix(model, test)"
      ]
    },
    {
      "cell_type": "code",
      "execution_count": null,
      "metadata": {
        "id": "tdJP3Gy0lAWH"
      },
      "outputs": [],
      "source": [
        "metrics.get_confusion_matrix(model, valid)"
      ]
    }
  ],
  "metadata": {
    "accelerator": "GPU",
    "colab": {
      "collapsed_sections": [
        "AoBDu71JdC0c",
        "Ncac2UqWsanJ",
        "lNNeSiMxszFj",
        "UK2ru8ip2djR",
        "Xl6QC7L7ZhKO",
        "8JUzQ1EL9DLl",
        "NKRgQsDiZGQ6",
        "FQl4ja_MZpml",
        "-gSzDwfjlAVp"
      ],
      "name": "Meta_Learning_SLR.ipynb",
      "provenance": []
    },
    "kernelspec": {
      "display_name": "Python 3",
      "name": "python3"
    },
    "language_info": {
      "name": "python"
    }
  },
  "nbformat": 4,
  "nbformat_minor": 0
}