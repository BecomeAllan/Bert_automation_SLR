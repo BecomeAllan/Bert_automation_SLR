{
  "nbformat": 4,
  "nbformat_minor": 0,
  "metadata": {
    "colab": {
      "name": "EDA SLR.ipynb",
      "provenance": [],
      "collapsed_sections": [
        "GKSzLMXUlPSr"
      ]
    },
    "kernelspec": {
      "name": "python3",
      "display_name": "Python 3"
    },
    "language_info": {
      "name": "python"
    }
  },
  "cells": [
    {
      "cell_type": "markdown",
      "metadata": {
        "id": "EJjIO1L9THu5"
      },
      "source": [
        "# EDA (Exploratory Data Analysis)\n",
        "\n",
        "When using a BERT model, we deal with two constraints: all sentences must be padded or truncated to a single, fixed length and the maximum sentence length is 512 tokens. This maximum length does impact training and evaluation speed, so it's wise to analyse our data to find a sweet spot, if possible.\n",
        "\n",
        "Update 05/11/2021: our dataset\n",
        "\n",
        "Update 03/11/2021: try SciBERT.\n",
        "\n",
        "Update 02/11/2021: use new dataframe with concatenated titles and abstracts.\n",
        "\n",
        "References:\n",
        "* HuggingFace materials (https://huggingface.co/transformers/)\n",
        "* Chris McCormick's Bert Tutorials (https://mccormickml.com/)\n",
        "* Jay Alammar's post (https://jalammar.github.io/illustrated-bert/)\n"
      ]
    },
    {
      "cell_type": "markdown",
      "metadata": {
        "id": "VcGFJ21zTnob"
      },
      "source": [
        "### Setup"
      ]
    },
    {
      "cell_type": "code",
      "metadata": {
        "id": "LFsRClAS1ped"
      },
      "source": [
        "# from google.colab import drive \n",
        "# drive.mount('/content/drive')"
      ],
      "execution_count": 72,
      "outputs": []
    },
    {
      "cell_type": "code",
      "metadata": {
        "colab": {
          "base_uri": "https://localhost:8080/"
        },
        "id": "Lt5vKCz2F08k",
        "outputId": "c341f622-4c70-434b-c0eb-acc2864cecb6"
      },
      "source": [
        "!pip install transformers"
      ],
      "execution_count": 73,
      "outputs": [
        {
          "output_type": "stream",
          "name": "stdout",
          "text": [
            "Requirement already satisfied: transformers in /usr/local/lib/python3.7/dist-packages (4.12.5)\n",
            "Requirement already satisfied: packaging>=20.0 in /usr/local/lib/python3.7/dist-packages (from transformers) (21.2)\n",
            "Requirement already satisfied: numpy>=1.17 in /usr/local/lib/python3.7/dist-packages (from transformers) (1.19.5)\n",
            "Requirement already satisfied: requests in /usr/local/lib/python3.7/dist-packages (from transformers) (2.23.0)\n",
            "Requirement already satisfied: importlib-metadata in /usr/local/lib/python3.7/dist-packages (from transformers) (4.8.2)\n",
            "Requirement already satisfied: regex!=2019.12.17 in /usr/local/lib/python3.7/dist-packages (from transformers) (2019.12.20)\n",
            "Requirement already satisfied: huggingface-hub<1.0,>=0.1.0 in /usr/local/lib/python3.7/dist-packages (from transformers) (0.1.2)\n",
            "Requirement already satisfied: sacremoses in /usr/local/lib/python3.7/dist-packages (from transformers) (0.0.46)\n",
            "Requirement already satisfied: filelock in /usr/local/lib/python3.7/dist-packages (from transformers) (3.3.2)\n",
            "Requirement already satisfied: tqdm>=4.27 in /usr/local/lib/python3.7/dist-packages (from transformers) (4.62.3)\n",
            "Requirement already satisfied: tokenizers<0.11,>=0.10.1 in /usr/local/lib/python3.7/dist-packages (from transformers) (0.10.3)\n",
            "Requirement already satisfied: pyyaml>=5.1 in /usr/local/lib/python3.7/dist-packages (from transformers) (6.0)\n",
            "Requirement already satisfied: typing-extensions>=3.7.4.3 in /usr/local/lib/python3.7/dist-packages (from huggingface-hub<1.0,>=0.1.0->transformers) (3.10.0.2)\n",
            "Requirement already satisfied: pyparsing<3,>=2.0.2 in /usr/local/lib/python3.7/dist-packages (from packaging>=20.0->transformers) (2.4.7)\n",
            "Requirement already satisfied: zipp>=0.5 in /usr/local/lib/python3.7/dist-packages (from importlib-metadata->transformers) (3.6.0)\n",
            "Requirement already satisfied: urllib3!=1.25.0,!=1.25.1,<1.26,>=1.21.1 in /usr/local/lib/python3.7/dist-packages (from requests->transformers) (1.24.3)\n",
            "Requirement already satisfied: idna<3,>=2.5 in /usr/local/lib/python3.7/dist-packages (from requests->transformers) (2.10)\n",
            "Requirement already satisfied: chardet<4,>=3.0.2 in /usr/local/lib/python3.7/dist-packages (from requests->transformers) (3.0.4)\n",
            "Requirement already satisfied: certifi>=2017.4.17 in /usr/local/lib/python3.7/dist-packages (from requests->transformers) (2021.10.8)\n",
            "Requirement already satisfied: click in /usr/local/lib/python3.7/dist-packages (from sacremoses->transformers) (7.1.2)\n",
            "Requirement already satisfied: six in /usr/local/lib/python3.7/dist-packages (from sacremoses->transformers) (1.15.0)\n",
            "Requirement already satisfied: joblib in /usr/local/lib/python3.7/dist-packages (from sacremoses->transformers) (1.1.0)\n"
          ]
        }
      ]
    },
    {
      "cell_type": "code",
      "metadata": {
        "id": "-mOGVRrN1pI-"
      },
      "source": [
        "import pandas as pd\n",
        "\n",
        "df = pd.read_csv('/content/SLRdata_cleaned.csv', index_col=0)"
      ],
      "execution_count": 74,
      "outputs": []
    },
    {
      "cell_type": "markdown",
      "metadata": {
        "id": "Jda_OSC8T8qM"
      },
      "source": [
        "### Analysing data"
      ]
    },
    {
      "cell_type": "code",
      "metadata": {
        "colab": {
          "base_uri": "https://localhost:8080/",
          "height": 279
        },
        "id": "10TJ9QDf1UtU",
        "outputId": "0d1a48b4-367f-4e2d-f529-710127f5984a"
      },
      "source": [
        "# Report the number of abstracts.\n",
        "print('Number of training abstracts: {:,}\\n'.format(df.shape[0]))\n",
        "\n",
        "df.head(4)"
      ],
      "execution_count": 75,
      "outputs": [
        {
          "output_type": "stream",
          "name": "stdout",
          "text": [
            "Number of training abstracts: 75\n",
            "\n"
          ]
        },
        {
          "output_type": "execute_result",
          "data": {
            "text/html": [
              "<div>\n",
              "<style scoped>\n",
              "    .dataframe tbody tr th:only-of-type {\n",
              "        vertical-align: middle;\n",
              "    }\n",
              "\n",
              "    .dataframe tbody tr th {\n",
              "        vertical-align: top;\n",
              "    }\n",
              "\n",
              "    .dataframe thead th {\n",
              "        text-align: right;\n",
              "    }\n",
              "</style>\n",
              "<table border=\"1\" class=\"dataframe\">\n",
              "  <thead>\n",
              "    <tr style=\"text-align: right;\">\n",
              "      <th></th>\n",
              "      <th>index_SLR</th>\n",
              "      <th>title</th>\n",
              "      <th>abstract</th>\n",
              "      <th>text</th>\n",
              "      <th>decision</th>\n",
              "    </tr>\n",
              "  </thead>\n",
              "  <tbody>\n",
              "    <tr>\n",
              "      <th>0</th>\n",
              "      <td>134</td>\n",
              "      <td>Optimal control and optimization algorithm for...</td>\n",
              "      <td>As we all know, big data and intelligent compu...</td>\n",
              "      <td>Optimal control and optimization algorithm for...</td>\n",
              "      <td>0</td>\n",
              "    </tr>\n",
              "    <tr>\n",
              "      <th>2</th>\n",
              "      <td>133</td>\n",
              "      <td>Reinforcement Learning for Placement Optimization</td>\n",
              "      <td>In the past decade, computer systems and chips...</td>\n",
              "      <td>Reinforcement Learning for Placement Optimizat...</td>\n",
              "      <td>0</td>\n",
              "    </tr>\n",
              "    <tr>\n",
              "      <th>4</th>\n",
              "      <td>132</td>\n",
              "      <td>Securities Analysis and Portfolio Management U...</td>\n",
              "      <td>Financial services institutions are adopting a...</td>\n",
              "      <td>Securities Analysis and Portfolio Management U...</td>\n",
              "      <td>1</td>\n",
              "    </tr>\n",
              "    <tr>\n",
              "      <th>5</th>\n",
              "      <td>131</td>\n",
              "      <td>Optimización e inteligencia artificial para la...</td>\n",
              "      <td>Decision making is a transcendental process th...</td>\n",
              "      <td>Optimización e inteligencia artificial para la...</td>\n",
              "      <td>0</td>\n",
              "    </tr>\n",
              "  </tbody>\n",
              "</table>\n",
              "</div>"
            ],
            "text/plain": [
              "   index_SLR  ... decision\n",
              "0        134  ...        0\n",
              "2        133  ...        0\n",
              "4        132  ...        1\n",
              "5        131  ...        0\n",
              "\n",
              "[4 rows x 5 columns]"
            ]
          },
          "metadata": {},
          "execution_count": 75
        }
      ]
    },
    {
      "cell_type": "code",
      "metadata": {
        "colab": {
          "base_uri": "https://localhost:8080/"
        },
        "id": "QGPcnlhKAxoT",
        "outputId": "8a299c71-46f3-49e4-b3fc-4d478a9b8052"
      },
      "source": [
        "df.columns"
      ],
      "execution_count": 76,
      "outputs": [
        {
          "output_type": "execute_result",
          "data": {
            "text/plain": [
              "Index(['index_SLR', 'title', 'abstract', 'text', 'decision'], dtype='object')"
            ]
          },
          "metadata": {},
          "execution_count": 76
        }
      ]
    },
    {
      "cell_type": "code",
      "metadata": {
        "id": "irX7elMtAxvL"
      },
      "source": [
        "dataframe = df.loc[:, ['index_SLR', 'title', 'abstract', 'decision']]"
      ],
      "execution_count": 77,
      "outputs": []
    },
    {
      "cell_type": "code",
      "metadata": {
        "colab": {
          "base_uri": "https://localhost:8080/",
          "height": 293
        },
        "id": "Q3llXFz_AxzA",
        "outputId": "bb660bb4-453c-484d-b8a0-cba1eca4e958"
      },
      "source": [
        "dataframe.head()"
      ],
      "execution_count": 78,
      "outputs": [
        {
          "output_type": "execute_result",
          "data": {
            "text/html": [
              "<div>\n",
              "<style scoped>\n",
              "    .dataframe tbody tr th:only-of-type {\n",
              "        vertical-align: middle;\n",
              "    }\n",
              "\n",
              "    .dataframe tbody tr th {\n",
              "        vertical-align: top;\n",
              "    }\n",
              "\n",
              "    .dataframe thead th {\n",
              "        text-align: right;\n",
              "    }\n",
              "</style>\n",
              "<table border=\"1\" class=\"dataframe\">\n",
              "  <thead>\n",
              "    <tr style=\"text-align: right;\">\n",
              "      <th></th>\n",
              "      <th>index_SLR</th>\n",
              "      <th>title</th>\n",
              "      <th>abstract</th>\n",
              "      <th>decision</th>\n",
              "    </tr>\n",
              "  </thead>\n",
              "  <tbody>\n",
              "    <tr>\n",
              "      <th>0</th>\n",
              "      <td>134</td>\n",
              "      <td>Optimal control and optimization algorithm for...</td>\n",
              "      <td>As we all know, big data and intelligent compu...</td>\n",
              "      <td>0</td>\n",
              "    </tr>\n",
              "    <tr>\n",
              "      <th>2</th>\n",
              "      <td>133</td>\n",
              "      <td>Reinforcement Learning for Placement Optimization</td>\n",
              "      <td>In the past decade, computer systems and chips...</td>\n",
              "      <td>0</td>\n",
              "    </tr>\n",
              "    <tr>\n",
              "      <th>4</th>\n",
              "      <td>132</td>\n",
              "      <td>Securities Analysis and Portfolio Management U...</td>\n",
              "      <td>Financial services institutions are adopting a...</td>\n",
              "      <td>1</td>\n",
              "    </tr>\n",
              "    <tr>\n",
              "      <th>5</th>\n",
              "      <td>131</td>\n",
              "      <td>Optimización e inteligencia artificial para la...</td>\n",
              "      <td>Decision making is a transcendental process th...</td>\n",
              "      <td>0</td>\n",
              "    </tr>\n",
              "    <tr>\n",
              "      <th>6</th>\n",
              "      <td>129</td>\n",
              "      <td>Hybrid chaos optimization algorithm with artif...</td>\n",
              "      <td>Much research on Artificial Intelligence (AI) ...</td>\n",
              "      <td>0</td>\n",
              "    </tr>\n",
              "  </tbody>\n",
              "</table>\n",
              "</div>"
            ],
            "text/plain": [
              "   index_SLR  ... decision\n",
              "0        134  ...        0\n",
              "2        133  ...        0\n",
              "4        132  ...        1\n",
              "5        131  ...        0\n",
              "6        129  ...        0\n",
              "\n",
              "[5 rows x 4 columns]"
            ]
          },
          "metadata": {},
          "execution_count": 78
        }
      ]
    },
    {
      "cell_type": "code",
      "metadata": {
        "colab": {
          "base_uri": "https://localhost:8080/"
        },
        "id": "icjRhwyac5A2",
        "outputId": "ba156b5b-4415-4281-a8d9-5fd829efdf76"
      },
      "source": [
        "dataframe.shape"
      ],
      "execution_count": 79,
      "outputs": [
        {
          "output_type": "execute_result",
          "data": {
            "text/plain": [
              "(75, 4)"
            ]
          },
          "metadata": {},
          "execution_count": 79
        }
      ]
    },
    {
      "cell_type": "code",
      "metadata": {
        "colab": {
          "base_uri": "https://localhost:8080/",
          "height": 143
        },
        "id": "WTn0Ebv_1ePj",
        "outputId": "fc4783c4-4437-4ea9-a440-9ab5f71522b8"
      },
      "source": [
        "# Dataset.\n",
        "dataframe[['abstract', 'decision']].groupby('decision').count()"
      ],
      "execution_count": 80,
      "outputs": [
        {
          "output_type": "execute_result",
          "data": {
            "text/html": [
              "<div>\n",
              "<style scoped>\n",
              "    .dataframe tbody tr th:only-of-type {\n",
              "        vertical-align: middle;\n",
              "    }\n",
              "\n",
              "    .dataframe tbody tr th {\n",
              "        vertical-align: top;\n",
              "    }\n",
              "\n",
              "    .dataframe thead th {\n",
              "        text-align: right;\n",
              "    }\n",
              "</style>\n",
              "<table border=\"1\" class=\"dataframe\">\n",
              "  <thead>\n",
              "    <tr style=\"text-align: right;\">\n",
              "      <th></th>\n",
              "      <th>abstract</th>\n",
              "    </tr>\n",
              "    <tr>\n",
              "      <th>decision</th>\n",
              "      <th></th>\n",
              "    </tr>\n",
              "  </thead>\n",
              "  <tbody>\n",
              "    <tr>\n",
              "      <th>0</th>\n",
              "      <td>47</td>\n",
              "    </tr>\n",
              "    <tr>\n",
              "      <th>1</th>\n",
              "      <td>28</td>\n",
              "    </tr>\n",
              "  </tbody>\n",
              "</table>\n",
              "</div>"
            ],
            "text/plain": [
              "          abstract\n",
              "decision          \n",
              "0               47\n",
              "1               28"
            ]
          },
          "metadata": {},
          "execution_count": 80
        }
      ]
    },
    {
      "cell_type": "code",
      "metadata": {
        "colab": {
          "base_uri": "https://localhost:8080/"
        },
        "id": "wpW9-j0L1exh",
        "outputId": "f5a942eb-e609-447b-e7b8-aaf44b1d32c0"
      },
      "source": [
        "dataframe.decision.value_counts(normalize=True)"
      ],
      "execution_count": 81,
      "outputs": [
        {
          "output_type": "execute_result",
          "data": {
            "text/plain": [
              "0    0.626667\n",
              "1    0.373333\n",
              "Name: decision, dtype: float64"
            ]
          },
          "metadata": {},
          "execution_count": 81
        }
      ]
    },
    {
      "cell_type": "code",
      "metadata": {
        "colab": {
          "base_uri": "https://localhost:8080/",
          "height": 209
        },
        "id": "j3Q7OMzn1fAw",
        "outputId": "69841860-f808-4665-e000-152a88125169"
      },
      "source": [
        "# First abstract.\n",
        "dataframe.abstract[0]"
      ],
      "execution_count": 82,
      "outputs": [
        {
          "output_type": "execute_result",
          "data": {
            "application/vnd.google.colaboratory.intrinsic+json": {
              "type": "string"
            },
            "text/plain": [
              "'As we all know, big data and intelligent computing have been widely used in information science, life science, computer science and intelligent control, intelligent robots, vehicle networking, space technology, marine development and other fields, especially in the future life science and medical field. This paper is based on a new digital optimal decision-making idea of intelligent signal processing and control. On the basis of extending non-digital signal processing and information prediction to signal processing and information prediction in the digital generalized information measurement space, and making full use of optimization algorithms such as digital filtering and frequency spectrum analysis, this article discusses in depth the intelligent optimal control of a class of non-stationary random processes in artificial intelligence, biomedicine, radio communication, automatic control and other scientific and technological fields. It provides a new theory, a new approach and an effective and reliable new method for the mathematical modeling and optimal control of such processes, and has broad application prospects and value.'"
            ]
          },
          "metadata": {},
          "execution_count": 82
        }
      ]
    },
    {
      "cell_type": "code",
      "metadata": {
        "id": "qgnKotwRfzQ9"
      },
      "source": [
        "t_abstracts = dataframe.abstract\n",
        "t_labels = dataframe.decision"
      ],
      "execution_count": 83,
      "outputs": []
    },
    {
      "cell_type": "code",
      "metadata": {
        "id": "l1s8Kzj9DL0I"
      },
      "source": [
        "# Extract the abstracts and labels of our training+validation set as numpy ndarrays.\n",
        "abstracts = t_abstracts.to_numpy()\n",
        "labels = t_labels.to_numpy()"
      ],
      "execution_count": 84,
      "outputs": []
    },
    {
      "cell_type": "code",
      "metadata": {
        "colab": {
          "base_uri": "https://localhost:8080/"
        },
        "id": "g-q0UDfeGF7p",
        "outputId": "ac390070-153a-4eca-de58-bb4ae1d019e5"
      },
      "source": [
        "from transformers import AutoTokenizer, BertTokenizer\n",
        "\n",
        "# Load the tokenizers\n",
        "print('Loading tokenizers...\\n')\n",
        "scibert_tokenizer = AutoTokenizer.from_pretrained('allenai/scibert_scivocab_uncased')\n",
        "bert_tokenizer = BertTokenizer.from_pretrained('bert-base-uncased')\n",
        "print('scibert_tokenizer is type:', type(scibert_tokenizer))\n",
        "print('   bert_tokenizer is type:', type(bert_tokenizer))"
      ],
      "execution_count": 85,
      "outputs": [
        {
          "output_type": "stream",
          "name": "stdout",
          "text": [
            "Loading tokenizers...\n",
            "\n",
            "scibert_tokenizer is type: <class 'transformers.models.bert.tokenization_bert_fast.BertTokenizerFast'>\n",
            "   bert_tokenizer is type: <class 'transformers.models.bert.tokenization_bert.BertTokenizer'>\n"
          ]
        }
      ]
    },
    {
      "cell_type": "markdown",
      "metadata": {
        "id": "eWO57YVUyE2P"
      },
      "source": [
        "Comparing BERT and SciBERT tokens"
      ]
    },
    {
      "cell_type": "code",
      "metadata": {
        "colab": {
          "base_uri": "https://localhost:8080/"
        },
        "id": "ejdZA5vzyR1v",
        "outputId": "30f7d493-e2b9-42c4-f293-c4b58d071f81"
      },
      "source": [
        "text = abstracts[0]\n",
        "\n",
        "# Split the sentence into tokens, with both BERT and SciBERT.\n",
        "bert_tokens = bert_tokenizer.tokenize(text)\n",
        "scibert_tokens = scibert_tokenizer.tokenize(text)\n",
        "\n",
        "print('Abstract 0 contains {:,} WordPiece tokens.'.format(len(bert_tokens)))\n",
        "print('Abstract 0 contains {:,} SentencePiece tokens.\\n'.format(len(scibert_tokens)))\n",
        "\n",
        "# Pad out the scibert list to be the same length.\n",
        "while len(scibert_tokens) < len(bert_tokens):\n",
        "    scibert_tokens.append(\"\")\n",
        "\n",
        "# Label the columns.\n",
        "print('{:<12} {:<12}'.format(\"BERT\", \"SciBERT\"))\n",
        "print('{:<12} {:<12}'.format(\"----\", \"-------\"))\n",
        "\n",
        "# Display the first 50 tokens.\n",
        "for i, tup in enumerate(zip(bert_tokens, scibert_tokens)):\n",
        "    print('{:<12} {:<12}'.format(tup[0], tup[1]))\n",
        "    if i > 50:\n",
        "        break"
      ],
      "execution_count": 86,
      "outputs": [
        {
          "output_type": "stream",
          "name": "stdout",
          "text": [
            "Abstract 0 contains 189 WordPiece tokens.\n",
            "Abstract 0 contains 187 SentencePiece tokens.\n",
            "\n",
            "BERT         SciBERT     \n",
            "----         -------     \n",
            "as           as          \n",
            "we           we          \n",
            "all          all         \n",
            "know         know        \n",
            ",            ,           \n",
            "big          big         \n",
            "data         data        \n",
            "and          and         \n",
            "intelligent  intelligent \n",
            "computing    computing   \n",
            "have         have        \n",
            "been         been        \n",
            "widely       widely      \n",
            "used         used        \n",
            "in           in          \n",
            "information  information \n",
            "science      science     \n",
            ",            ,           \n",
            "life         life        \n",
            "science      science     \n",
            ",            ,           \n",
            "computer     computer    \n",
            "science      science     \n",
            "and          and         \n",
            "intelligent  intelligent \n",
            "control      control     \n",
            ",            ,           \n",
            "intelligent  intelligent \n",
            "robots       robots      \n",
            ",            ,           \n",
            "vehicle      vehicle     \n",
            "networking   networking  \n",
            ",            ,           \n",
            "space        space       \n",
            "technology   technology  \n",
            ",            ,           \n",
            "marine       marine      \n",
            "development  development \n",
            "and          and         \n",
            "other        other       \n",
            "fields       fields      \n",
            ",            ,           \n",
            "especially   especially  \n",
            "in           in          \n",
            "the          the         \n",
            "future       future      \n",
            "life         life        \n",
            "science      science     \n",
            "and          and         \n",
            "medical      medical     \n",
            "field        field       \n",
            ".            .           \n"
          ]
        }
      ]
    },
    {
      "cell_type": "code",
      "metadata": {
        "colab": {
          "base_uri": "https://localhost:8080/"
        },
        "id": "8779Bn50GGQh",
        "outputId": "b4dee86b-10a5-4b54-f143-46e885a1dd22"
      },
      "source": [
        "# Tokenize all abstracts\n",
        "\n",
        "import numpy as np\n",
        "\n",
        "# Tokenize all of the abstracts and map the tokens to their word IDs.\n",
        "input_ids, input_ids_bert = [], []\n",
        "\n",
        "# Record the length of each abstract.\n",
        "lengths, lengths_bert = [], []\n",
        "\n",
        "print('Tokenizing abstracts...')\n",
        "\n",
        "for abst in abstracts:\n",
        "  \n",
        "  # Report progress.\n",
        "  # if((len(input_ids) % 500) == 0 and not (len(input_ids) == 0)):\n",
        "  #   print('Read {:,} abstracts.'.format(len(input_ids)))\n",
        "\n",
        "  encoded_sent = scibert_tokenizer.encode_plus(abst,                      # Abstract to encode.\n",
        "                                  add_special_tokens = True,)             # Add '[CLS]' and '[SEP]'\n",
        "                                  #max_length=512,\n",
        "                                  #truncation=True)\n",
        "  encoded_sent_bert = bert_tokenizer.encode_plus(abst, add_special_tokens = True)\n",
        "\n",
        "  # Add the encoded abstract to the list.    \n",
        "  input_ids.append(encoded_sent.input_ids)\n",
        "  input_ids_bert.append(encoded_sent_bert.input_ids)\n",
        "\n",
        "  # Record the length.\n",
        "  lengths.append(len(encoded_sent.input_ids))\n",
        "  lengths_bert.append(len(encoded_sent_bert.input_ids))\n",
        "\n",
        "print('\\nDONE.')\n",
        "print('\\n{:>10,} abstracts.'.format(len(input_ids)))"
      ],
      "execution_count": 87,
      "outputs": [
        {
          "output_type": "stream",
          "name": "stdout",
          "text": [
            "Tokenizing abstracts...\n",
            "\n",
            "DONE.\n",
            "\n",
            "        75 abstracts.\n"
          ]
        }
      ]
    },
    {
      "cell_type": "code",
      "metadata": {
        "colab": {
          "base_uri": "https://localhost:8080/"
        },
        "id": "vzX6xuLNHsdw",
        "outputId": "05aa4b2a-6b6c-405b-d736-01cdfbdc9b2b"
      },
      "source": [
        "print('{:>6,} included'.format(np.sum(labels)))\n",
        "print('{:>6,} excluded'.format(len(labels) - np.sum(labels)))"
      ],
      "execution_count": 88,
      "outputs": [
        {
          "output_type": "stream",
          "name": "stdout",
          "text": [
            "    28 included\n",
            "    47 excluded\n"
          ]
        }
      ]
    },
    {
      "cell_type": "code",
      "metadata": {
        "colab": {
          "base_uri": "https://localhost:8080/"
        },
        "id": "dhd4b6QWHspp",
        "outputId": "badfb852-ffd7-45fc-dfb3-0afd26609bae"
      },
      "source": [
        "print('SciBERT')\n",
        "print('Min length: {:,} tokens'.format(min(lengths)))\n",
        "print('Max length: {:,} tokens'.format(max(lengths)))\n",
        "print('Median length: {:,} tokens'.format(np.median(lengths)))\n",
        "print('BERT')\n",
        "print('Min length: {:,} tokens'.format(min(lengths_bert)))\n",
        "print('Max length: {:,} tokens'.format(max(lengths_bert)))\n",
        "print('Median length: {:,} tokens'.format(np.median(lengths_bert)))"
      ],
      "execution_count": 89,
      "outputs": [
        {
          "output_type": "stream",
          "name": "stdout",
          "text": [
            "SciBERT\n",
            "Min length: 89 tokens\n",
            "Max length: 388 tokens\n",
            "Median length: 202.0 tokens\n",
            "BERT\n",
            "Min length: 90 tokens\n",
            "Max length: 402 tokens\n",
            "Median length: 208.0 tokens\n"
          ]
        }
      ]
    },
    {
      "cell_type": "code",
      "metadata": {
        "colab": {
          "base_uri": "https://localhost:8080/",
          "height": 424
        },
        "id": "6FNu88eAI7sD",
        "outputId": "56b41b0a-8e4f-409a-eb7d-6c950a45b7b5"
      },
      "source": [
        "# Plot the distribution\n",
        "\n",
        "import matplotlib.pyplot as plt\n",
        "import seaborn as sns\n",
        "import numpy as np\n",
        "\n",
        "sns.set(style='darkgrid')\n",
        "\n",
        "# Increase the plot size and font size.\n",
        "sns.set(font_scale=1.5)\n",
        "plt.rcParams[\"figure.figsize\"] = (10,5)\n",
        "\n",
        "# Plot the distribution of abstract lengths.\n",
        "sns.distplot(lengths, kde=False, rug=False, label='SciBERT')\n",
        "#sns.displot(lengths, rug=False)\n",
        "\n",
        "# Plot the distribution of abstract lengths.\n",
        "sns.distplot(lengths_bert, kde=False, rug=False, label='BERT')\n",
        "\n",
        "plt.xlabel('Abstract length')\n",
        "plt.ylabel('# of Abstracts')\n",
        "plt.legend(loc='upper right')"
      ],
      "execution_count": 90,
      "outputs": [
        {
          "output_type": "stream",
          "name": "stderr",
          "text": [
            "/usr/local/lib/python3.7/dist-packages/seaborn/distributions.py:2619: FutureWarning: `distplot` is a deprecated function and will be removed in a future version. Please adapt your code to use either `displot` (a figure-level function with similar flexibility) or `histplot` (an axes-level function for histograms).\n",
            "  warnings.warn(msg, FutureWarning)\n"
          ]
        },
        {
          "output_type": "execute_result",
          "data": {
            "text/plain": [
              "<matplotlib.legend.Legend at 0x7fb0ec7993d0>"
            ]
          },
          "metadata": {},
          "execution_count": 90
        },
        {
          "output_type": "display_data",
          "data": {
            "image/png": "[encoded data removed]",
            "text/plain": [
              "<Figure size 720x360 with 1 Axes>"
            ]
          },
          "metadata": {}
        }
      ]
    },
    {
      "cell_type": "code",
      "metadata": {
        "colab": {
          "base_uri": "https://localhost:8080/"
        },
        "id": "4cz_syXDI74W",
        "outputId": "e53c2ae7-1805-4729-b216-e5dd98ad768e"
      },
      "source": [
        "num_greater = sum(i > 512 for i in lengths)\n",
        "\n",
        "# Compare this to the total number of training abstracts.\n",
        "num_abstracts = len(lengths)\n",
        "prcnt = float(num_greater) / float(num_abstracts)\n",
        "\n",
        "print('{:,} of {:,} abstracts ({:.1%}) in the training/validation set are longer than 512 tokens.'.format(num_greater, num_abstracts, prcnt))"
      ],
      "execution_count": 91,
      "outputs": [
        {
          "output_type": "stream",
          "name": "stdout",
          "text": [
            "0 of 75 abstracts (0.0%) in the training/validation set are longer than 512 tokens.\n"
          ]
        }
      ]
    },
    {
      "cell_type": "code",
      "metadata": {
        "id": "uITS4LGpJRSD"
      },
      "source": [
        "# Number of abstracts; included vs. excluded.\n",
        "num_pos = 0\n",
        "num_neg = 0\n",
        "\n",
        "# Iterate through the abstract lengths...\n",
        "if num_greater > 0:\n",
        "    for i, l in enumerate(lengths):\n",
        "      if l > 512:\n",
        "          if labels[i] == 1:\n",
        "            num_pos += 1\n",
        "          else:\n",
        "            num_neg += 1\n",
        "\n",
        "    # Report the total.\n",
        "    print('{:,} of the examples ({:.1%}) contain an eligible abstract.'.format(num_pos, num_pos / (num_pos + num_neg)))\n"
      ],
      "execution_count": 92,
      "outputs": []
    },
    {
      "cell_type": "markdown",
      "metadata": {
        "id": "GKSzLMXUlPSr"
      },
      "source": [
        "# Number of words plit by \\\" \\\""
      ]
    },
    {
      "cell_type": "code",
      "metadata": {
        "colab": {
          "base_uri": "https://localhost:8080/"
        },
        "id": "yXasUl5FgrZ3",
        "outputId": "d1db453f-30c6-41e5-ed64-95dfdf043931"
      },
      "source": [
        "def sorte(x, reverse = True):\n",
        "  return dict(sorted(x.items(), key=lambda item: item[1], reverse=reverse))\n",
        "\n",
        "t_abstracts_ls = [x.lower().split() for x in t_abstracts]\n",
        "t_abstracts_label_ls = [(x.lower().split(), y) for x,y in zip(t_abstracts, t_labels)]\n",
        "\n",
        "# Number of Words\n",
        "all = {}\n",
        "for ls in t_abstracts_ls:\n",
        "  for x in ls:\n",
        "    v = all.get(x, 0)\n",
        "    all[x] = v+1\n",
        "\n",
        "sorte(all)\n",
        "\n",
        "  # Number of Words of labels (0,1)\n",
        "\n",
        "def table(all):\n",
        "  all = {}\n",
        "  for ls, y in zip(t_abstracts_ls, t_labels):\n",
        "    for x in ls:\n",
        "      v = all.get((x, y) , 0)\n",
        "      all[(x, y)] = v+1\n",
        "\n",
        "  ps = []\n",
        "  ng = []\n",
        "  \n",
        "  for x in sorte(all):\n",
        "    if x[1] == 1:\n",
        "      ps.append(x)\n",
        "    else:\n",
        "      ng.append(x)\n",
        "\n",
        "  print(f\"{'Label: 1':^27} | {'Label: 0':^25}\")\n",
        "  print(f\"{'-'*60:^50}\")\n",
        "  k = 0\n",
        "  for x,y in zip(ps, ng):\n",
        "    k+=1\n",
        "    if k > 20: break;\n",
        "    print(f\"{x[0]:^15}: {all[x]:^10} | {y[0]:^15}: {all[y]:^9}\")\n",
        "\n",
        "table(all)"
      ],
      "execution_count": 93,
      "outputs": [
        {
          "output_type": "stream",
          "name": "stdout",
          "text": [
            "         Label: 1           |         Label: 0         \n",
            "------------------------------------------------------------\n",
            "      the      :    331     |       the      :    497   \n",
            "      of       :    208     |       of       :    377   \n",
            "      and      :    174     |       and      :    311   \n",
            "      to       :    124     |       in       :    197   \n",
            "      in       :    114     |       to       :    191   \n",
            "       a       :     74     |        a       :    154   \n",
            "      is       :     57     |       is       :    106   \n",
            "      for      :     52     |       for      :    91    \n",
            "   decision    :     47     |      this      :    79    \n",
            "  artificial   :     41     |   artificial   :    68    \n",
            "      are      :     40     |       are      :    68    \n",
            "     this      :     38     |       on       :    53    \n",
            " intelligence  :     37     |  optimization  :    53    \n",
            "      on       :     37     |       as       :    52    \n",
            "      by       :     30     |  intelligence  :    50    \n",
            "     with      :     29     |      with      :    45    \n",
            "     that      :     28     |      that      :    45    \n",
            "      as       :     27     |    decision    :    40    \n",
            "      an       :     27     |       an       :    38    \n",
            "      can      :     26     |       by       :    36    \n"
          ]
        }
      ]
    },
    {
      "cell_type": "markdown",
      "metadata": {
        "id": "njCSkqtmlV-S"
      },
      "source": [
        "# Number of words using the encoder bert\n"
      ]
    },
    {
      "cell_type": "markdown",
      "metadata": {
        "id": "-H7gwNkElms6"
      },
      "source": [
        "bert"
      ]
    },
    {
      "cell_type": "code",
      "metadata": {
        "colab": {
          "base_uri": "https://localhost:8080/",
          "height": 1000
        },
        "id": "mmBSB6Hjkxbl",
        "outputId": "2e171b04-f95c-4fa4-b688-89702656080f"
      },
      "source": [
        "import matplotlib.pyplot as plt\n",
        "\n",
        "def sorte(x, reverse = True):\n",
        "  return dict(sorted(x.items(), key=lambda item: item[1], reverse=reverse))\n",
        "\n",
        "t_abstracts_ls = [bert_tokenizer.tokenize(x) for x in t_abstracts]\n",
        "\n",
        "print(t_labels.value_counts())\n",
        "# Number of Words\n",
        "all = {}\n",
        "for ls in t_abstracts_ls:\n",
        "  for x in ls:\n",
        "    v = all.get(x, 0)\n",
        "    all[x] = v+1\n",
        "\n",
        "\n",
        "  # Number of Words of labels (0,1)\n",
        "\n",
        "def table(all):\n",
        "  all = {}\n",
        "  for ls, y in zip(t_abstracts_ls, t_labels):\n",
        "    for x in ls:\n",
        "      v = all.get((x, y) , 0)\n",
        "      all[(x, y)] = v+1\n",
        "\n",
        "  ps = []\n",
        "  ng = []\n",
        "  \n",
        "  for x in sorte(all):\n",
        "    if x[1] == 1:\n",
        "      ps.append(x)\n",
        "    else:\n",
        "      ng.append(x)\n",
        "  \n",
        "\n",
        "  print(f\"{'Label: 1':^27} | {'Label: 0':^25}\")\n",
        "  print(f\"{'-'*60:^50}\")\n",
        "  k = 0\n",
        "  for x,y in zip(ps, ng):\n",
        "    k+=1\n",
        "    if k > 20: break;\n",
        "    print(f\"{x[0]:^15}: {all[x]:^10} | {y[0]:^15}: {all[y]:^9}\")\n",
        "\n",
        "  all = {}\n",
        "  for ls, y in zip(t_abstracts_ls, t_labels):\n",
        "    for x in ls:\n",
        "      v = all.get((x, y) , 0)\n",
        "      all[(x, y)] = v+1\n",
        "\n",
        "  ps = []\n",
        "  ng = []\n",
        "\n",
        "  for x in sorte(all):\n",
        "    if x[1] == 1:\n",
        "      ps.append(x)\n",
        "    else:\n",
        "      ng.append(x)\n",
        "\n",
        "  x = []\n",
        "  x_text = []\n",
        "  y = []\n",
        "  y_text = []\n",
        "\n",
        "  for ps ,ng in zip(ps, ng):\n",
        "    x.append(all[ps])\n",
        "    x_text.append(ps[0])\n",
        "    \n",
        "    y.append(all[ng])\n",
        "    y_text.append(ng[0])\n",
        "\n",
        "    # print([[x[0], y[0]], [x[1], y[1]], [ ,  all[y] ] ])\n",
        "\n",
        "  p = pd.DataFrame({\"ps\": np.log(x), \"text\": x_text})\n",
        "  n = pd.DataFrame({\"ng\": np.log(y), \"text\": y_text})\n",
        "  \n",
        "  ps = pd.DataFrame({\"ps\": x, \"text\": x_text})\n",
        "  ng = pd.DataFrame({\"ng\": y, \"text\": y_text})\n",
        "\n",
        "\n",
        "  data = pd.merge( p, n, on='text')\n",
        "  dataN = pd.merge( ps, ng, on='text')\n",
        "\n",
        "  fig, ax = plt.subplots(figsize = (8, 8))\n",
        "\n",
        "  # np.log(data['ps'])\n",
        "\n",
        "  # Plot a dot for each pair of words\n",
        "  ax.scatter(data['ps'], data['ng'])  \n",
        "\n",
        "  # assign axis labels\n",
        "  plt.xlabel(\"Log Positive count\")\n",
        "  plt.ylabel(\"Log Negative count\")\n",
        "\n",
        "  # Add the word as the label at the same position as you added the points just before\n",
        "  for i in range(0, 10):\n",
        "      ax.annotate(data.loc[i,'text'], (data.loc[i,'ps'] , data.loc[i,'ng'] + 0.1 ), fontsize=12)\n",
        "\n",
        "  # data.loc[2,'text']\n",
        "\n",
        "  # ax.plot([0, 9], [0, 9], color = 'red') # Plot the red line that divides the 2 areas.\n",
        "\n",
        "\n",
        "  print(plt.show())\n",
        "  print(\"\\nBY ps / 1 \\n\")\n",
        "  print(dataN.head(50).sort_values('ps', ascending=False))\n",
        "\n",
        "  print(\"-----\"*20)\n",
        "  \n",
        "  print(\"\\n BY ng / 0 \\n\")\n",
        "  print(dataN.head(50).sort_values('ng', ascending=False))\n",
        "  print(\"-----\"*20)\n",
        "  \n",
        "  dataN['sum'] = dataN['ps'] + dataN['ng']\n",
        "  print(\"\\n BY freq of word\\n\")\n",
        "  print(dataN.head(50).sort_values('sum', ascending=False))\n",
        "\n",
        "  data_melt = dataN.melt(id_vars = 'text', value_vars=['ps','ng'], value_name='count')\n",
        "\n",
        "  sns.barplot(x=\"text\", y=\"count\", hue='variable', data=data_melt.sort_values('count', ascending=False).reset_index())\n",
        "  plt.xlim(-1,12)\n",
        "\n",
        "\n",
        "table(all)\n",
        "\n",
        "data_melt[data_melt['text'] == 'the']"
      ],
      "execution_count": 94,
      "outputs": [
        {
          "output_type": "stream",
          "name": "stdout",
          "text": [
            "0    47\n",
            "1    28\n",
            "Name: decision, dtype: int64\n",
            "         Label: 1           |         Label: 0         \n",
            "------------------------------------------------------------\n",
            "      the      :    333     |       the      :    498   \n",
            "      of       :    209     |        ,       :    393   \n",
            "       .       :    208     |       of       :    378   \n",
            "       ,       :    184     |        .       :    342   \n",
            "      and      :    174     |       and      :    313   \n",
            "      to       :    124     |       in       :    206   \n",
            "      in       :    118     |       to       :    194   \n",
            "       a       :     75     |        a       :    154   \n",
            "       -       :     70     |        -       :    141   \n",
            "   decision    :     65     |       is       :    108   \n",
            "      is       :     57     |       for      :    92    \n",
            "      for      :     52     |      this      :    80    \n",
            " intelligence  :     42     |        (       :    80    \n",
            "    making     :     42     |        )       :    80    \n",
            "  artificial   :     41     |   artificial   :    69    \n",
            "      are      :     40     |       are      :    69    \n",
            "      on       :     40     |    decision    :    67    \n",
            "     this      :     38     |  intelligence  :    66    \n",
            "     based     :     34     |     making     :    65    \n",
            " optimization  :     33     |  optimization  :    63    \n"
          ]
        },
        {
          "output_type": "display_data",
          "data": {
            "image/png": "[encoded data removed]",
            "text/plain": [
              "<Figure size 576x576 with 1 Axes>"
            ]
          },
          "metadata": {}
        },
        {
          "output_type": "stream",
          "name": "stdout",
          "text": [
            "None\n",
            "\n",
            "BY ps / 1 \n",
            "\n",
            "     ps          text   ng\n",
            "0   333           the  498\n",
            "1   209            of  378\n",
            "2   208             .  342\n",
            "3   184             ,  393\n",
            "4   174           and  313\n",
            "5   124            to  194\n",
            "6   118            in  206\n",
            "7    75             a  154\n",
            "8    70             -  141\n",
            "9    65      decision   67\n",
            "10   57            is  108\n",
            "11   52           for   92\n",
            "13   42        making   65\n",
            "12   42  intelligence   66\n",
            "14   41    artificial   69\n",
            "15   40           are   69\n",
            "16   40            on   56\n",
            "17   38          this   80\n",
            "18   34         based   35\n",
            "19   33  optimization   63\n",
            "20   31            by   36\n",
            "21   31          data   32\n",
            "22   29             )   80\n",
            "23   29          with   45\n",
            "25   28          that   46\n",
            "24   28            an   38\n",
            "26   27            as   52\n",
            "27   27             (   80\n",
            "28   26           can   24\n",
            "29   26        system   44\n",
            "30   25       process   27\n",
            "31   25         model   14\n",
            "32   25            be   26\n",
            "33   22           ##s   40\n",
            "34   21            it   33\n",
            "35   21         study   18\n",
            "37   17     algorithm   23\n",
            "36   17      learning   22\n",
            "38   16          have   19\n",
            "39   16           has   25\n",
            "40   15       machine   16\n",
            "41   15           use   20\n",
            "42   15         paper   22\n",
            "43   15      proposed   15\n",
            "44   15       results   20\n",
            "45   15          from   17\n",
            "46   15  construction    6\n",
            "47   14            ai   54\n",
            "48   13         ##ing    7\n",
            "49   13          used   19\n",
            "----------------------------------------------------------------------------------------------------\n",
            "\n",
            " BY ng / 0 \n",
            "\n",
            "     ps          text   ng\n",
            "0   333           the  498\n",
            "3   184             ,  393\n",
            "1   209            of  378\n",
            "2   208             .  342\n",
            "4   174           and  313\n",
            "6   118            in  206\n",
            "5   124            to  194\n",
            "7    75             a  154\n",
            "8    70             -  141\n",
            "10   57            is  108\n",
            "11   52           for   92\n",
            "17   38          this   80\n",
            "27   27             (   80\n",
            "22   29             )   80\n",
            "14   41    artificial   69\n",
            "15   40           are   69\n",
            "9    65      decision   67\n",
            "12   42  intelligence   66\n",
            "13   42        making   65\n",
            "19   33  optimization   63\n",
            "16   40            on   56\n",
            "47   14            ai   54\n",
            "26   27            as   52\n",
            "25   28          that   46\n",
            "23   29          with   45\n",
            "29   26        system   44\n",
            "33   22           ##s   40\n",
            "24   28            an   38\n",
            "20   31            by   36\n",
            "18   34         based   35\n",
            "34   21            it   33\n",
            "21   31          data   32\n",
            "30   25       process   27\n",
            "32   25            be   26\n",
            "39   16           has   25\n",
            "28   26           can   24\n",
            "37   17     algorithm   23\n",
            "36   17      learning   22\n",
            "42   15         paper   22\n",
            "41   15           use   20\n",
            "44   15       results   20\n",
            "38   16          have   19\n",
            "49   13          used   19\n",
            "35   21         study   18\n",
            "45   15          from   17\n",
            "40   15       machine   16\n",
            "43   15      proposed   15\n",
            "31   25         model   14\n",
            "48   13         ##ing    7\n",
            "46   15  construction    6\n",
            "----------------------------------------------------------------------------------------------------\n",
            "\n",
            " BY freq of word\n",
            "\n",
            "     ps          text   ng  sum\n",
            "0   333           the  498  831\n",
            "1   209            of  378  587\n",
            "3   184             ,  393  577\n",
            "2   208             .  342  550\n",
            "4   174           and  313  487\n",
            "6   118            in  206  324\n",
            "5   124            to  194  318\n",
            "7    75             a  154  229\n",
            "8    70             -  141  211\n",
            "10   57            is  108  165\n",
            "11   52           for   92  144\n",
            "9    65      decision   67  132\n",
            "17   38          this   80  118\n",
            "14   41    artificial   69  110\n",
            "15   40           are   69  109\n",
            "22   29             )   80  109\n",
            "12   42  intelligence   66  108\n",
            "13   42        making   65  107\n",
            "27   27             (   80  107\n",
            "16   40            on   56   96\n",
            "19   33  optimization   63   96\n",
            "26   27            as   52   79\n",
            "23   29          with   45   74\n",
            "25   28          that   46   74\n",
            "29   26        system   44   70\n",
            "18   34         based   35   69\n",
            "47   14            ai   54   68\n",
            "20   31            by   36   67\n",
            "24   28            an   38   66\n",
            "21   31          data   32   63\n",
            "33   22           ##s   40   62\n",
            "34   21            it   33   54\n",
            "30   25       process   27   52\n",
            "32   25            be   26   51\n",
            "28   26           can   24   50\n",
            "39   16           has   25   41\n",
            "37   17     algorithm   23   40\n",
            "36   17      learning   22   39\n",
            "35   21         study   18   39\n",
            "31   25         model   14   39\n",
            "42   15         paper   22   37\n",
            "38   16          have   19   35\n",
            "41   15           use   20   35\n",
            "44   15       results   20   35\n",
            "45   15          from   17   32\n",
            "49   13          used   19   32\n",
            "40   15       machine   16   31\n",
            "43   15      proposed   15   30\n",
            "46   15  construction    6   21\n",
            "48   13         ##ing    7   20\n"
          ]
        },
        {
          "output_type": "execute_result",
          "data": {
            "text/html": [
              "<div>\n",
              "<style scoped>\n",
              "    .dataframe tbody tr th:only-of-type {\n",
              "        vertical-align: middle;\n",
              "    }\n",
              "\n",
              "    .dataframe tbody tr th {\n",
              "        vertical-align: top;\n",
              "    }\n",
              "\n",
              "    .dataframe thead th {\n",
              "        text-align: right;\n",
              "    }\n",
              "</style>\n",
              "<table border=\"1\" class=\"dataframe\">\n",
              "  <thead>\n",
              "    <tr style=\"text-align: right;\">\n",
              "      <th></th>\n",
              "      <th>text</th>\n",
              "      <th>variable</th>\n",
              "      <th>count</th>\n",
              "    </tr>\n",
              "  </thead>\n",
              "  <tbody>\n",
              "    <tr>\n",
              "      <th>0</th>\n",
              "      <td>the</td>\n",
              "      <td>ps</td>\n",
              "      <td>333</td>\n",
              "    </tr>\n",
              "    <tr>\n",
              "      <th>701</th>\n",
              "      <td>the</td>\n",
              "      <td>ng</td>\n",
              "      <td>498</td>\n",
              "    </tr>\n",
              "  </tbody>\n",
              "</table>\n",
              "</div>"
            ],
            "text/plain": [
              "    text variable  count\n",
              "0    the       ps    333\n",
              "701  the       ng    498"
            ]
          },
          "metadata": {},
          "execution_count": 94
        },
        {
          "output_type": "display_data",
          "data": {
            "image/png": "[encoded data removed]",
            "text/plain": [
              "<Figure size 720x360 with 1 Axes>"
            ]
          },
          "metadata": {}
        }
      ]
    },
    {
      "cell_type": "markdown",
      "metadata": {
        "id": "0_iV5Zb_lozq"
      },
      "source": [
        "scibert"
      ]
    },
    {
      "cell_type": "code",
      "metadata": {
        "colab": {
          "base_uri": "https://localhost:8080/",
          "height": 1000
        },
        "id": "dgO0oyfdlc-T",
        "outputId": "b63822c2-1d8d-4225-9c3f-633d383dc17d"
      },
      "source": [
        "def sorte(x, reverse = True):\n",
        "  return dict(sorted(x.items(), key=lambda item: item[1], reverse=reverse))\n",
        "\n",
        "t_abstracts_ls = [scibert_tokenizer.tokenize(x) for x in t_abstracts]\n",
        "\n",
        "print(t_labels.value_counts())\n",
        "# Number of Words\n",
        "all = {}\n",
        "for ls in t_abstracts_ls:\n",
        "  for x in ls:\n",
        "    v = all.get(x, 0)\n",
        "    all[x] = v+1\n",
        "\n",
        "\n",
        "  # Number of Words of labels (0,1)\n",
        "\n",
        "def table(all):\n",
        "  all = {}\n",
        "  for ls, y in zip(t_abstracts_ls, t_labels):\n",
        "    for x in ls:\n",
        "      v = all.get((x, y) , 0)\n",
        "      all[(x, y)] = v+1\n",
        "\n",
        "  ps = []\n",
        "  ng = []\n",
        "  \n",
        "  for x in sorte(all):\n",
        "    if x[1] == 1:\n",
        "      ps.append(x)\n",
        "    else:\n",
        "      ng.append(x)\n",
        "  \n",
        "\n",
        "  print(f\"{'Label: 1':^27} | {'Label: 0':^25}\")\n",
        "  print(f\"{'-'*60:^50}\")\n",
        "  k = 0\n",
        "  for x,y in zip(ps, ng):\n",
        "    k+=1\n",
        "    if k > 20: break;\n",
        "    print(f\"{x[0]:^15}: {all[x]:^10} | {y[0]:^15}: {all[y]:^9}\")\n",
        "\n",
        "  all = {}\n",
        "  for ls, y in zip(t_abstracts_ls, t_labels):\n",
        "    for x in ls:\n",
        "      v = all.get((x, y) , 0)\n",
        "      all[(x, y)] = v+1\n",
        "\n",
        "  ps = []\n",
        "  ng = []\n",
        "\n",
        "  for x in sorte(all):\n",
        "    if x[1] == 1:\n",
        "      ps.append(x)\n",
        "    else:\n",
        "      ng.append(x)\n",
        "\n",
        "  x = []\n",
        "  x_text = []\n",
        "  y = []\n",
        "  y_text = []\n",
        "\n",
        "  for ps ,ng in zip(ps, ng):\n",
        "    x.append(all[ps])\n",
        "    x_text.append(ps[0])\n",
        "    \n",
        "    y.append(all[ng])\n",
        "    y_text.append(ng[0])\n",
        "\n",
        "    # print([[x[0], y[0]], [x[1], y[1]], [ ,  all[y] ] ])\n",
        "\n",
        "  p = pd.DataFrame({\"ps\": np.log(x), \"text\": x_text})\n",
        "  n = pd.DataFrame({\"ng\": np.log(y), \"text\": y_text})\n",
        "  \n",
        "  ps = pd.DataFrame({\"ps\": x, \"text\": x_text})\n",
        "  ng = pd.DataFrame({\"ng\": y, \"text\": y_text})\n",
        "\n",
        "\n",
        "  data = pd.merge( p, n, on='text')\n",
        "  dataN = pd.merge( ps, ng, on='text')\n",
        "\n",
        "  fig, ax = plt.subplots(figsize = (8, 8))\n",
        "\n",
        "  # np.log(data['ps'])\n",
        "\n",
        "  # Plot a dot for each pair of words\n",
        "  ax.scatter(data['ps'], data['ng'])  \n",
        "\n",
        "  # assign axis labels\n",
        "  plt.xlabel(\"Log Positive count\")\n",
        "  plt.ylabel(\"Log Negative count\")\n",
        "\n",
        "  # Add the word as the label at the same position as you added the points just before\n",
        "  for i in range(0, 10):\n",
        "      ax.annotate(data.loc[i,'text'], (data.loc[i,'ps'] , data.loc[i,'ng'] + 0.1 ), fontsize=12)\n",
        "\n",
        "  # data.loc[2,'text']\n",
        "\n",
        "  # ax.plot([0, 9], [0, 9], color = 'red') # Plot the red line that divides the 2 areas.\n",
        "\n",
        "\n",
        "  print(plt.show())\n",
        "  print(\"\\nBY ps / 1 \\n\")\n",
        "  print(dataN.head(50).sort_values('ps', ascending=False))\n",
        "\n",
        "  print(\"-----\"*20)\n",
        "  \n",
        "  print(\"\\n BY ng / 0 \\n\")\n",
        "  print(dataN.head(50).sort_values('ng', ascending=False))\n",
        "  print(\"-----\"*20)\n",
        "  \n",
        "  dataN['sum'] = dataN['ps'] + dataN['ng']\n",
        "  print(\"\\n BY freq of word\\n\")\n",
        "  print(dataN.head(50).sort_values('sum', ascending=False))\n",
        "\n",
        "  data_melt = dataN.melt(id_vars = 'text', value_vars=['ps','ng'], value_name='count')\n",
        "\n",
        "  sns.barplot(x=\"text\", y=\"count\", hue='variable', data=data_melt.sort_values('count', ascending=False).reset_index())\n",
        "  plt.xlim(-1,12)\n",
        "\n",
        "table(all)"
      ],
      "execution_count": 95,
      "outputs": [
        {
          "output_type": "stream",
          "name": "stdout",
          "text": [
            "0    47\n",
            "1    28\n",
            "Name: decision, dtype: int64\n",
            "         Label: 1           |         Label: 0         \n",
            "------------------------------------------------------------\n",
            "      the      :    333     |       the      :    498   \n",
            "      of       :    209     |        ,       :    393   \n",
            "       .       :    208     |       of       :    378   \n",
            "       ,       :    184     |        .       :    342   \n",
            "      and      :    174     |       and      :    313   \n",
            "      to       :    124     |       in       :    202   \n",
            "      in       :    115     |       to       :    193   \n",
            "       a       :     75     |        a       :    154   \n",
            "       -       :     70     |        -       :    141   \n",
            "   decision    :     65     |       is       :    107   \n",
            "      is       :     57     |       for      :    92    \n",
            "      for      :     52     |      this      :    80    \n",
            " intelligence  :     42     |        (       :    80    \n",
            "    making     :     42     |        )       :    80    \n",
            "  artificial   :     41     |   artificial   :    69    \n",
            "      are      :     40     |       are      :    69    \n",
            "      on       :     39     |    decision    :    67    \n",
            "     this      :     38     |  intelligence  :    66    \n",
            "     based     :     34     |     making     :    65    \n",
            " optimization  :     33     |  optimization  :    63    \n"
          ]
        },
        {
          "output_type": "display_data",
          "data": {
            "image/png": "[encoded data removed]",
            "text/plain": [
              "<Figure size 576x576 with 1 Axes>"
            ]
          },
          "metadata": {}
        },
        {
          "output_type": "stream",
          "name": "stdout",
          "text": [
            "None\n",
            "\n",
            "BY ps / 1 \n",
            "\n",
            "     ps          text   ng\n",
            "0   333           the  498\n",
            "1   209            of  378\n",
            "2   208             .  342\n",
            "3   184             ,  393\n",
            "4   174           and  313\n",
            "5   124            to  193\n",
            "6   115            in  202\n",
            "7    75             a  154\n",
            "8    70             -  141\n",
            "9    65      decision   67\n",
            "10   57            is  107\n",
            "11   52           for   92\n",
            "13   42        making   65\n",
            "12   42  intelligence   66\n",
            "14   41    artificial   69\n",
            "15   40           are   69\n",
            "16   39            on   56\n",
            "17   38          this   80\n",
            "18   34         based   35\n",
            "19   33  optimization   63\n",
            "20   31            by   36\n",
            "21   29             )   80\n",
            "22   29          with   45\n",
            "23   28          that   46\n",
            "24   28          data   29\n",
            "27   27             (   80\n",
            "25   27            as   52\n",
            "26   27            an   38\n",
            "29   26        system   44\n",
            "28   26           can   24\n",
            "30   25       process   27\n",
            "31   25         model   14\n",
            "32   25            be   26\n",
            "33   23           ##s   28\n",
            "34   21            it   33\n",
            "35   21         study   18\n",
            "36   17      learning   22\n",
            "37   17     algorithm   21\n",
            "39   16           has   25\n",
            "38   16          have   19\n",
            "40   15       machine   16\n",
            "41   15           use   20\n",
            "42   15         paper   22\n",
            "43   15      proposed   15\n",
            "44   15       results   20\n",
            "45   15          from   17\n",
            "46   15  construction    6\n",
            "47   14            ai   54\n",
            "48   14         water    1\n",
            "49   13          used   19\n",
            "----------------------------------------------------------------------------------------------------\n",
            "\n",
            " BY ng / 0 \n",
            "\n",
            "     ps          text   ng\n",
            "0   333           the  498\n",
            "3   184             ,  393\n",
            "1   209            of  378\n",
            "2   208             .  342\n",
            "4   174           and  313\n",
            "6   115            in  202\n",
            "5   124            to  193\n",
            "7    75             a  154\n",
            "8    70             -  141\n",
            "10   57            is  107\n",
            "11   52           for   92\n",
            "17   38          this   80\n",
            "27   27             (   80\n",
            "21   29             )   80\n",
            "14   41    artificial   69\n",
            "15   40           are   69\n",
            "9    65      decision   67\n",
            "12   42  intelligence   66\n",
            "13   42        making   65\n",
            "19   33  optimization   63\n",
            "16   39            on   56\n",
            "47   14            ai   54\n",
            "25   27            as   52\n",
            "23   28          that   46\n",
            "22   29          with   45\n",
            "29   26        system   44\n",
            "26   27            an   38\n",
            "20   31            by   36\n",
            "18   34         based   35\n",
            "34   21            it   33\n",
            "24   28          data   29\n",
            "33   23           ##s   28\n",
            "30   25       process   27\n",
            "32   25            be   26\n",
            "39   16           has   25\n",
            "28   26           can   24\n",
            "42   15         paper   22\n",
            "36   17      learning   22\n",
            "37   17     algorithm   21\n",
            "41   15           use   20\n",
            "44   15       results   20\n",
            "38   16          have   19\n",
            "49   13          used   19\n",
            "35   21         study   18\n",
            "45   15          from   17\n",
            "40   15       machine   16\n",
            "43   15      proposed   15\n",
            "31   25         model   14\n",
            "46   15  construction    6\n",
            "48   14         water    1\n",
            "----------------------------------------------------------------------------------------------------\n",
            "\n",
            " BY freq of word\n",
            "\n",
            "     ps          text   ng  sum\n",
            "0   333           the  498  831\n",
            "1   209            of  378  587\n",
            "3   184             ,  393  577\n",
            "2   208             .  342  550\n",
            "4   174           and  313  487\n",
            "5   124            to  193  317\n",
            "6   115            in  202  317\n",
            "7    75             a  154  229\n",
            "8    70             -  141  211\n",
            "10   57            is  107  164\n",
            "11   52           for   92  144\n",
            "9    65      decision   67  132\n",
            "17   38          this   80  118\n",
            "14   41    artificial   69  110\n",
            "21   29             )   80  109\n",
            "15   40           are   69  109\n",
            "12   42  intelligence   66  108\n",
            "13   42        making   65  107\n",
            "27   27             (   80  107\n",
            "19   33  optimization   63   96\n",
            "16   39            on   56   95\n",
            "25   27            as   52   79\n",
            "22   29          with   45   74\n",
            "23   28          that   46   74\n",
            "29   26        system   44   70\n",
            "18   34         based   35   69\n",
            "47   14            ai   54   68\n",
            "20   31            by   36   67\n",
            "26   27            an   38   65\n",
            "24   28          data   29   57\n",
            "34   21            it   33   54\n",
            "30   25       process   27   52\n",
            "32   25            be   26   51\n",
            "33   23           ##s   28   51\n",
            "28   26           can   24   50\n",
            "39   16           has   25   41\n",
            "36   17      learning   22   39\n",
            "35   21         study   18   39\n",
            "31   25         model   14   39\n",
            "37   17     algorithm   21   38\n",
            "42   15         paper   22   37\n",
            "38   16          have   19   35\n",
            "41   15           use   20   35\n",
            "44   15       results   20   35\n",
            "45   15          from   17   32\n",
            "49   13          used   19   32\n",
            "40   15       machine   16   31\n",
            "43   15      proposed   15   30\n",
            "46   15  construction    6   21\n",
            "48   14         water    1   15\n"
          ]
        },
        {
          "output_type": "display_data",
          "data": {
            "image/png": "[encoded data removed]",
            "text/plain": [
              "<Figure size 720x360 with 1 Axes>"
            ]
          },
          "metadata": {}
        }
      ]
    }
  ]
}